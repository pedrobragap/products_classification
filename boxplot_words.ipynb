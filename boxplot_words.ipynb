{
 "cells": [
  {
   "cell_type": "code",
   "execution_count": 1,
   "metadata": {},
   "outputs": [],
   "source": [
    "import pandas as pd"
   ]
  },
  {
   "cell_type": "code",
   "execution_count": 2,
   "metadata": {},
   "outputs": [],
   "source": [
    "df = pd.read_csv('produtos_tbl_202102261324.csv', sep=';')"
   ]
  },
  {
   "cell_type": "code",
   "execution_count": 3,
   "metadata": {},
   "outputs": [],
   "source": [
    "df_desc = df['descricao_item']"
   ]
  },
  {
   "cell_type": "code",
   "execution_count": 4,
   "metadata": {},
   "outputs": [
    {
     "data": {
      "text/plain": [
       "0         - SANDALIA NEW AMAZONAS RETO CAVALERA V_18 FEM...\n",
       "1         - BETAISTINA DICLOR 24MG 30 CPS / GEN Diclorid...\n",
       "2                                  - AGUA-RAZ 900ML (VELOZ)\n",
       "3         - DESLORATADINA 0,5MG/ML XPE VD 60ML / GEN DES...\n",
       "4         - ACETILCISTEINA 200MG/5G 16 ENV 5G / GEN ACET...\n",
       "                                ...                        \n",
       "339483                                ZINCO 1M ACO CEARENSE\n",
       "339484    ZMP-3002203 - PARAFUSO DA RODA TRAZEIRO 22X98 ...\n",
       "339485    ZMP-4002229 - PARAFUSO DA RODA DIANTEIRA 22X77...\n",
       "339486                                     ZOO MAIS S 30 KG\n",
       "339487       ZUC-ZL2053 - TERMINAL DE DIRECAO RDIREITA 28MM\n",
       "Name: descricao_item, Length: 339488, dtype: object"
      ]
     },
     "execution_count": 4,
     "metadata": {},
     "output_type": "execute_result"
    }
   ],
   "source": [
    "df_desc"
   ]
  },
  {
   "cell_type": "code",
   "execution_count": 19,
   "metadata": {},
   "outputs": [],
   "source": [
    "len_words = []\n",
    "for item in range(len(df_desc)):\n",
    "    a = df_desc.iloc[item].split(' ')\n",
    "    a = [x for x in a if x]    \n",
    "    len_words.append(len(a))"
   ]
  },
  {
   "cell_type": "code",
   "execution_count": 20,
   "metadata": {},
   "outputs": [
    {
     "data": {
      "image/png": "[encoded data removed]",
      "text/plain": [
       "<Figure size 720x504 with 1 Axes>"
      ]
     },
     "metadata": {
      "needs_background": "light"
     },
     "output_type": "display_data"
    }
   ],
   "source": [
    "# Import libraries \n",
    "import matplotlib.pyplot as plt \n",
    "import numpy as np \n",
    "  \n",
    "  \n",
    "# Creating dataset \n",
    "\n",
    "  \n",
    "fig = plt.figure(figsize =(10, 7)) \n",
    "  \n",
    "# Creating plot \n",
    "plt.boxplot(len_words) \n",
    "  \n",
    "# show plot \n",
    "plt.show() "
   ]
  },
  {
   "cell_type": "code",
   "execution_count": null,
   "metadata": {},
   "outputs": [],
   "source": []
  }
 ],
 "metadata": {
  "kernelspec": {
   "display_name": "Python 3",
   "language": "python",
   "name": "python3"
  },
  "language_info": {
   "codemirror_mode": {
    "name": "ipython",
    "version": 3
   },
   "file_extension": ".py",
   "mimetype": "text/x-python",
   "name": "python",
   "nbconvert_exporter": "python",
   "pygments_lexer": "ipython3",
   "version": "3.8.5"
  }
 },
 "nbformat": 4,
 "nbformat_minor": 4
}
