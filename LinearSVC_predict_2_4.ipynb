{
 "cells": [
  {
   "cell_type": "code",
   "execution_count": 1,
   "source": [
    "!pip install nltk\n",
    "import nltk\n",
    "nltk.download('punkt')\n",
    "nltk.download('stopwords')\n",
    "nltk.download('rslp')\n",
    "stopwords = set(nltk.corpus.stopwords.words('portuguese'))"
   ],
   "outputs": [
    {
     "output_type": "stream",
     "name": "stdout",
     "text": [
      "Requirement already satisfied: nltk in /home/pedrox/.local/lib/python3.9/site-packages (3.6.2)\n",
      "Requirement already satisfied: click in /usr/lib/python3/dist-packages (from nltk) (7.1.2)\n",
      "Requirement already satisfied: tqdm in /home/pedrox/.local/lib/python3.9/site-packages (from nltk) (4.61.2)\n",
      "Requirement already satisfied: joblib in /home/pedrox/.local/lib/python3.9/site-packages (from nltk) (1.0.1)\n",
      "Requirement already satisfied: regex in /home/pedrox/.local/lib/python3.9/site-packages (from nltk) (2021.7.6)\n"
     ]
    },
    {
     "output_type": "stream",
     "name": "stderr",
     "text": [
      "[nltk_data] Downloading package punkt to /home/pedrox/nltk_data...\n",
      "[nltk_data]   Package punkt is already up-to-date!\n",
      "[nltk_data] Downloading package stopwords to /home/pedrox/nltk_data...\n",
      "[nltk_data]   Package stopwords is already up-to-date!\n",
      "[nltk_data] Downloading package rslp to /home/pedrox/nltk_data...\n",
      "[nltk_data]   Package rslp is already up-to-date!\n"
     ]
    }
   ],
   "metadata": {}
  },
  {
   "cell_type": "code",
   "execution_count": 2,
   "source": [
    "!pip install pandas\n",
    "import pandas as pd\n",
    "df = pd.read_csv('./data_cleaning.csv',sep=';')\n",
    "#df = df.drop(columns=['index'])\n",
    "df[\"ncm\"] = df[\"ncm\"].astype(str)\n",
    "for i in range(len(df)):\n",
    "  if len(df[\"ncm\"].iloc[i]) < 8:\n",
    "    df[\"ncm\"].iloc[i] = \"0\"+ df[\"ncm\"].iloc[i]\n",
    "df['ncm_in'] = df['ncm'].astype(str).str[:2]\n",
    "df['ncm_out'] = df['ncm'].astype(str).str[2:4]\n",
    "df = df.drop(columns=['Unnamed: 0','ncm'])\n",
    "\n",
    "df = df.dropna()"
   ],
   "outputs": [
    {
     "output_type": "stream",
     "name": "stdout",
     "text": [
      "Requirement already satisfied: pandas in /home/pedrox/.local/lib/python3.9/site-packages (1.3.1)\n",
      "Requirement already satisfied: numpy>=1.17.3 in /home/pedrox/.local/lib/python3.9/site-packages (from pandas) (1.21.1)\n",
      "Requirement already satisfied: python-dateutil>=2.7.3 in /usr/lib/python3/dist-packages (from pandas) (2.8.1)\n",
      "Requirement already satisfied: pytz>=2017.3 in /usr/lib/python3/dist-packages (from pandas) (2021.1)\n"
     ]
    },
    {
     "output_type": "stream",
     "name": "stderr",
     "text": [
      "/home/pedrox/.local/lib/python3.9/site-packages/pandas/core/indexing.py:1732: SettingWithCopyWarning: \n",
      "A value is trying to be set on a copy of a slice from a DataFrame\n",
      "\n",
      "See the caveats in the documentation: https://pandas.pydata.org/pandas-docs/stable/user_guide/indexing.html#returning-a-view-versus-a-copy\n",
      "  self._setitem_single_block(indexer, value, name)\n"
     ]
    }
   ],
   "metadata": {}
  },
  {
   "cell_type": "code",
   "execution_count": 3,
   "source": [
    "!pip install matplotlib\n",
    "import matplotlib.pyplot as plt\n",
    "df_group = df.groupby('ncm_out').count()\n",
    "df_group\n",
    "df_group.plot.bar( figsize=(15, 5))"
   ],
   "outputs": [
    {
     "output_type": "stream",
     "name": "stdout",
     "text": [
      "Requirement already satisfied: matplotlib in /home/pedrox/.local/lib/python3.9/site-packages (3.4.2)\n",
      "Requirement already satisfied: pillow>=6.2.0 in /usr/lib/python3/dist-packages (from matplotlib) (8.1.2)\n",
      "Requirement already satisfied: python-dateutil>=2.7 in /usr/lib/python3/dist-packages (from matplotlib) (2.8.1)\n",
      "Requirement already satisfied: numpy>=1.16 in /home/pedrox/.local/lib/python3.9/site-packages (from matplotlib) (1.21.1)\n",
      "Requirement already satisfied: kiwisolver>=1.0.1 in /home/pedrox/.local/lib/python3.9/site-packages (from matplotlib) (1.3.1)\n",
      "Requirement already satisfied: cycler>=0.10 in /home/pedrox/.local/lib/python3.9/site-packages (from matplotlib) (0.10.0)\n",
      "Requirement already satisfied: pyparsing>=2.2.1 in /home/pedrox/.local/lib/python3.9/site-packages (from matplotlib) (2.4.7)\n",
      "Requirement already satisfied: six in /usr/lib/python3/dist-packages (from cycler>=0.10->matplotlib) (1.15.0)\n"
     ]
    },
    {
     "output_type": "execute_result",
     "data": {
      "text/plain": [
       "<AxesSubplot:xlabel='ncm_out'>"
      ]
     },
     "metadata": {},
     "execution_count": 3
    },
    {
     "output_type": "display_data",
     "data": {
      "image/png": "[encoded data removed]",
      "text/plain": [
       "<Figure size 1080x360 with 1 Axes>"
      ]
     },
     "metadata": {
      "needs_background": "light"
     }
    }
   ],
   "metadata": {}
  },
  {
   "cell_type": "code",
   "execution_count": 4,
   "source": [
    "over5000 = []\n",
    "median = []\n",
    "less1000 = []\n",
    "\n",
    "for i in range(len(df_group)):\n",
    "    if df_group['descricao_item'].iloc[i] > 5000:\n",
    "        over5000.append(df_group['descricao_item'].index[i])\n",
    "    elif df_group['descricao_item'].iloc[i] < 1000:\n",
    "        less1000.append(df_group['descricao_item'].index[i])\n",
    "    else:\n",
    "        median.append(df_group['descricao_item'].index[i])"
   ],
   "outputs": [],
   "metadata": {}
  },
  {
   "cell_type": "code",
   "execution_count": 5,
   "source": [
    "print(f\"acima de 5000 amostras {len(over5000)}\\nentre 5000 e 1000 {len(median)}\\nabaixo de 1000 {len(less1000)}\")\n"
   ],
   "outputs": [
    {
     "output_type": "stream",
     "name": "stdout",
     "text": [
      "acima de 5000 amostras 17\n",
      "entre 5000 e 1000 14\n",
      "abaixo de 1000 55\n"
     ]
    }
   ],
   "metadata": {}
  },
  {
   "cell_type": "code",
   "execution_count": 6,
   "source": [
    "len(df)"
   ],
   "outputs": [
    {
     "output_type": "execute_result",
     "data": {
      "text/plain": [
       "343240"
      ]
     },
     "metadata": {},
     "execution_count": 6
    }
   ],
   "metadata": {}
  },
  {
   "cell_type": "code",
   "execution_count": 7,
   "source": [
    "#DROP menores que 1000\n",
    "for i in less1000:\n",
    "   df.drop(df.loc[df['ncm_out'] == i].index, inplace=True)"
   ],
   "outputs": [],
   "metadata": {}
  },
  {
   "cell_type": "code",
   "execution_count": 8,
   "source": [
    "len(df)"
   ],
   "outputs": [
    {
     "output_type": "execute_result",
     "data": {
      "text/plain": [
       "334651"
      ]
     },
     "metadata": {},
     "execution_count": 8
    }
   ],
   "metadata": {}
  },
  {
   "cell_type": "code",
   "execution_count": 9,
   "source": [
    "import pandas as pd\n",
    "import numpy as np\n",
    "\n",
    "\n",
    "for i in over5000: \n",
    "    remove_n = len(df.loc[df['ncm_out'] == i ]) - 5000\n",
    "    remove_class = i\n",
    "    # Here you first find the indexes where class is equal to the class you want to drop.\n",
    "    #Then you slice only the first n indexes of this class\n",
    "    index_to_drop = df.index[df['ncm_out'] == remove_class][:remove_n]\n",
    "    #Finally drop those indexes\n",
    "    df = df.drop(index_to_drop)"
   ],
   "outputs": [],
   "metadata": {}
  },
  {
   "cell_type": "code",
   "execution_count": 10,
   "source": [
    "df = df.reset_index()\n",
    "df"
   ],
   "outputs": [
    {
     "output_type": "execute_result",
     "data": {
      "text/html": [
       "<div>\n",
       "<style scoped>\n",
       "    .dataframe tbody tr th:only-of-type {\n",
       "        vertical-align: middle;\n",
       "    }\n",
       "\n",
       "    .dataframe tbody tr th {\n",
       "        vertical-align: top;\n",
       "    }\n",
       "\n",
       "    .dataframe thead th {\n",
       "        text-align: right;\n",
       "    }\n",
       "</style>\n",
       "<table border=\"1\" class=\"dataframe\">\n",
       "  <thead>\n",
       "    <tr style=\"text-align: right;\">\n",
       "      <th></th>\n",
       "      <th>index</th>\n",
       "      <th>descricao_item</th>\n",
       "      <th>ncm_in</th>\n",
       "      <th>ncm_out</th>\n",
       "    </tr>\n",
       "  </thead>\n",
       "  <tbody>\n",
       "    <tr>\n",
       "      <th>0</th>\n",
       "      <td>16</td>\n",
       "      <td>OIL E7 15W GRANEL              DEP</td>\n",
       "      <td>27</td>\n",
       "      <td>10</td>\n",
       "    </tr>\n",
       "    <tr>\n",
       "      <th>1</th>\n",
       "      <td>23</td>\n",
       "      <td>CS K BB  CS TINTA  2L PRETA</td>\n",
       "      <td>32</td>\n",
       "      <td>15</td>\n",
       "    </tr>\n",
       "    <tr>\n",
       "      <th>2</th>\n",
       "      <td>41</td>\n",
       "      <td>GINKGO VITAL MG  CPS   SIM GINKGO BILOBA</td>\n",
       "      <td>39</td>\n",
       "      <td>23</td>\n",
       "    </tr>\n",
       "    <tr>\n",
       "      <th>3</th>\n",
       "      <td>78</td>\n",
       "      <td>CONECTOR XLR LINHA P MACHO NIQ</td>\n",
       "      <td>85</td>\n",
       "      <td>36</td>\n",
       "    </tr>\n",
       "    <tr>\n",
       "      <th>4</th>\n",
       "      <td>166</td>\n",
       "      <td>CONECTOR XLR LINHA P FEMEA NIQ</td>\n",
       "      <td>85</td>\n",
       "      <td>36</td>\n",
       "    </tr>\n",
       "    <tr>\n",
       "      <th>...</th>\n",
       "      <td>...</td>\n",
       "      <td>...</td>\n",
       "      <td>...</td>\n",
       "      <td>...</td>\n",
       "    </tr>\n",
       "    <tr>\n",
       "      <th>125835</th>\n",
       "      <td>343242</td>\n",
       "      <td>ZIN  E   MAQUINA DO VIDRO ESQUERDA PINO ALTO</td>\n",
       "      <td>87</td>\n",
       "      <td>08</td>\n",
       "    </tr>\n",
       "    <tr>\n",
       "      <th>125836</th>\n",
       "      <td>343243</td>\n",
       "      <td>ZINCO 100CM  3,50KG P MT  CP</td>\n",
       "      <td>72</td>\n",
       "      <td>10</td>\n",
       "    </tr>\n",
       "    <tr>\n",
       "      <th>125837</th>\n",
       "      <td>343244</td>\n",
       "      <td>ZMM 9010811   ALTERNADOR 12V AMP</td>\n",
       "      <td>85</td>\n",
       "      <td>11</td>\n",
       "    </tr>\n",
       "    <tr>\n",
       "      <th>125838</th>\n",
       "      <td>343245</td>\n",
       "      <td>ZORDS COM FIGURA E</td>\n",
       "      <td>95</td>\n",
       "      <td>03</td>\n",
       "    </tr>\n",
       "    <tr>\n",
       "      <th>125839</th>\n",
       "      <td>343246</td>\n",
       "      <td>ZUC ZL   TERMINAL DE DIRECAO ESQUERDO</td>\n",
       "      <td>87</td>\n",
       "      <td>08</td>\n",
       "    </tr>\n",
       "  </tbody>\n",
       "</table>\n",
       "<p>125840 rows × 4 columns</p>\n",
       "</div>"
      ],
      "text/plain": [
       "         index                                descricao_item ncm_in ncm_out\n",
       "0           16            OIL E7 15W GRANEL              DEP     27      10\n",
       "1           23                   CS K BB  CS TINTA  2L PRETA     32      15\n",
       "2           41      GINKGO VITAL MG  CPS   SIM GINKGO BILOBA     39      23\n",
       "3           78                CONECTOR XLR LINHA P MACHO NIQ     85      36\n",
       "4          166                CONECTOR XLR LINHA P FEMEA NIQ     85      36\n",
       "...        ...                                           ...    ...     ...\n",
       "125835  343242  ZIN  E   MAQUINA DO VIDRO ESQUERDA PINO ALTO     87      08\n",
       "125836  343243                  ZINCO 100CM  3,50KG P MT  CP     72      10\n",
       "125837  343244              ZMM 9010811   ALTERNADOR 12V AMP     85      11\n",
       "125838  343245                            ZORDS COM FIGURA E     95      03\n",
       "125839  343246         ZUC ZL   TERMINAL DE DIRECAO ESQUERDO     87      08\n",
       "\n",
       "[125840 rows x 4 columns]"
      ]
     },
     "metadata": {},
     "execution_count": 10
    }
   ],
   "metadata": {}
  },
  {
   "cell_type": "code",
   "execution_count": 11,
   "source": [
    "df = df.drop(columns=['index',])"
   ],
   "outputs": [],
   "metadata": {}
  },
  {
   "cell_type": "code",
   "execution_count": 12,
   "source": [
    "df_group_nw = df.groupby('ncm_out').count()\n",
    "df_group_nw\n",
    "df_group_nw.plot.bar( figsize=(15, 5))"
   ],
   "outputs": [
    {
     "output_type": "execute_result",
     "data": {
      "text/plain": [
       "<AxesSubplot:xlabel='ncm_out'>"
      ]
     },
     "metadata": {},
     "execution_count": 12
    },
    {
     "output_type": "display_data",
     "data": {
      "image/png": "[encoded data removed]",
      "text/plain": [
       "<Figure size 1080x360 with 1 Axes>"
      ]
     },
     "metadata": {
      "needs_background": "light"
     }
    }
   ],
   "metadata": {}
  },
  {
   "cell_type": "code",
   "execution_count": 13,
   "source": [
    "palavras_final = []\n",
    "for i in range(len(df['descricao_item'])): \n",
    "    produto = df['descricao_item'].iloc[i]\n",
    "    from string import punctuation\n",
    "    sentencas = nltk.sent_tokenize(produto)\n",
    "    palavras = nltk.word_tokenize(produto.upper())\n",
    "    stemmer = nltk.stem.RSLPStemmer()\n",
    "    palavras_stem = []\n",
    "    for palavra in palavras:\n",
    "        palavras_stem.append(stemmer.stem(palavra))\n",
    "    palavras_sem_stopwords = [palavras_stem for palavras_stem in palavras_stem if palavras_stem not in stopwords]\n",
    "    palavra_final = ' '.join(palavras_sem_stopwords)\n",
    "    palavras_final.append(palavra_final)\n",
    "x = pd.Series(palavras_final)\n",
    "df['descricao_item_clean'] = x"
   ],
   "outputs": [],
   "metadata": {}
  },
  {
   "cell_type": "code",
   "execution_count": 14,
   "source": [
    "df.dropna()"
   ],
   "outputs": [
    {
     "output_type": "execute_result",
     "data": {
      "text/html": [
       "<div>\n",
       "<style scoped>\n",
       "    .dataframe tbody tr th:only-of-type {\n",
       "        vertical-align: middle;\n",
       "    }\n",
       "\n",
       "    .dataframe tbody tr th {\n",
       "        vertical-align: top;\n",
       "    }\n",
       "\n",
       "    .dataframe thead th {\n",
       "        text-align: right;\n",
       "    }\n",
       "</style>\n",
       "<table border=\"1\" class=\"dataframe\">\n",
       "  <thead>\n",
       "    <tr style=\"text-align: right;\">\n",
       "      <th></th>\n",
       "      <th>descricao_item</th>\n",
       "      <th>ncm_in</th>\n",
       "      <th>ncm_out</th>\n",
       "      <th>descricao_item_clean</th>\n",
       "    </tr>\n",
       "  </thead>\n",
       "  <tbody>\n",
       "    <tr>\n",
       "      <th>0</th>\n",
       "      <td>OIL E7 15W GRANEL              DEP</td>\n",
       "      <td>27</td>\n",
       "      <td>10</td>\n",
       "      <td>oil e7 15w granel dep</td>\n",
       "    </tr>\n",
       "    <tr>\n",
       "      <th>1</th>\n",
       "      <td>CS K BB  CS TINTA  2L PRETA</td>\n",
       "      <td>32</td>\n",
       "      <td>15</td>\n",
       "      <td>cs k bb cs tint 2l pret</td>\n",
       "    </tr>\n",
       "    <tr>\n",
       "      <th>2</th>\n",
       "      <td>GINKGO VITAL MG  CPS   SIM GINKGO BILOBA</td>\n",
       "      <td>39</td>\n",
       "      <td>23</td>\n",
       "      <td>ginkg vital mg cp sim ginkg bilob</td>\n",
       "    </tr>\n",
       "    <tr>\n",
       "      <th>3</th>\n",
       "      <td>CONECTOR XLR LINHA P MACHO NIQ</td>\n",
       "      <td>85</td>\n",
       "      <td>36</td>\n",
       "      <td>conec xlr linh p mach niq</td>\n",
       "    </tr>\n",
       "    <tr>\n",
       "      <th>4</th>\n",
       "      <td>CONECTOR XLR LINHA P FEMEA NIQ</td>\n",
       "      <td>85</td>\n",
       "      <td>36</td>\n",
       "      <td>conec xlr linh p feme niq</td>\n",
       "    </tr>\n",
       "    <tr>\n",
       "      <th>...</th>\n",
       "      <td>...</td>\n",
       "      <td>...</td>\n",
       "      <td>...</td>\n",
       "      <td>...</td>\n",
       "    </tr>\n",
       "    <tr>\n",
       "      <th>125835</th>\n",
       "      <td>ZIN  E   MAQUINA DO VIDRO ESQUERDA PINO ALTO</td>\n",
       "      <td>87</td>\n",
       "      <td>08</td>\n",
       "      <td>zin maquin vidr esquerd pin alt</td>\n",
       "    </tr>\n",
       "    <tr>\n",
       "      <th>125836</th>\n",
       "      <td>ZINCO 100CM  3,50KG P MT  CP</td>\n",
       "      <td>72</td>\n",
       "      <td>10</td>\n",
       "      <td>zinc 100cm 3,50kg p mt cp</td>\n",
       "    </tr>\n",
       "    <tr>\n",
       "      <th>125837</th>\n",
       "      <td>ZMM 9010811   ALTERNADOR 12V AMP</td>\n",
       "      <td>85</td>\n",
       "      <td>11</td>\n",
       "      <td>zmm 9010811 altern 12v amp</td>\n",
       "    </tr>\n",
       "    <tr>\n",
       "      <th>125838</th>\n",
       "      <td>ZORDS COM FIGURA E</td>\n",
       "      <td>95</td>\n",
       "      <td>03</td>\n",
       "      <td>zord figur</td>\n",
       "    </tr>\n",
       "    <tr>\n",
       "      <th>125839</th>\n",
       "      <td>ZUC ZL   TERMINAL DE DIRECAO ESQUERDO</td>\n",
       "      <td>87</td>\n",
       "      <td>08</td>\n",
       "      <td>zuc zl term direca esquerd</td>\n",
       "    </tr>\n",
       "  </tbody>\n",
       "</table>\n",
       "<p>125840 rows × 4 columns</p>\n",
       "</div>"
      ],
      "text/plain": [
       "                                      descricao_item ncm_in ncm_out  \\\n",
       "0                 OIL E7 15W GRANEL              DEP     27      10   \n",
       "1                        CS K BB  CS TINTA  2L PRETA     32      15   \n",
       "2           GINKGO VITAL MG  CPS   SIM GINKGO BILOBA     39      23   \n",
       "3                     CONECTOR XLR LINHA P MACHO NIQ     85      36   \n",
       "4                     CONECTOR XLR LINHA P FEMEA NIQ     85      36   \n",
       "...                                              ...    ...     ...   \n",
       "125835  ZIN  E   MAQUINA DO VIDRO ESQUERDA PINO ALTO     87      08   \n",
       "125836                  ZINCO 100CM  3,50KG P MT  CP     72      10   \n",
       "125837              ZMM 9010811   ALTERNADOR 12V AMP     85      11   \n",
       "125838                            ZORDS COM FIGURA E     95      03   \n",
       "125839         ZUC ZL   TERMINAL DE DIRECAO ESQUERDO     87      08   \n",
       "\n",
       "                     descricao_item_clean  \n",
       "0                   oil e7 15w granel dep  \n",
       "1                 cs k bb cs tint 2l pret  \n",
       "2       ginkg vital mg cp sim ginkg bilob  \n",
       "3               conec xlr linh p mach niq  \n",
       "4               conec xlr linh p feme niq  \n",
       "...                                   ...  \n",
       "125835    zin maquin vidr esquerd pin alt  \n",
       "125836          zinc 100cm 3,50kg p mt cp  \n",
       "125837         zmm 9010811 altern 12v amp  \n",
       "125838                         zord figur  \n",
       "125839         zuc zl term direca esquerd  \n",
       "\n",
       "[125840 rows x 4 columns]"
      ]
     },
     "metadata": {},
     "execution_count": 14
    }
   ],
   "metadata": {}
  },
  {
   "cell_type": "code",
   "execution_count": 15,
   "source": [
    "data = [df[\"descricao_item_clean\"], df[\"ncm_in\"]]\n",
    "\n",
    "headers = [\"descricao\", \"ncm_in\"]\n",
    "\n",
    "df_n = pd.concat(data, axis=1, keys=headers)\n"
   ],
   "outputs": [],
   "metadata": {}
  },
  {
   "cell_type": "code",
   "execution_count": 16,
   "source": [
    "!pip install sklearn\n",
    "from sklearn.model_selection import train_test_split\n",
    "from sklearn.feature_extraction.text import TfidfTransformer\n",
    "from sklearn.feature_extraction.text import CountVectorizer\n",
    "from sklearn.preprocessing import LabelEncoder\n",
    "\n",
    "labels = df['ncm_out']\n",
    "text = df_n\n",
    "\n",
    "X_train, X_test, y_train, y_test = train_test_split(text, labels, random_state=0, test_size=0.2)\n",
    "\n",
    "count_vect = CountVectorizer()\n",
    "X_train_counts = count_vect.fit_transform(X_train.descricao)\n",
    "tf_transformer = TfidfTransformer().fit(X_train_counts)\n",
    "X_train_transformed = tf_transformer.transform(X_train_counts)\n",
    "\n",
    "X_test_counts = count_vect.transform(X_test.descricao)\n",
    "X_test_transformed = tf_transformer.transform(X_test_counts)\n",
    "\n",
    "labels_enc = LabelEncoder()\n",
    "y_train_labels_fit = labels_enc.fit(y_train)\n",
    "y_train_lables_trf = labels_enc.transform(y_train)\n",
    "\n",
    "#print(labels.classes_)"
   ],
   "outputs": [
    {
     "output_type": "stream",
     "name": "stdout",
     "text": [
      "Requirement already satisfied: sklearn in /home/pedrox/.local/lib/python3.9/site-packages (0.0)\n",
      "Requirement already satisfied: scikit-learn in /home/pedrox/.local/lib/python3.9/site-packages (from sklearn) (0.24.2)\n",
      "Requirement already satisfied: numpy>=1.13.3 in /home/pedrox/.local/lib/python3.9/site-packages (from scikit-learn->sklearn) (1.21.1)\n",
      "Requirement already satisfied: scipy>=0.19.1 in /home/pedrox/.local/lib/python3.9/site-packages (from scikit-learn->sklearn) (1.7.0)\n",
      "Requirement already satisfied: threadpoolctl>=2.0.0 in /home/pedrox/.local/lib/python3.9/site-packages (from scikit-learn->sklearn) (2.2.0)\n",
      "Requirement already satisfied: joblib>=0.11 in /home/pedrox/.local/lib/python3.9/site-packages (from scikit-learn->sklearn) (1.0.1)\n"
     ]
    }
   ],
   "metadata": {}
  },
  {
   "cell_type": "code",
   "execution_count": 17,
   "source": [
    "import scipy.sparse as sp\n",
    "X_position_train = np.atleast_2d(X_train.ncm_in.astype(int)).T\n",
    "X_train = sp.hstack((X_train_transformed, X_position_train))\n",
    "\n",
    "X_position_test = np.atleast_2d(X_test.ncm_in.astype(int)).T\n",
    "X_test = sp.hstack((X_test_transformed, X_position_test))"
   ],
   "outputs": [],
   "metadata": {}
  },
  {
   "cell_type": "code",
   "execution_count": 18,
   "source": [
    "from sklearn.svm import LinearSVC\n",
    "\n",
    "linear_svc = LinearSVC()\n",
    "clf = linear_svc.fit(X_train,y_train)"
   ],
   "outputs": [
    {
     "output_type": "stream",
     "name": "stderr",
     "text": [
      "/home/pedrox/.local/lib/python3.9/site-packages/sklearn/svm/_base.py:985: ConvergenceWarning: Liblinear failed to converge, increase the number of iterations.\n",
      "  warnings.warn(\"Liblinear failed to converge, increase \"\n"
     ]
    }
   ],
   "metadata": {}
  },
  {
   "cell_type": "code",
   "execution_count": 39,
   "source": [
    "from sklearn import metrics\n",
    "import numpy as np\n",
    "y_test = y_test.astype(int)\n",
    "#p_count = count_vect.transform(list(X_test))\n",
    "#p_tfidf = tf_transformer.transform(p_count)\n",
    "y_pred = clf.predict(X_test)\n",
    "print(metrics.classification_report(y_test,y_pred))"
   ],
   "outputs": [
    {
     "output_type": "stream",
     "name": "stderr",
     "text": [
      "/home/pedrox/.local/lib/python3.9/site-packages/sklearn/metrics/_classification.py:1248: UndefinedMetricWarning: Precision and F-score are ill-defined and being set to 0.0 in labels with no predicted samples. Use `zero_division` parameter to control this behavior.\n",
      "  _warn_prf(average, modifier, msg_start, len(result))\n",
      "/home/pedrox/.local/lib/python3.9/site-packages/sklearn/metrics/_classification.py:1248: UndefinedMetricWarning: Recall and F-score are ill-defined and being set to 0.0 in labels with no true samples. Use `zero_division` parameter to control this behavior.\n",
      "  _warn_prf(average, modifier, msg_start, len(result))\n",
      "/home/pedrox/.local/lib/python3.9/site-packages/sklearn/metrics/_classification.py:1248: UndefinedMetricWarning: Precision and F-score are ill-defined and being set to 0.0 in labels with no predicted samples. Use `zero_division` parameter to control this behavior.\n",
      "  _warn_prf(average, modifier, msg_start, len(result))\n",
      "/home/pedrox/.local/lib/python3.9/site-packages/sklearn/metrics/_classification.py:1248: UndefinedMetricWarning: Recall and F-score are ill-defined and being set to 0.0 in labels with no true samples. Use `zero_division` parameter to control this behavior.\n",
      "  _warn_prf(average, modifier, msg_start, len(result))\n"
     ]
    },
    {
     "output_type": "stream",
     "name": "stdout",
     "text": [
      "              precision    recall  f1-score   support\n",
      "\n",
      "          01       0.00      0.00      0.00         0\n",
      "          02       0.00      0.00      0.00         0\n",
      "          03       0.00      0.00      0.00         0\n",
      "          04       0.00      0.00      0.00         0\n",
      "          05       0.00      0.00      0.00         0\n",
      "          06       0.00      0.00      0.00         0\n",
      "          07       0.00      0.00      0.00         0\n",
      "          08       0.00      0.00      0.00         0\n",
      "          09       0.00      0.00      0.00         0\n",
      "           1       0.00      0.00      0.00       977\n",
      "          10       0.85      0.77      0.81       964\n",
      "          11       0.84      0.71      0.77      1025\n",
      "          12       0.18      0.94      0.30       976\n",
      "          13       0.83      0.65      0.73       901\n",
      "          14       0.80      0.66      0.72      1049\n",
      "          15       0.88      0.64      0.74       739\n",
      "          16       0.83      0.60      0.69       995\n",
      "          17       0.84      0.83      0.84       970\n",
      "          18       0.90      0.81      0.85      1010\n",
      "          19       0.90      0.72      0.80       701\n",
      "           2       0.00      0.00      0.00       984\n",
      "          20       0.86      0.79      0.82       549\n",
      "          21       0.91      0.82      0.86       957\n",
      "          23       0.76      0.60      0.67       676\n",
      "          24       0.74      0.72      0.73      1014\n",
      "          25       0.63      0.56      0.60       198\n",
      "          26       0.92      0.47      0.62      1000\n",
      "           3       0.00      0.00      0.00       995\n",
      "          36       0.94      0.67      0.78       726\n",
      "          39       0.92      0.91      0.91       289\n",
      "           4       0.00      0.00      0.00      1022\n",
      "          44       0.94      0.82      0.87       439\n",
      "           5       0.00      0.00      0.00      1043\n",
      "           6       0.00      0.00      0.00      1043\n",
      "           7       0.00      0.00      0.00       973\n",
      "           8       0.00      0.00      0.00      1001\n",
      "          81       0.86      0.82      0.84       496\n",
      "          82       0.89      0.78      0.83       227\n",
      "          83       0.95      0.08      0.14       238\n",
      "           9       0.00      0.00      0.00       991\n",
      "\n",
      "    accuracy                           0.46     25168\n",
      "   macro avg       0.45      0.38      0.40     25168\n",
      "weighted avg       0.52      0.46      0.47     25168\n",
      "\n"
     ]
    },
    {
     "output_type": "stream",
     "name": "stderr",
     "text": [
      "/home/pedrox/.local/lib/python3.9/site-packages/sklearn/metrics/_classification.py:1248: UndefinedMetricWarning: Precision and F-score are ill-defined and being set to 0.0 in labels with no predicted samples. Use `zero_division` parameter to control this behavior.\n",
      "  _warn_prf(average, modifier, msg_start, len(result))\n",
      "/home/pedrox/.local/lib/python3.9/site-packages/sklearn/metrics/_classification.py:1248: UndefinedMetricWarning: Recall and F-score are ill-defined and being set to 0.0 in labels with no true samples. Use `zero_division` parameter to control this behavior.\n",
      "  _warn_prf(average, modifier, msg_start, len(result))\n"
     ]
    }
   ],
   "metadata": {}
  },
  {
   "cell_type": "code",
   "execution_count": 38,
   "source": [
    "print(len(list(y_test)))\n",
    "print(len(y_pred))"
   ],
   "outputs": [
    {
     "output_type": "stream",
     "name": "stdout",
     "text": [
      "25168\n",
      "25168\n"
     ]
    }
   ],
   "metadata": {}
  },
  {
   "cell_type": "code",
   "execution_count": null,
   "source": [
    "len(set(y_test) - set(y_pred))"
   ],
   "outputs": [
    {
     "output_type": "execute_result",
     "data": {
      "text/plain": [
       "22"
      ]
     },
     "metadata": {},
     "execution_count": 23
    }
   ],
   "metadata": {}
  },
  {
   "cell_type": "code",
   "execution_count": null,
   "source": [
    "from sklearn.metrics import f1_score\n",
    "metrics.f1_score(y_test, y_pred,average='weighted', labels=np.unique(y_pred))"
   ],
   "outputs": [
    {
     "output_type": "execute_result",
     "data": {
      "text/plain": [
       "0.005327608073172032"
      ]
     },
     "metadata": {},
     "execution_count": 77
    }
   ],
   "metadata": {}
  },
  {
   "cell_type": "code",
   "execution_count": null,
   "source": [
    "import numpy as np\n",
    "from sklearn.metrics import precision_recall_fscore_support\n",
    "precision_recall_fscore_support(y_test, y_pred, average='weighted', labels=np.unique(y_pred))"
   ],
   "outputs": [
    {
     "output_type": "execute_result",
     "data": {
      "text/plain": [
       "(0.00542978368204709, 0.005750109811124865, 0.005327608073172032, None)"
      ]
     },
     "metadata": {},
     "execution_count": 75
    }
   ],
   "metadata": {}
  },
  {
   "cell_type": "code",
   "execution_count": null,
   "source": [
    "https://scikit-learn.org/stable/modules/generated/sklearn.metrics.precision_recall_fscore_support.html"
   ],
   "outputs": [
    {
     "output_type": "error",
     "ename": "SyntaxError",
     "evalue": "invalid syntax (1279775754.py, line 1)",
     "traceback": [
      "\u001b[0;36m  File \u001b[0;32m\"/tmp/ipykernel_9500/1279775754.py\"\u001b[0;36m, line \u001b[0;32m1\u001b[0m\n\u001b[0;31m    https://scikit-learn.org/stable/modules/generated/sklearn.metrics.precision_recall_fscore_support.html\u001b[0m\n\u001b[0m          ^\u001b[0m\n\u001b[0;31mSyntaxError\u001b[0m\u001b[0;31m:\u001b[0m invalid syntax\n"
     ]
    }
   ],
   "metadata": {}
  }
 ],
 "metadata": {
  "interpreter": {
   "hash": "916dbcbb3f70747c44a77c7bcd40155683ae19c65e1c03b4aa3499c5328201f1"
  },
  "kernelspec": {
   "name": "python3",
   "display_name": "Python 3.9.5 64-bit"
  },
  "language_info": {
   "codemirror_mode": {
    "name": "ipython",
    "version": 3
   },
   "file_extension": ".py",
   "mimetype": "text/x-python",
   "name": "python",
   "nbconvert_exporter": "python",
   "pygments_lexer": "ipython3",
   "version": "3.9.5"
  },
  "orig_nbformat": 4
 },
 "nbformat": 4,
 "nbformat_minor": 2
}