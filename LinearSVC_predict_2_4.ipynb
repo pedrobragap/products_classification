{
 "cells": [
  {
   "cell_type": "code",
   "execution_count": 1,
   "source": [
    "!pip install nltk\r\n",
    "import nltk\r\n",
    "nltk.download('punkt')\r\n",
    "nltk.download('stopwords')\r\n",
    "nltk.download('rslp')\r\n",
    "stopwords = set(nltk.corpus.stopwords.words('portuguese'))"
   ],
   "outputs": [
    {
     "output_type": "stream",
     "name": "stdout",
     "text": [
      "Requirement already satisfied: nltk in c:\\users\\pedro\\appdata\\local\\programs\\python\\python38\\lib\\site-packages (3.5)\n",
      "Requirement already satisfied: click in c:\\users\\pedro\\appdata\\local\\programs\\python\\python38\\lib\\site-packages (from nltk) (7.1.2)\n",
      "Requirement already satisfied: joblib in c:\\users\\pedro\\appdata\\local\\programs\\python\\python38\\lib\\site-packages (from nltk) (0.17.0)\n",
      "Requirement already satisfied: regex in c:\\users\\pedro\\appdata\\local\\programs\\python\\python38\\lib\\site-packages (from nltk) (2020.10.28)\n",
      "Requirement already satisfied: tqdm in c:\\users\\pedro\\appdata\\local\\programs\\python\\python38\\lib\\site-packages (from nltk) (4.51.0)\n"
     ]
    },
    {
     "output_type": "stream",
     "name": "stderr",
     "text": [
      "[nltk_data] Downloading package punkt to\n",
      "[nltk_data]     C:\\Users\\Pedro\\AppData\\Roaming\\nltk_data...\n",
      "[nltk_data]   Package punkt is already up-to-date!\n",
      "[nltk_data] Downloading package stopwords to\n",
      "[nltk_data]     C:\\Users\\Pedro\\AppData\\Roaming\\nltk_data...\n",
      "[nltk_data]   Package stopwords is already up-to-date!\n",
      "[nltk_data] Downloading package rslp to\n",
      "[nltk_data]     C:\\Users\\Pedro\\AppData\\Roaming\\nltk_data...\n",
      "[nltk_data]   Package rslp is already up-to-date!\n"
     ]
    }
   ],
   "metadata": {}
  },
  {
   "cell_type": "code",
   "execution_count": 2,
   "source": [
    "!pip install pandas\r\n",
    "import pandas as pd\r\n",
    "df = pd.read_csv('./data_cleaning.csv',sep=';')\r\n",
    "#df = df.drop(columns=['index'])\r\n",
    "df[\"ncm\"] = df[\"ncm\"].astype(str)\r\n",
    "for i in range(len(df)):\r\n",
    "  if len(df[\"ncm\"].iloc[i]) < 8:\r\n",
    "    df[\"ncm\"].iloc[i] = \"0\"+ df[\"ncm\"].iloc[i]\r\n",
    "df['ncm_in'] = df['ncm'].astype(str).str[:2]\r\n",
    "df['ncm_out'] = df['ncm'].astype(str).str[2:4]\r\n",
    "df = df.drop(columns=['Unnamed: 0','ncm'])\r\n",
    "\r\n",
    "df = df.dropna()"
   ],
   "outputs": [
    {
     "output_type": "stream",
     "name": "stdout",
     "text": [
      "Requirement already satisfied: pandas in c:\\users\\pedro\\appdata\\local\\programs\\python\\python38\\lib\\site-packages (1.1.3)\n",
      "Requirement already satisfied: pytz>=2017.2 in c:\\users\\pedro\\appdata\\local\\programs\\python\\python38\\lib\\site-packages (from pandas) (2020.4)\n",
      "Requirement already satisfied: python-dateutil>=2.7.3 in c:\\users\\pedro\\appdata\\local\\programs\\python\\python38\\lib\\site-packages (from pandas) (2.8.1)\n",
      "Requirement already satisfied: numpy>=1.15.4 in c:\\users\\pedro\\appdata\\local\\programs\\python\\python38\\lib\\site-packages (from pandas) (1.19.0)\n",
      "Requirement already satisfied: six>=1.5 in c:\\users\\pedro\\appdata\\roaming\\python\\python38\\site-packages (from python-dateutil>=2.7.3->pandas) (1.15.0)\n"
     ]
    },
    {
     "output_type": "stream",
     "name": "stderr",
     "text": [
      "C:\\Users\\Pedro\\AppData\\Local\\Programs\\Python\\Python38\\lib\\site-packages\\pandas\\core\\indexing.py:670: SettingWithCopyWarning: \n",
      "A value is trying to be set on a copy of a slice from a DataFrame\n",
      "\n",
      "See the caveats in the documentation: https://pandas.pydata.org/pandas-docs/stable/user_guide/indexing.html#returning-a-view-versus-a-copy\n",
      "  iloc._setitem_with_indexer(indexer, value)\n"
     ]
    }
   ],
   "metadata": {}
  },
  {
   "cell_type": "code",
   "execution_count": 3,
   "source": [
    "!pip install matplotlib\r\n",
    "import matplotlib.pyplot as plt\r\n",
    "df_group = df.groupby('ncm_out').count()\r\n",
    "df_group\r\n",
    "df_group.plot.bar( figsize=(15, 5))"
   ],
   "outputs": [
    {
     "output_type": "stream",
     "name": "stdout",
     "text": [
      "Requirement already satisfied: matplotlib in c:\\users\\pedro\\appdata\\local\\programs\\python\\python38\\lib\\site-packages (3.3.3)\n",
      "Requirement already satisfied: pillow>=6.2.0 in c:\\users\\pedro\\appdata\\local\\programs\\python\\python38\\lib\\site-packages (from matplotlib) (8.0.1)\n",
      "Requirement already satisfied: numpy>=1.15 in c:\\users\\pedro\\appdata\\local\\programs\\python\\python38\\lib\\site-packages (from matplotlib) (1.19.0)\n",
      "Requirement already satisfied: pyparsing!=2.0.4,!=2.1.2,!=2.1.6,>=2.0.3 in c:\\users\\pedro\\appdata\\local\\programs\\python\\python38\\lib\\site-packages (from matplotlib) (2.4.7)\n",
      "Requirement already satisfied: cycler>=0.10 in c:\\users\\pedro\\appdata\\local\\programs\\python\\python38\\lib\\site-packages (from matplotlib) (0.10.0)\n",
      "Requirement already satisfied: kiwisolver>=1.0.1 in c:\\users\\pedro\\appdata\\local\\programs\\python\\python38\\lib\\site-packages (from matplotlib) (1.3.1)\n",
      "Requirement already satisfied: python-dateutil>=2.1 in c:\\users\\pedro\\appdata\\local\\programs\\python\\python38\\lib\\site-packages (from matplotlib) (2.8.1)\n",
      "Requirement already satisfied: six in c:\\users\\pedro\\appdata\\roaming\\python\\python38\\site-packages (from cycler>=0.10->matplotlib) (1.15.0)\n"
     ]
    },
    {
     "output_type": "execute_result",
     "data": {
      "text/plain": [
       "<AxesSubplot:xlabel='ncm_out'>"
      ]
     },
     "metadata": {},
     "execution_count": 3
    },
    {
     "output_type": "display_data",
     "data": {
      "image/png": "[encoded data removed]",
      "text/plain": [
       "<Figure size 1080x360 with 1 Axes>"
      ]
     },
     "metadata": {
      "needs_background": "light"
     }
    }
   ],
   "metadata": {}
  },
  {
   "cell_type": "code",
   "execution_count": 4,
   "source": [
    "over5000 = []\r\n",
    "median = []\r\n",
    "less1000 = []\r\n",
    "\r\n",
    "for i in range(len(df_group)):\r\n",
    "    if df_group['descricao_item'].iloc[i] > 1000:\r\n",
    "        over5000.append(df_group['descricao_item'].index[i])\r\n",
    "    elif df_group['descricao_item'].iloc[i] < 100:\r\n",
    "        less1000.append(df_group['descricao_item'].index[i])\r\n",
    "    else:\r\n",
    "        median.append(df_group['descricao_item'].index[i])"
   ],
   "outputs": [],
   "metadata": {}
  },
  {
   "cell_type": "code",
   "execution_count": 5,
   "source": [
    "print(f\"acima de 1000 amostras {len(over5000)}\\nentre 1000 e 100 {len(median)}\\nabaixo de 100 {len(less1000)}\")\r\n"
   ],
   "outputs": [
    {
     "output_type": "stream",
     "name": "stdout",
     "text": [
      "acima de 1000 amostras 31\n",
      "entre 1000 e 100 22\n",
      "abaixo de 100 33\n"
     ]
    }
   ],
   "metadata": {}
  },
  {
   "cell_type": "code",
   "execution_count": 6,
   "source": [
    "len(df)"
   ],
   "outputs": [
    {
     "output_type": "execute_result",
     "data": {
      "text/plain": [
       "343240"
      ]
     },
     "metadata": {},
     "execution_count": 6
    }
   ],
   "metadata": {}
  },
  {
   "cell_type": "code",
   "execution_count": 7,
   "source": [
    "#DROP menores que 1000\r\n",
    "for i in less1000:\r\n",
    "   df.drop(df.loc[df['ncm_out'] == i].index, inplace=True)"
   ],
   "outputs": [],
   "metadata": {}
  },
  {
   "cell_type": "code",
   "execution_count": 8,
   "source": [
    "len(df)"
   ],
   "outputs": [
    {
     "output_type": "execute_result",
     "data": {
      "text/plain": [
       "342469"
      ]
     },
     "metadata": {},
     "execution_count": 8
    }
   ],
   "metadata": {}
  },
  {
   "cell_type": "code",
   "execution_count": 9,
   "source": [
    "import pandas as pd\r\n",
    "import numpy as np\r\n",
    "\r\n",
    "\r\n",
    "for i in over5000: \r\n",
    "    remove_n = len(df.loc[df['ncm_out'] == i ]) - 1000\r\n",
    "    remove_class = i\r\n",
    "    # Here you first find the indexes where class is equal to the class you want to drop.\r\n",
    "    #Then you slice only the first n indexes of this class\r\n",
    "    index_to_drop = df.index[df['ncm_out'] == remove_class][:remove_n]\r\n",
    "    #Finally drop those indexes\r\n",
    "    df = df.drop(index_to_drop)"
   ],
   "outputs": [],
   "metadata": {}
  },
  {
   "cell_type": "code",
   "execution_count": 10,
   "source": [
    "df = df.reset_index()\r\n",
    "df"
   ],
   "outputs": [
    {
     "output_type": "execute_result",
     "data": {
      "text/html": [
       "<div>\n",
       "<style scoped>\n",
       "    .dataframe tbody tr th:only-of-type {\n",
       "        vertical-align: middle;\n",
       "    }\n",
       "\n",
       "    .dataframe tbody tr th {\n",
       "        vertical-align: top;\n",
       "    }\n",
       "\n",
       "    .dataframe thead th {\n",
       "        text-align: right;\n",
       "    }\n",
       "</style>\n",
       "<table border=\"1\" class=\"dataframe\">\n",
       "  <thead>\n",
       "    <tr style=\"text-align: right;\">\n",
       "      <th></th>\n",
       "      <th>index</th>\n",
       "      <th>descricao_item</th>\n",
       "      <th>ncm_in</th>\n",
       "      <th>ncm_out</th>\n",
       "    </tr>\n",
       "  </thead>\n",
       "  <tbody>\n",
       "    <tr>\n",
       "      <th>0</th>\n",
       "      <td>1311</td>\n",
       "      <td>ECO   JOGO JUNTA MOTOR COMPLETO</td>\n",
       "      <td>84</td>\n",
       "      <td>84</td>\n",
       "    </tr>\n",
       "    <tr>\n",
       "      <th>1</th>\n",
       "      <td>1381</td>\n",
       "      <td>JOGO JUNTA COMPLETO A  COM RETEN VALVULA</td>\n",
       "      <td>84</td>\n",
       "      <td>84</td>\n",
       "    </tr>\n",
       "    <tr>\n",
       "      <th>2</th>\n",
       "      <td>1393</td>\n",
       "      <td>ECO   JOGO JUNTA COMPLETO MOTOR</td>\n",
       "      <td>84</td>\n",
       "      <td>84</td>\n",
       "    </tr>\n",
       "    <tr>\n",
       "      <th>3</th>\n",
       "      <td>1402</td>\n",
       "      <td>F  SENSOR INDUTIVO</td>\n",
       "      <td>85</td>\n",
       "      <td>43</td>\n",
       "    </tr>\n",
       "    <tr>\n",
       "      <th>4</th>\n",
       "      <td>1600</td>\n",
       "      <td>F  SENSOR INDUTIVO</td>\n",
       "      <td>85</td>\n",
       "      <td>43</td>\n",
       "    </tr>\n",
       "    <tr>\n",
       "      <th>...</th>\n",
       "      <td>...</td>\n",
       "      <td>...</td>\n",
       "      <td>...</td>\n",
       "      <td>...</td>\n",
       "    </tr>\n",
       "    <tr>\n",
       "      <th>38813</th>\n",
       "      <td>343242</td>\n",
       "      <td>ZIN  E   MAQUINA DO VIDRO ESQUERDA PINO ALTO</td>\n",
       "      <td>87</td>\n",
       "      <td>08</td>\n",
       "    </tr>\n",
       "    <tr>\n",
       "      <th>38814</th>\n",
       "      <td>343243</td>\n",
       "      <td>ZINCO 100CM  3,50KG P MT  CP</td>\n",
       "      <td>72</td>\n",
       "      <td>10</td>\n",
       "    </tr>\n",
       "    <tr>\n",
       "      <th>38815</th>\n",
       "      <td>343244</td>\n",
       "      <td>ZMM 9010811   ALTERNADOR 12V AMP</td>\n",
       "      <td>85</td>\n",
       "      <td>11</td>\n",
       "    </tr>\n",
       "    <tr>\n",
       "      <th>38816</th>\n",
       "      <td>343245</td>\n",
       "      <td>ZORDS COM FIGURA E</td>\n",
       "      <td>95</td>\n",
       "      <td>03</td>\n",
       "    </tr>\n",
       "    <tr>\n",
       "      <th>38817</th>\n",
       "      <td>343246</td>\n",
       "      <td>ZUC ZL   TERMINAL DE DIRECAO ESQUERDO</td>\n",
       "      <td>87</td>\n",
       "      <td>08</td>\n",
       "    </tr>\n",
       "  </tbody>\n",
       "</table>\n",
       "<p>38818 rows × 4 columns</p>\n",
       "</div>"
      ],
      "text/plain": [
       "        index                                descricao_item ncm_in ncm_out\n",
       "0        1311               ECO   JOGO JUNTA MOTOR COMPLETO     84      84\n",
       "1        1381      JOGO JUNTA COMPLETO A  COM RETEN VALVULA     84      84\n",
       "2        1393               ECO   JOGO JUNTA COMPLETO MOTOR     84      84\n",
       "3        1402                            F  SENSOR INDUTIVO     85      43\n",
       "4        1600                            F  SENSOR INDUTIVO     85      43\n",
       "...       ...                                           ...    ...     ...\n",
       "38813  343242  ZIN  E   MAQUINA DO VIDRO ESQUERDA PINO ALTO     87      08\n",
       "38814  343243                  ZINCO 100CM  3,50KG P MT  CP     72      10\n",
       "38815  343244              ZMM 9010811   ALTERNADOR 12V AMP     85      11\n",
       "38816  343245                            ZORDS COM FIGURA E     95      03\n",
       "38817  343246         ZUC ZL   TERMINAL DE DIRECAO ESQUERDO     87      08\n",
       "\n",
       "[38818 rows x 4 columns]"
      ]
     },
     "metadata": {},
     "execution_count": 10
    }
   ],
   "metadata": {}
  },
  {
   "cell_type": "code",
   "execution_count": 11,
   "source": [
    "df = df.drop(columns=['index',])"
   ],
   "outputs": [],
   "metadata": {}
  },
  {
   "cell_type": "code",
   "execution_count": 12,
   "source": [
    "df_group_nw = df.groupby('ncm_out').count()\r\n",
    "df_group_nw\r\n",
    "df_group_nw.plot.bar( figsize=(15, 5))"
   ],
   "outputs": [
    {
     "output_type": "execute_result",
     "data": {
      "text/plain": [
       "<AxesSubplot:xlabel='ncm_out'>"
      ]
     },
     "metadata": {},
     "execution_count": 12
    },
    {
     "output_type": "display_data",
     "data": {
      "image/png": "[encoded data removed]",
      "text/plain": [
       "<Figure size 1080x360 with 1 Axes>"
      ]
     },
     "metadata": {
      "needs_background": "light"
     }
    }
   ],
   "metadata": {}
  },
  {
   "cell_type": "code",
   "execution_count": 13,
   "source": [
    "palavras_final = []\r\n",
    "for i in range(len(df['descricao_item'])): \r\n",
    "    produto = df['descricao_item'].iloc[i]\r\n",
    "    from string import punctuation\r\n",
    "    sentencas = nltk.sent_tokenize(produto)\r\n",
    "    palavras = nltk.word_tokenize(produto.upper())\r\n",
    "    stemmer = nltk.stem.RSLPStemmer()\r\n",
    "    palavras_stem = []\r\n",
    "    for palavra in palavras:\r\n",
    "        palavras_stem.append(stemmer.stem(palavra))\r\n",
    "    palavras_sem_stopwords = [palavras_stem for palavras_stem in palavras_stem if palavras_stem not in stopwords]\r\n",
    "    palavra_final = ' '.join(palavras_sem_stopwords)\r\n",
    "    palavras_final.append(palavra_final)\r\n",
    "x = pd.Series(palavras_final)\r\n",
    "df['descricao_item_clean'] = x"
   ],
   "outputs": [],
   "metadata": {}
  },
  {
   "cell_type": "code",
   "execution_count": 14,
   "source": [
    "df.dropna()\r\n",
    "df.drop(df.loc[df['ncm_out'] == ''].index, inplace=True)"
   ],
   "outputs": [],
   "metadata": {}
  },
  {
   "cell_type": "code",
   "execution_count": 15,
   "source": [
    "data = [df[\"descricao_item_clean\"], df[\"ncm_in\"]]\r\n",
    "\r\n",
    "headers = [\"descricao\", \"ncm_in\"]\r\n",
    "\r\n",
    "df_n = pd.concat(data, axis=1, keys=headers)\r\n"
   ],
   "outputs": [],
   "metadata": {}
  },
  {
   "cell_type": "code",
   "execution_count": 16,
   "source": [
    "from sklearn.preprocessing import LabelEncoder\r\n",
    "\r\n",
    "labels_enc = LabelEncoder()\r\n",
    "labels_enc.fit(df_n['ncm_in'])\r\n",
    "x_train_lables_trf = labels_enc.transform(df_n['ncm_in'])\r\n",
    "df_n['ncm_in'] = x_train_lables_trf"
   ],
   "outputs": [],
   "metadata": {}
  },
  {
   "cell_type": "code",
   "execution_count": 17,
   "source": [
    "!pip install sklearn\r\n",
    "from sklearn.model_selection import train_test_split\r\n",
    "from sklearn.feature_extraction.text import TfidfTransformer\r\n",
    "from sklearn.feature_extraction.text import CountVectorizer\r\n",
    "from sklearn.preprocessing import LabelEncoder\r\n",
    "\r\n",
    "labels = df['ncm_out']\r\n",
    "text = df_n\r\n",
    "\r\n",
    "X_train, X_test, y_train, y_test = train_test_split(text, labels, random_state=0, test_size=0.2)\r\n",
    "\r\n",
    "count_vect = CountVectorizer()\r\n",
    "X_train_counts = count_vect.fit_transform(X_train.descricao)\r\n",
    "tf_transformer = TfidfTransformer().fit(X_train_counts)\r\n",
    "X_train_transformed = tf_transformer.transform(X_train_counts)\r\n",
    "\r\n",
    "X_test_counts = count_vect.transform(X_test.descricao)\r\n",
    "X_test_transformed = tf_transformer.transform(X_test_counts)\r\n",
    "\r\n",
    "labels_enc = LabelEncoder()\r\n",
    "y_train_labels_fit = labels_enc.fit(y_train)\r\n",
    "y_train_lables_trf = labels_enc.transform(y_train)\r\n",
    "\r\n",
    "#print(labels.classes_)"
   ],
   "outputs": [
    {
     "output_type": "stream",
     "name": "stdout",
     "text": [
      "Requirement already satisfied: sklearn in c:\\users\\pedro\\appdata\\local\\programs\\python\\python38\\lib\\site-packages (0.0)\n",
      "Requirement already satisfied: scikit-learn in c:\\users\\pedro\\appdata\\local\\programs\\python\\python38\\lib\\site-packages (from sklearn) (0.23.2)\n",
      "Requirement already satisfied: threadpoolctl>=2.0.0 in c:\\users\\pedro\\appdata\\local\\programs\\python\\python38\\lib\\site-packages (from scikit-learn->sklearn) (2.1.0)\n",
      "Requirement already satisfied: numpy>=1.13.3 in c:\\users\\pedro\\appdata\\local\\programs\\python\\python38\\lib\\site-packages (from scikit-learn->sklearn) (1.19.0)\n",
      "Requirement already satisfied: joblib>=0.11 in c:\\users\\pedro\\appdata\\local\\programs\\python\\python38\\lib\\site-packages (from scikit-learn->sklearn) (0.17.0)\n",
      "Requirement already satisfied: scipy>=0.19.1 in c:\\users\\pedro\\appdata\\local\\programs\\python\\python38\\lib\\site-packages (from scikit-learn->sklearn) (1.5.3)\n"
     ]
    }
   ],
   "metadata": {}
  },
  {
   "cell_type": "code",
   "execution_count": 18,
   "source": [
    "import scipy.sparse as sp\r\n",
    "X_position_train = np.atleast_2d(X_train.ncm_in.astype(int)).T\r\n",
    "X_train = sp.hstack((X_train_transformed, X_position_train))\r\n",
    "\r\n",
    "X_position_test = np.atleast_2d(X_test.ncm_in.astype(int)).T\r\n",
    "X_test = sp.hstack((X_test_transformed, X_position_test))"
   ],
   "outputs": [],
   "metadata": {}
  },
  {
   "cell_type": "code",
   "execution_count": 19,
   "source": [
    "from sklearn.svm import LinearSVC\r\n",
    "\r\n",
    "linear_svc = LinearSVC()\r\n",
    "clf = linear_svc.fit(X_train,y_train)"
   ],
   "outputs": [
    {
     "output_type": "stream",
     "name": "stderr",
     "text": [
      "C:\\Users\\Pedro\\AppData\\Local\\Programs\\Python\\Python38\\lib\\site-packages\\sklearn\\svm\\_base.py:976: ConvergenceWarning: Liblinear failed to converge, increase the number of iterations.\n",
      "  warnings.warn(\"Liblinear failed to converge, increase \"\n"
     ]
    }
   ],
   "metadata": {}
  },
  {
   "cell_type": "code",
   "execution_count": 20,
   "source": [
    "from sklearn import metrics\r\n",
    "import numpy as np\r\n",
    "y_test = y_test.astype(int)\r\n",
    "#p_count = count_vect.transform(list(X_test))\r\n",
    "#p_tfidf = tf_transformer.transform(p_count)\r\n",
    "y_pred = clf.predict(X_test)\r\n",
    "y_pred = list(map(int, y_pred))\r\n",
    "print(metrics.classification_report(y_test,y_pred))"
   ],
   "outputs": [
    {
     "output_type": "stream",
     "name": "stdout",
     "text": [
      "              precision    recall  f1-score   support\n",
      "\n",
      "           1       0.79      0.73      0.76       231\n",
      "           2       0.86      0.84      0.85       195\n",
      "           3       0.82      0.53      0.64       211\n",
      "           4       0.67      0.87      0.76       197\n",
      "           5       0.70      0.71      0.70       192\n",
      "           6       0.72      0.69      0.70       207\n",
      "           7       0.80      0.46      0.58       171\n",
      "           8       0.74      0.59      0.66       214\n",
      "           9       0.83      0.69      0.75       197\n",
      "          10       0.72      0.74      0.73       179\n",
      "          11       0.78      0.52      0.62       197\n",
      "          12       0.78      0.68      0.72       188\n",
      "          13       0.81      0.66      0.72       212\n",
      "          14       0.87      0.28      0.42       210\n",
      "          15       0.72      0.59      0.65       194\n",
      "          16       0.65      0.64      0.65       211\n",
      "          17       0.71      0.73      0.72       197\n",
      "          18       0.73      0.68      0.71       180\n",
      "          19       0.80      0.78      0.79       189\n",
      "          20       0.83      0.85      0.84       202\n",
      "          21       0.36      0.90      0.52       194\n",
      "          22       0.80      0.71      0.75       148\n",
      "          23       0.77      0.70      0.73       193\n",
      "          24       0.69      0.67      0.68       202\n",
      "          25       0.90      0.60      0.72       195\n",
      "          26       0.70      0.56      0.62       215\n",
      "          27       0.89      0.79      0.84        52\n",
      "          28       0.14      0.88      0.24        95\n",
      "          29       1.00      0.17      0.29        36\n",
      "          30       0.95      0.43      0.59        44\n",
      "          31       0.66      0.36      0.47       102\n",
      "          32       0.86      0.75      0.80       178\n",
      "          33       0.50      0.21      0.29        39\n",
      "          35       0.86      0.80      0.83        71\n",
      "          36       0.86      0.84      0.85       215\n",
      "          38       0.85      0.50      0.63        66\n",
      "          39       0.94      0.96      0.95       190\n",
      "          43       0.90      0.72      0.80        86\n",
      "          44       0.54      0.92      0.68       194\n",
      "          45       0.72      0.81      0.76        26\n",
      "          47       0.76      0.73      0.74        22\n",
      "          50       0.88      0.92      0.90        39\n",
      "          66       0.77      0.74      0.76        23\n",
      "          67       0.91      0.63      0.74       191\n",
      "          70       1.00      0.82      0.90        28\n",
      "          71       0.92      0.84      0.88        69\n",
      "          79       1.00      0.34      0.51        41\n",
      "          81       0.85      0.91      0.88       213\n",
      "          82       0.92      0.93      0.93       197\n",
      "          83       0.80      0.80      0.80       215\n",
      "          84       0.88      0.86      0.87       108\n",
      "          87       0.86      0.86      0.86        36\n",
      "\n",
      "    accuracy                           0.70      7697\n",
      "   macro avg       0.78      0.69      0.71      7697\n",
      "weighted avg       0.77      0.70      0.72      7697\n",
      "\n"
     ]
    }
   ],
   "metadata": {}
  },
  {
   "cell_type": "markdown",
   "source": [
    "    precision    recall  f1-score   support\r\n",
    "\r\n",
    "           1       0.80      0.74      0.77       231\r\n",
    "           2       0.84      0.83      0.84       195\r\n",
    "           3       0.75      0.60      0.66       211\r\n",
    "           4       0.70      0.86      0.77       197\r\n",
    "           5       0.62      0.76      0.69       192\r\n",
    "           6       0.66      0.67      0.67       207\r\n",
    "           7       0.68      0.59      0.63       171\r\n",
    "           8       0.59      0.63      0.61       214\r\n",
    "           9       0.75      0.69      0.71       197\r\n",
    "          10       0.71      0.75      0.73       179\r\n",
    "          11       0.45      0.74      0.56       197\r\n",
    "          12       0.71      0.76      0.73       188\r\n",
    "          13       0.72      0.70      0.71       212\r\n",
    "          14       0.60      0.59      0.60       210\r\n",
    "          15       0.66      0.62      0.64       194\r\n",
    "          16       0.74      0.60      0.66       211\r\n",
    "          17       0.80      0.68      0.73       197\r\n",
    "          18       0.67      0.73      0.70       180\r\n",
    "          19       0.86      0.76      0.81       189\r\n",
    "          20       0.79      0.86      0.82       202\r\n",
    "          21       0.90      0.84      0.87       194\r\n",
    "          22       0.74      0.74      0.74       148\r\n",
    "          23       0.79      0.68      0.73       193\r\n",
    "show more (open the raw output data in a text editor) ...\r\n",
    "\r\n",
    "\r\n",
    "    accuracy                           0.74      7697\r\n",
    "   macro avg       0.75      0.72      0.73      7697\r\n",
    "weighted avg       0.74      0.74      0.73      7697"
   ],
   "metadata": {}
  }
 ],
 "metadata": {
  "interpreter": {
   "hash": "eb1a3d8c7dad79be73d9427f058ed676cf5bd543ef481e776052cfa6e7a46cfb"
  },
  "kernelspec": {
   "name": "python3",
   "display_name": "Python 3.8.6 64-bit"
  },
  "language_info": {
   "codemirror_mode": {
    "name": "ipython",
    "version": 3
   },
   "file_extension": ".py",
   "mimetype": "text/x-python",
   "name": "python",
   "nbconvert_exporter": "python",
   "pygments_lexer": "ipython3",
   "version": "3.8.6"
  },
  "orig_nbformat": 4
 },
 "nbformat": 4,
 "nbformat_minor": 2
}