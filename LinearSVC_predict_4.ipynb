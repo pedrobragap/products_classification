{
 "cells": [
  {
   "cell_type": "code",
   "execution_count": 2,
   "source": [
    "!pip install nltk\n",
    "import nltk\n",
    "nltk.download('punkt')\n",
    "nltk.download('stopwords')\n",
    "nltk.download('rslp')\n",
    "stopwords = set(nltk.corpus.stopwords.words('portuguese'))"
   ],
   "outputs": [
    {
     "output_type": "stream",
     "name": "stdout",
     "text": [
      "Requirement already satisfied: nltk in /home/pedrox/.local/lib/python3.9/site-packages (3.6.2)\n",
      "Requirement already satisfied: regex in /home/pedrox/.local/lib/python3.9/site-packages (from nltk) (2021.7.6)\n",
      "Requirement already satisfied: joblib in /home/pedrox/.local/lib/python3.9/site-packages (from nltk) (1.0.1)\n",
      "Requirement already satisfied: tqdm in /home/pedrox/.local/lib/python3.9/site-packages (from nltk) (4.61.2)\n",
      "Requirement already satisfied: click in /usr/lib/python3/dist-packages (from nltk) (7.1.2)\n"
     ]
    },
    {
     "output_type": "stream",
     "name": "stderr",
     "text": [
      "[nltk_data] Downloading package punkt to /home/pedrox/nltk_data...\n",
      "[nltk_data]   Package punkt is already up-to-date!\n",
      "[nltk_data] Downloading package stopwords to /home/pedrox/nltk_data...\n",
      "[nltk_data]   Package stopwords is already up-to-date!\n",
      "[nltk_data] Downloading package rslp to /home/pedrox/nltk_data...\n",
      "[nltk_data]   Package rslp is already up-to-date!\n"
     ]
    }
   ],
   "metadata": {}
  },
  {
   "cell_type": "code",
   "execution_count": 3,
   "source": [
    "!pip install pandas\n",
    "import pandas as pd\n",
    "df = pd.read_csv('./data_cleaning.csv',sep=';')\n",
    "#df = df.drop(columns=['index'])\n",
    "df[\"ncm\"] = df[\"ncm\"].astype(str)\n",
    "for i in range(len(df)):\n",
    "  if len(df[\"ncm\"].iloc[i]) < 8:\n",
    "    df[\"ncm\"].iloc[i] = \"0\"+ df[\"ncm\"].iloc[i]\n",
    "df['ncm'] = df['ncm'].astype(str).str[:4]\n",
    "df = df.drop(columns=['Unnamed: 0'])\n",
    "df = df.dropna()"
   ],
   "outputs": [
    {
     "output_type": "stream",
     "name": "stdout",
     "text": [
      "Requirement already satisfied: pandas in /home/pedrox/.local/lib/python3.9/site-packages (1.3.1)\n",
      "Requirement already satisfied: pytz>=2017.3 in /usr/lib/python3/dist-packages (from pandas) (2021.1)\n",
      "Requirement already satisfied: python-dateutil>=2.7.3 in /usr/lib/python3/dist-packages (from pandas) (2.8.1)\n",
      "Requirement already satisfied: numpy>=1.17.3 in /home/pedrox/.local/lib/python3.9/site-packages (from pandas) (1.21.1)\n"
     ]
    },
    {
     "output_type": "stream",
     "name": "stderr",
     "text": [
      "/home/pedrox/.local/lib/python3.9/site-packages/pandas/core/indexing.py:1732: SettingWithCopyWarning: \n",
      "A value is trying to be set on a copy of a slice from a DataFrame\n",
      "\n",
      "See the caveats in the documentation: https://pandas.pydata.org/pandas-docs/stable/user_guide/indexing.html#returning-a-view-versus-a-copy\n",
      "  self._setitem_single_block(indexer, value, name)\n"
     ]
    }
   ],
   "metadata": {}
  },
  {
   "cell_type": "code",
   "execution_count": 4,
   "source": [
    "!pip install matplotlib\n",
    "import matplotlib.pyplot as plt\n",
    "df_group = df.groupby('ncm').count()\n",
    "df_group\n",
    "df_group.plot.bar( figsize=(15, 5))"
   ],
   "outputs": [
    {
     "output_type": "stream",
     "name": "stdout",
     "text": [
      "Requirement already satisfied: matplotlib in /home/pedrox/.local/lib/python3.9/site-packages (3.4.2)\n",
      "Requirement already satisfied: kiwisolver>=1.0.1 in /home/pedrox/.local/lib/python3.9/site-packages (from matplotlib) (1.3.1)\n",
      "Requirement already satisfied: pillow>=6.2.0 in /usr/lib/python3/dist-packages (from matplotlib) (8.1.2)\n",
      "Requirement already satisfied: numpy>=1.16 in /home/pedrox/.local/lib/python3.9/site-packages (from matplotlib) (1.21.1)\n",
      "Requirement already satisfied: python-dateutil>=2.7 in /usr/lib/python3/dist-packages (from matplotlib) (2.8.1)\n",
      "Requirement already satisfied: pyparsing>=2.2.1 in /home/pedrox/.local/lib/python3.9/site-packages (from matplotlib) (2.4.7)\n",
      "Requirement already satisfied: cycler>=0.10 in /home/pedrox/.local/lib/python3.9/site-packages (from matplotlib) (0.10.0)\n",
      "Requirement already satisfied: six in /usr/lib/python3/dist-packages (from cycler>=0.10->matplotlib) (1.15.0)\n"
     ]
    },
    {
     "output_type": "execute_result",
     "data": {
      "text/plain": [
       "<AxesSubplot:xlabel='ncm'>"
      ]
     },
     "metadata": {},
     "execution_count": 4
    },
    {
     "output_type": "display_data",
     "data": {
      "image/png": "[encoded data removed]",
      "text/plain": [
       "<Figure size 1080x360 with 1 Axes>"
      ]
     },
     "metadata": {
      "needs_background": "light"
     }
    }
   ],
   "metadata": {}
  },
  {
   "cell_type": "code",
   "execution_count": 5,
   "source": [
    "over5000 = []\n",
    "median = []\n",
    "less1000 = []\n",
    "\n",
    "for i in range(len(df_group)):\n",
    "    if df_group['descricao_item'].iloc[i] > 5000:\n",
    "        over5000.append(df_group['descricao_item'].index[i])\n",
    "    elif df_group['descricao_item'].iloc[i] < 1000:\n",
    "        less1000.append(df_group['descricao_item'].index[i])\n",
    "    else:\n",
    "        median.append(df_group['descricao_item'].index[i])"
   ],
   "outputs": [],
   "metadata": {}
  },
  {
   "cell_type": "code",
   "execution_count": 6,
   "source": [
    "print(f\"acima de 5000 amostras {len(over5000)}\\nentre 5000 e 1000 {len(median)}\\nabaixo de 1000 {len(less1000)}\")\n"
   ],
   "outputs": [
    {
     "output_type": "stream",
     "name": "stdout",
     "text": [
      "acima de 5000 amostras 15\n",
      "entre 5000 e 1000 63\n",
      "abaixo de 1000 920\n"
     ]
    }
   ],
   "metadata": {}
  },
  {
   "cell_type": "code",
   "execution_count": 7,
   "source": [
    "len(df)"
   ],
   "outputs": [
    {
     "output_type": "execute_result",
     "data": {
      "text/plain": [
       "343240"
      ]
     },
     "metadata": {},
     "execution_count": 7
    }
   ],
   "metadata": {}
  },
  {
   "cell_type": "code",
   "execution_count": 8,
   "source": [
    "#DROP menores que 1000\n",
    "for i in less1000:\n",
    "   df.drop(df.loc[df['ncm'] == i].index, inplace=True)"
   ],
   "outputs": [],
   "metadata": {}
  },
  {
   "cell_type": "code",
   "execution_count": 9,
   "source": [
    "len(df)"
   ],
   "outputs": [
    {
     "output_type": "execute_result",
     "data": {
      "text/plain": [
       "250477"
      ]
     },
     "metadata": {},
     "execution_count": 9
    }
   ],
   "metadata": {}
  },
  {
   "cell_type": "code",
   "execution_count": 10,
   "source": [
    "import pandas as pd\n",
    "import numpy as np\n",
    "\n",
    "\n",
    "for i in over5000: \n",
    "    remove_n = len(df.loc[df['ncm'] == i ]) - 5000\n",
    "    remove_class = i\n",
    "    # Here you first find the indexes where class is equal to the class you want to drop.\n",
    "    #Then you slice only the first n indexes of this class\n",
    "    index_to_drop = df.index[df['ncm'] == remove_class][:remove_n]\n",
    "    #Finally drop those indexes\n",
    "    df = df.drop(index_to_drop)"
   ],
   "outputs": [],
   "metadata": {}
  },
  {
   "cell_type": "code",
   "execution_count": 11,
   "source": [
    "df = df.reset_index()\n",
    "df"
   ],
   "outputs": [
    {
     "output_type": "execute_result",
     "data": {
      "text/html": [
       "<div>\n",
       "<style scoped>\n",
       "    .dataframe tbody tr th:only-of-type {\n",
       "        vertical-align: middle;\n",
       "    }\n",
       "\n",
       "    .dataframe tbody tr th {\n",
       "        vertical-align: top;\n",
       "    }\n",
       "\n",
       "    .dataframe thead th {\n",
       "        text-align: right;\n",
       "    }\n",
       "</style>\n",
       "<table border=\"1\" class=\"dataframe\">\n",
       "  <thead>\n",
       "    <tr style=\"text-align: right;\">\n",
       "      <th></th>\n",
       "      <th>index</th>\n",
       "      <th>descricao_item</th>\n",
       "      <th>ncm</th>\n",
       "    </tr>\n",
       "  </thead>\n",
       "  <tbody>\n",
       "    <tr>\n",
       "      <th>0</th>\n",
       "      <td>16</td>\n",
       "      <td>OIL E7 15W GRANEL              DEP</td>\n",
       "      <td>2710</td>\n",
       "    </tr>\n",
       "    <tr>\n",
       "      <th>1</th>\n",
       "      <td>41</td>\n",
       "      <td>GINKGO VITAL MG  CPS   SIM GINKGO BILOBA</td>\n",
       "      <td>3923</td>\n",
       "    </tr>\n",
       "    <tr>\n",
       "      <th>2</th>\n",
       "      <td>78</td>\n",
       "      <td>CONECTOR XLR LINHA P MACHO NIQ</td>\n",
       "      <td>8536</td>\n",
       "    </tr>\n",
       "    <tr>\n",
       "      <th>3</th>\n",
       "      <td>110</td>\n",
       "      <td>DES DOVE R ON GO FRESH RO</td>\n",
       "      <td>3307</td>\n",
       "    </tr>\n",
       "    <tr>\n",
       "      <th>4</th>\n",
       "      <td>116</td>\n",
       "      <td>#*DES.NIVEA R-ON FEM.DRY CONF.</td>\n",
       "      <td>3307</td>\n",
       "    </tr>\n",
       "    <tr>\n",
       "      <th>...</th>\n",
       "      <td>...</td>\n",
       "      <td>...</td>\n",
       "      <td>...</td>\n",
       "    </tr>\n",
       "    <tr>\n",
       "      <th>202894</th>\n",
       "      <td>343239</td>\n",
       "      <td>ZFC 1297308   ANEL SINCRONIZADO 3AAPILOTO</td>\n",
       "      <td>8708</td>\n",
       "    </tr>\n",
       "    <tr>\n",
       "      <th>202895</th>\n",
       "      <td>343240</td>\n",
       "      <td>ZFC 1297306120   PASTILHA DO GARFO CAMBIO ZF 16S</td>\n",
       "      <td>8708</td>\n",
       "    </tr>\n",
       "    <tr>\n",
       "      <th>202896</th>\n",
       "      <td>343242</td>\n",
       "      <td>ZIN  E   MAQUINA DO VIDRO ESQUERDA PINO ALTO</td>\n",
       "      <td>8708</td>\n",
       "    </tr>\n",
       "    <tr>\n",
       "      <th>202897</th>\n",
       "      <td>343245</td>\n",
       "      <td>ZORDS COM FIGURA E</td>\n",
       "      <td>9503</td>\n",
       "    </tr>\n",
       "    <tr>\n",
       "      <th>202898</th>\n",
       "      <td>343246</td>\n",
       "      <td>ZUC ZL   TERMINAL DE DIRECAO ESQUERDO</td>\n",
       "      <td>8708</td>\n",
       "    </tr>\n",
       "  </tbody>\n",
       "</table>\n",
       "<p>202899 rows × 3 columns</p>\n",
       "</div>"
      ],
      "text/plain": [
       "         index                                    descricao_item   ncm\n",
       "0           16                OIL E7 15W GRANEL              DEP  2710\n",
       "1           41          GINKGO VITAL MG  CPS   SIM GINKGO BILOBA  3923\n",
       "2           78                    CONECTOR XLR LINHA P MACHO NIQ  8536\n",
       "3          110                         DES DOVE R ON GO FRESH RO  3307\n",
       "4          116                    #*DES.NIVEA R-ON FEM.DRY CONF.  3307\n",
       "...        ...                                               ...   ...\n",
       "202894  343239         ZFC 1297308   ANEL SINCRONIZADO 3AAPILOTO  8708\n",
       "202895  343240  ZFC 1297306120   PASTILHA DO GARFO CAMBIO ZF 16S  8708\n",
       "202896  343242      ZIN  E   MAQUINA DO VIDRO ESQUERDA PINO ALTO  8708\n",
       "202897  343245                                ZORDS COM FIGURA E  9503\n",
       "202898  343246             ZUC ZL   TERMINAL DE DIRECAO ESQUERDO  8708\n",
       "\n",
       "[202899 rows x 3 columns]"
      ]
     },
     "metadata": {},
     "execution_count": 11
    }
   ],
   "metadata": {}
  },
  {
   "cell_type": "code",
   "execution_count": 12,
   "source": [
    "df = df.drop(columns=['index'])"
   ],
   "outputs": [],
   "metadata": {}
  },
  {
   "cell_type": "code",
   "execution_count": 13,
   "source": [
    "df_group_nw = df.groupby('ncm').count()\n",
    "df_group_nw\n",
    "df_group_nw.plot.bar( figsize=(15, 5))"
   ],
   "outputs": [
    {
     "output_type": "execute_result",
     "data": {
      "text/plain": [
       "<AxesSubplot:xlabel='ncm'>"
      ]
     },
     "metadata": {},
     "execution_count": 13
    },
    {
     "output_type": "display_data",
     "data": {
      "image/png": "[encoded data removed]",
      "text/plain": [
       "<Figure size 1080x360 with 1 Axes>"
      ]
     },
     "metadata": {
      "needs_background": "light"
     }
    }
   ],
   "metadata": {}
  },
  {
   "cell_type": "code",
   "execution_count": 14,
   "source": [
    "palavras_final = []\n",
    "for i in range(len(df['descricao_item'])): \n",
    "    produto = df['descricao_item'].iloc[i]\n",
    "    from string import punctuation\n",
    "    sentencas = nltk.sent_tokenize(produto)\n",
    "    palavras = nltk.word_tokenize(produto.upper())\n",
    "    stemmer = nltk.stem.RSLPStemmer()\n",
    "    palavras_stem = []\n",
    "    for palavra in palavras:\n",
    "        palavras_stem.append(stemmer.stem(palavra))\n",
    "    palavras_sem_stopwords = [palavras_stem for palavras_stem in palavras_stem if palavras_stem not in stopwords]\n",
    "    palavra_final = ' '.join(palavras_sem_stopwords)\n",
    "    palavras_final.append(palavra_final)\n",
    "x = pd.Series(palavras_final)\n",
    "df['descricao_item_clean'] = x"
   ],
   "outputs": [],
   "metadata": {}
  },
  {
   "cell_type": "code",
   "execution_count": 15,
   "source": [
    "df.dropna()"
   ],
   "outputs": [
    {
     "output_type": "execute_result",
     "data": {
      "text/html": [
       "<div>\n",
       "<style scoped>\n",
       "    .dataframe tbody tr th:only-of-type {\n",
       "        vertical-align: middle;\n",
       "    }\n",
       "\n",
       "    .dataframe tbody tr th {\n",
       "        vertical-align: top;\n",
       "    }\n",
       "\n",
       "    .dataframe thead th {\n",
       "        text-align: right;\n",
       "    }\n",
       "</style>\n",
       "<table border=\"1\" class=\"dataframe\">\n",
       "  <thead>\n",
       "    <tr style=\"text-align: right;\">\n",
       "      <th></th>\n",
       "      <th>descricao_item</th>\n",
       "      <th>ncm</th>\n",
       "      <th>descricao_item_clean</th>\n",
       "    </tr>\n",
       "  </thead>\n",
       "  <tbody>\n",
       "    <tr>\n",
       "      <th>0</th>\n",
       "      <td>OIL E7 15W GRANEL              DEP</td>\n",
       "      <td>2710</td>\n",
       "      <td>oil e7 15w granel dep</td>\n",
       "    </tr>\n",
       "    <tr>\n",
       "      <th>1</th>\n",
       "      <td>GINKGO VITAL MG  CPS   SIM GINKGO BILOBA</td>\n",
       "      <td>3923</td>\n",
       "      <td>ginkg vital mg cp sim ginkg bilob</td>\n",
       "    </tr>\n",
       "    <tr>\n",
       "      <th>2</th>\n",
       "      <td>CONECTOR XLR LINHA P MACHO NIQ</td>\n",
       "      <td>8536</td>\n",
       "      <td>conec xlr linh p mach niq</td>\n",
       "    </tr>\n",
       "    <tr>\n",
       "      <th>3</th>\n",
       "      <td>DES DOVE R ON GO FRESH RO</td>\n",
       "      <td>3307</td>\n",
       "      <td>dov r on go fresh ro</td>\n",
       "    </tr>\n",
       "    <tr>\n",
       "      <th>4</th>\n",
       "      <td>#*DES.NIVEA R-ON FEM.DRY CONF.</td>\n",
       "      <td>3307</td>\n",
       "      <td># * des.nive r-on fem.dry conf .</td>\n",
       "    </tr>\n",
       "    <tr>\n",
       "      <th>...</th>\n",
       "      <td>...</td>\n",
       "      <td>...</td>\n",
       "      <td>...</td>\n",
       "    </tr>\n",
       "    <tr>\n",
       "      <th>202894</th>\n",
       "      <td>ZFC 1297308   ANEL SINCRONIZADO 3AAPILOTO</td>\n",
       "      <td>8708</td>\n",
       "      <td>zfc 1297308 anel sincron 3aapilot</td>\n",
       "    </tr>\n",
       "    <tr>\n",
       "      <th>202895</th>\n",
       "      <td>ZFC 1297306120   PASTILHA DO GARFO CAMBIO ZF 16S</td>\n",
       "      <td>8708</td>\n",
       "      <td>zfc 1297306120 pastilh garf cambi zf 16</td>\n",
       "    </tr>\n",
       "    <tr>\n",
       "      <th>202896</th>\n",
       "      <td>ZIN  E   MAQUINA DO VIDRO ESQUERDA PINO ALTO</td>\n",
       "      <td>8708</td>\n",
       "      <td>zin maquin vidr esquerd pin alt</td>\n",
       "    </tr>\n",
       "    <tr>\n",
       "      <th>202897</th>\n",
       "      <td>ZORDS COM FIGURA E</td>\n",
       "      <td>9503</td>\n",
       "      <td>zord figur</td>\n",
       "    </tr>\n",
       "    <tr>\n",
       "      <th>202898</th>\n",
       "      <td>ZUC ZL   TERMINAL DE DIRECAO ESQUERDO</td>\n",
       "      <td>8708</td>\n",
       "      <td>zuc zl term direca esquerd</td>\n",
       "    </tr>\n",
       "  </tbody>\n",
       "</table>\n",
       "<p>202899 rows × 3 columns</p>\n",
       "</div>"
      ],
      "text/plain": [
       "                                          descricao_item   ncm  \\\n",
       "0                     OIL E7 15W GRANEL              DEP  2710   \n",
       "1               GINKGO VITAL MG  CPS   SIM GINKGO BILOBA  3923   \n",
       "2                         CONECTOR XLR LINHA P MACHO NIQ  8536   \n",
       "3                              DES DOVE R ON GO FRESH RO  3307   \n",
       "4                         #*DES.NIVEA R-ON FEM.DRY CONF.  3307   \n",
       "...                                                  ...   ...   \n",
       "202894         ZFC 1297308   ANEL SINCRONIZADO 3AAPILOTO  8708   \n",
       "202895  ZFC 1297306120   PASTILHA DO GARFO CAMBIO ZF 16S  8708   \n",
       "202896      ZIN  E   MAQUINA DO VIDRO ESQUERDA PINO ALTO  8708   \n",
       "202897                                ZORDS COM FIGURA E  9503   \n",
       "202898             ZUC ZL   TERMINAL DE DIRECAO ESQUERDO  8708   \n",
       "\n",
       "                           descricao_item_clean  \n",
       "0                         oil e7 15w granel dep  \n",
       "1             ginkg vital mg cp sim ginkg bilob  \n",
       "2                     conec xlr linh p mach niq  \n",
       "3                          dov r on go fresh ro  \n",
       "4              # * des.nive r-on fem.dry conf .  \n",
       "...                                         ...  \n",
       "202894        zfc 1297308 anel sincron 3aapilot  \n",
       "202895  zfc 1297306120 pastilh garf cambi zf 16  \n",
       "202896          zin maquin vidr esquerd pin alt  \n",
       "202897                               zord figur  \n",
       "202898               zuc zl term direca esquerd  \n",
       "\n",
       "[202899 rows x 3 columns]"
      ]
     },
     "metadata": {},
     "execution_count": 15
    }
   ],
   "metadata": {}
  },
  {
   "cell_type": "code",
   "execution_count": 16,
   "source": [
    "!pip install sklearn\n",
    "from sklearn.model_selection import train_test_split\n",
    "from sklearn.feature_extraction.text import TfidfTransformer\n",
    "from sklearn.feature_extraction.text import CountVectorizer\n",
    "from sklearn.preprocessing import LabelEncoder\n",
    "\n",
    "labels = df['ncm']\n",
    "text = df['descricao_item_clean']\n",
    "\n",
    "X_train, X_test, y_train, y_test = train_test_split(text, labels, random_state=0, test_size=0.2)\n",
    "\n",
    "count_vect = CountVectorizer()\n",
    "X_train_counts = count_vect.fit_transform(X_train)\n",
    "tf_transformer = TfidfTransformer().fit(X_train_counts)\n",
    "X_train_transformed = tf_transformer.transform(X_train_counts)\n",
    "\n",
    "X_test_counts = count_vect.transform(X_test)\n",
    "X_test_transformed = tf_transformer.transform(X_test_counts)\n",
    "\n",
    "labels_enc = LabelEncoder()\n",
    "y_train_labels_fit = labels_enc.fit(y_train)\n",
    "y_train_lables_trf = labels_enc.transform(y_train)\n",
    "\n",
    "#print(labels.classes_)"
   ],
   "outputs": [
    {
     "output_type": "stream",
     "name": "stdout",
     "text": [
      "Requirement already satisfied: sklearn in /home/pedrox/.local/lib/python3.9/site-packages (0.0)\n",
      "Requirement already satisfied: scikit-learn in /home/pedrox/.local/lib/python3.9/site-packages (from sklearn) (0.24.2)\n",
      "Requirement already satisfied: numpy>=1.13.3 in /home/pedrox/.local/lib/python3.9/site-packages (from scikit-learn->sklearn) (1.21.1)\n",
      "Requirement already satisfied: scipy>=0.19.1 in /home/pedrox/.local/lib/python3.9/site-packages (from scikit-learn->sklearn) (1.7.0)\n",
      "Requirement already satisfied: joblib>=0.11 in /home/pedrox/.local/lib/python3.9/site-packages (from scikit-learn->sklearn) (1.0.1)\n",
      "Requirement already satisfied: threadpoolctl>=2.0.0 in /home/pedrox/.local/lib/python3.9/site-packages (from scikit-learn->sklearn) (2.2.0)\n"
     ]
    }
   ],
   "metadata": {}
  },
  {
   "cell_type": "code",
   "execution_count": 21,
   "source": [
    "from sklearn.svm import LinearSVC\n",
    "\n",
    "linear_svc = LinearSVC()\n",
    "clf = linear_svc.fit(X_train_transformed,y_train)"
   ],
   "outputs": [],
   "metadata": {}
  },
  {
   "cell_type": "code",
   "execution_count": 23,
   "source": [
    "from sklearn import metrics\n",
    "import numpy as np\n",
    "y_test = y_test.astype(int)\n",
    "p_count = count_vect.transform(list(X_test))\n",
    "p_tfidf = tf_transformer.transform(p_count)\n",
    "y_pred = clf.predict(p_tfidf)\n",
    "y_pred = list(map(int, y_pred))\n",
    "print(metrics.classification_report(y_test,y_pred))"
   ],
   "outputs": [
    {
     "output_type": "stream",
     "name": "stdout",
     "text": [
      "              precision    recall  f1-score   support\n",
      "\n",
      "         403       0.95      0.95      0.95       196\n",
      "        1704       0.89      0.92      0.90       388\n",
      "        1806       0.84      0.89      0.87       283\n",
      "        1901       0.86      0.93      0.89       365\n",
      "        1902       0.89      0.93      0.91       267\n",
      "        1905       0.92      0.96      0.94       998\n",
      "        2005       0.93      0.96      0.94       276\n",
      "        2103       0.90      0.92      0.91       636\n",
      "        2106       0.86      0.81      0.83       595\n",
      "        2202       0.87      0.70      0.78       396\n",
      "        2309       0.91      0.90      0.90       220\n",
      "        2710       0.85      0.89      0.87       390\n",
      "        3004       0.83      0.80      0.82       944\n",
      "        3208       0.86      0.64      0.73       360\n",
      "        3209       0.82      0.60      0.69       233\n",
      "        3304       0.83      0.74      0.78       283\n",
      "        3305       0.79      0.57      0.66      1032\n",
      "        3306       0.90      0.83      0.87       247\n",
      "        3307       0.80      0.65      0.71       726\n",
      "        3401       0.90      0.84      0.87       745\n",
      "        3402       0.77      0.69      0.73       662\n",
      "        3506       0.81      0.86      0.84       243\n",
      "        3808       0.79      0.65      0.72       620\n",
      "        3809       0.84      0.79      0.81       269\n",
      "        3917       0.86      0.91      0.89      1027\n",
      "        3919       0.90      0.94      0.92       194\n",
      "        3923       0.79      0.75      0.77       417\n",
      "        3924       0.78      0.78      0.78       967\n",
      "        3926       0.80      0.70      0.75       628\n",
      "        4016       0.79      0.81      0.80       624\n",
      "        4202       0.95      0.97      0.96       970\n",
      "        4818       0.91      0.96      0.93       217\n",
      "        4820       0.93      0.91      0.92       225\n",
      "        6103       0.77      0.80      0.79       513\n",
      "        6104       0.81      0.87      0.84      1017\n",
      "        6105       0.92      0.97      0.94      1006\n",
      "        6106       0.90      0.89      0.90      1020\n",
      "        6107       0.91      0.93      0.92       198\n",
      "        6108       0.95      0.97      0.96       470\n",
      "        6109       0.92      0.92      0.92      1024\n",
      "        6111       0.81      0.84      0.82       556\n",
      "        6203       0.85      0.86      0.86       842\n",
      "        6204       0.83      0.83      0.83       985\n",
      "        6205       0.91      0.87      0.89       194\n",
      "        6206       0.89      0.90      0.89       598\n",
      "        6212       0.91      0.98      0.95       324\n",
      "        6302       0.90      0.97      0.93       239\n",
      "        6402       0.85      0.94      0.89      1061\n",
      "        6403       0.88      0.95      0.91       586\n",
      "        6404       0.91      0.94      0.93      1037\n",
      "        6805       0.87      0.94      0.91       248\n",
      "        6907       0.95      0.95      0.95       212\n",
      "        7013       0.84      0.75      0.79       275\n",
      "        7318       0.85      0.89      0.87       949\n",
      "        7326       0.80      0.84      0.82       289\n",
      "        7615       0.88      0.83      0.85       210\n",
      "        8204       0.90      0.89      0.89       306\n",
      "        8205       0.86      0.88      0.87       344\n",
      "        8207       0.91      0.96      0.93       275\n",
      "        8301       0.92      0.92      0.92       216\n",
      "        8302       0.78      0.73      0.76       218\n",
      "        8409       0.83      0.80      0.82       297\n",
      "        8421       0.92      0.96      0.94       740\n",
      "        8481       0.85      0.92      0.88       513\n",
      "        8482       0.84      0.88      0.86       236\n",
      "        8483       0.77      0.74      0.76       245\n",
      "        8512       0.85      0.85      0.85       250\n",
      "        8536       0.86      0.91      0.89       765\n",
      "        8539       0.89      0.97      0.93       269\n",
      "        8544       0.91      0.93      0.92       461\n",
      "        8708       0.75      0.80      0.77       946\n",
      "        8714       0.83      0.91      0.87      1007\n",
      "        9102       0.96      0.99      0.98       593\n",
      "        9403       0.89      0.89      0.89       308\n",
      "        9503       0.89      0.91      0.90       957\n",
      "        9507       0.91      0.97      0.94       217\n",
      "        9603       0.90      0.96      0.93       589\n",
      "        9619       0.95      1.00      0.97       332\n",
      "\n",
      "    accuracy                           0.86     40580\n",
      "   macro avg       0.87      0.87      0.86     40580\n",
      "weighted avg       0.86      0.86      0.86     40580\n",
      "\n"
     ]
    }
   ],
   "metadata": {}
  },
  {
   "cell_type": "code",
   "execution_count": 20,
   "source": [
    "y_pred\n",
    "\n"
   ],
   "outputs": [
    {
     "output_type": "execute_result",
     "data": {
      "text/plain": [
       "array([71, 39,  6, ..., 38, 34, 16])"
      ]
     },
     "metadata": {},
     "execution_count": 20
    }
   ],
   "metadata": {}
  }
 ],
 "metadata": {
  "interpreter": {
   "hash": "916dbcbb3f70747c44a77c7bcd40155683ae19c65e1c03b4aa3499c5328201f1"
  },
  "kernelspec": {
   "name": "python3",
   "display_name": "Python 3.9.5 64-bit"
  },
  "language_info": {
   "codemirror_mode": {
    "name": "ipython",
    "version": 3
   },
   "file_extension": ".py",
   "mimetype": "text/x-python",
   "name": "python",
   "nbconvert_exporter": "python",
   "pygments_lexer": "ipython3",
   "version": "3.9.5"
  },
  "orig_nbformat": 4
 },
 "nbformat": 4,
 "nbformat_minor": 2
}