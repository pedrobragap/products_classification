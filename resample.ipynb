{
 "cells": [
  {
   "cell_type": "code",
   "execution_count": 1,
   "source": [
    "#!/usr/bin/env python\r\n",
    "# coding: utf-8\r\n",
    "import sys #ver python path\r\n",
    "import numpy as np\r\n",
    "import pandas as pd\r\n",
    "import matplotlib.pyplot as plt\r\n",
    "import seaborn as sns"
   ],
   "outputs": [],
   "metadata": {}
  },
  {
   "cell_type": "code",
   "execution_count": 2,
   "source": [
    "import pandas as pd\r\n",
    "df = pd.read_csv('./data_cleaning.csv',sep=';')\r\n",
    "#df = df.drop(columns=['index'])\r\n",
    "df[\"ncm\"] = df[\"ncm\"].astype(str)\r\n",
    "for i in range(len(df)):\r\n",
    "  if len(df[\"ncm\"].iloc[i]) < 8:\r\n",
    "    df[\"ncm\"].iloc[i] = \"0\"+ df[\"ncm\"].iloc[i]\r\n",
    "df['ncm'] = df['ncm'].astype(str).str[:2]"
   ],
   "outputs": [
    {
     "output_type": "stream",
     "name": "stderr",
     "text": [
      "C:\\Users\\Pedro\\AppData\\Local\\Programs\\Python\\Python38\\lib\\site-packages\\pandas\\core\\indexing.py:670: SettingWithCopyWarning: \n",
      "A value is trying to be set on a copy of a slice from a DataFrame\n",
      "\n",
      "See the caveats in the documentation: https://pandas.pydata.org/pandas-docs/stable/user_guide/indexing.html#returning-a-view-versus-a-copy\n",
      "  iloc._setitem_with_indexer(indexer, value)\n"
     ]
    }
   ],
   "metadata": {}
  },
  {
   "cell_type": "code",
   "execution_count": 3,
   "source": [
    "import matplotlib.pyplot as plt\r\n",
    "\r\n",
    "#df = df[['ncm','descricao_item']]\r\n",
    "df_group = df.groupby('ncm').count()\r\n",
    "df_group\r\n",
    "df_group.plot.bar( figsize=(15, 5))\r\n"
   ],
   "outputs": [
    {
     "output_type": "execute_result",
     "data": {
      "text/plain": [
       "<AxesSubplot:xlabel='ncm'>"
      ]
     },
     "metadata": {},
     "execution_count": 3
    },
    {
     "output_type": "display_data",
     "data": {
      "text/plain": [
       "<Figure size 1080x360 with 1 Axes>"
      ],
      "image/png": "[encoded data removed]"
     },
     "metadata": {
      "needs_background": "light"
     }
    }
   ],
   "metadata": {}
  },
  {
   "cell_type": "code",
   "execution_count": 4,
   "source": [
    "df_group = df_group.drop(columns=['Unnamed: 0'])"
   ],
   "outputs": [],
   "metadata": {}
  },
  {
   "cell_type": "code",
   "execution_count": 74,
   "source": [
    "df_group['descricao_item'].index[0]"
   ],
   "outputs": [
    {
     "output_type": "execute_result",
     "data": {
      "text/plain": [
       "'00'"
      ]
     },
     "metadata": {},
     "execution_count": 74
    }
   ],
   "metadata": {}
  },
  {
   "cell_type": "code",
   "execution_count": 5,
   "source": [
    "over5000 = []\r\n",
    "median = []\r\n",
    "less1000 = []\r\n",
    "\r\n",
    "for i in range(len(df_group)):\r\n",
    "    if df_group['descricao_item'].iloc[i] > 5000:\r\n",
    "        over5000.append(df_group['descricao_item'].index[i])\r\n",
    "    elif df_group['descricao_item'].iloc[i] < 1000:\r\n",
    "        less1000.append(df_group['descricao_item'].index[i])\r\n",
    "    else:\r\n",
    "        median.append(df_group['descricao_item'].index[i])"
   ],
   "outputs": [],
   "metadata": {}
  },
  {
   "cell_type": "code",
   "execution_count": 7,
   "source": [
    "print(f\"acima de 5000 amostras {len(over5000)}\\nentre 5000 e 1000 {len(median)}\\nabaixo de 1000 {len(less1000)}\")\r\n"
   ],
   "outputs": [
    {
     "output_type": "stream",
     "name": "stdout",
     "text": [
      "acima de 5000 amostras 19\n",
      "entre 5000 e 1000 31\n",
      "abaixo de 1000 49\n"
     ]
    }
   ],
   "metadata": {}
  },
  {
   "cell_type": "code",
   "execution_count": 12,
   "source": [
    "import pandas as pd\r\n",
    "import numpy as np\r\n",
    "np.random.seed(10)\r\n",
    "\r\n",
    "remove_n = 4\r\n",
    "data = pd.DataFrame({\"class\":[1,2,3,4], \"b\":[5,6,7,8]})\r\n",
    "\r\n",
    "drop_indices = np.random.choice(df.index, remove_n, replace=False)\r\n",
    "print(drop_indices)\r\n",
    "df_subset = df.drop(drop_indices)\r\n",
    "\r\n",
    "\r\n",
    "remove_n = 10\r\n",
    "remove_class = 1\r\n",
    "# Here you first find the indexes where class is equal to the class you want to drop.\r\n",
    "#Then you slice only the first n indexes of this class\r\n",
    "index_to_drop = data.index[data['class'] == remove_class][:remove_n]\r\n",
    "#Finally drop those indexes\r\n",
    "data = data.drop(index_to_drop)"
   ],
   "outputs": [
    {
     "output_type": "stream",
     "name": "stdout",
     "text": [
      "[2 0 3 1]\n"
     ]
    }
   ],
   "metadata": {}
  },
  {
   "cell_type": "code",
   "execution_count": 100,
   "source": [
    "over1000 = []\r\n",
    "less100 = []\r\n",
    "median = []\r\n",
    "for i in range(len(df_group)):\r\n",
    "    if df_group['descricao_item'].iloc[i] > 1000:\r\n",
    "        over1000.append(df_group['descricao_item'].index[i])\r\n",
    "    elif df_group['descricao_item'].iloc[i] <= 100:\r\n",
    "        less100.append(df_group['descricao_item'].index[i])\r\n",
    "    else:\r\n",
    "        median.append(df_group['descricao_item'].index[i])"
   ],
   "outputs": [],
   "metadata": {}
  },
  {
   "cell_type": "code",
   "execution_count": 102,
   "source": [
    "print(f\"acima de 1000 amostras {len(over1000)}\\nentre 1000 e 100 {len(median)}\\nabaixo de 100 {len(less100)}\")"
   ],
   "outputs": [
    {
     "output_type": "stream",
     "name": "stdout",
     "text": [
      "acima de 1000 amostras 50\n",
      "entre 1000 e 100 23\n",
      "abaixo de 100 26\n"
     ]
    }
   ],
   "metadata": {}
  },
  {
   "cell_type": "code",
   "execution_count": 93,
   "source": [
    "from statistics import mean\r\n",
    "\r\n",
    "for i in range(0, len(less1000)):\r\n",
    "    less1000[i] = int(less1000[i])\r\n",
    "\r\n",
    "mean(less1000)"
   ],
   "outputs": [
    {
     "output_type": "execute_result",
     "data": {
      "text/plain": [
       "50.63265306122449"
      ]
     },
     "metadata": {},
     "execution_count": 93
    }
   ],
   "metadata": {}
  },
  {
   "cell_type": "code",
   "execution_count": 99,
   "source": [
    "import seaborn as sbn\r\n",
    "  \r\n",
    "sbn.set_theme(style=\"whitegrid\")\r\n",
    "\r\n",
    "\r\n",
    "# Creating plot \r\n",
    "mySeries = pd.Series(less1000)\r\n",
    "mySeries\r\n",
    "sbn.boxplot(data=mySeries) "
   ],
   "outputs": [
    {
     "output_type": "execute_result",
     "data": {
      "text/plain": [
       "<AxesSubplot:>"
      ]
     },
     "metadata": {},
     "execution_count": 99
    },
    {
     "output_type": "display_data",
     "data": {
      "text/plain": [
       "<Figure size 432x288 with 1 Axes>"
      ],
      "image/png": "[encoded data removed]"
     },
     "metadata": {}
    }
   ],
   "metadata": {}
  }
 ],
 "metadata": {
  "orig_nbformat": 4,
  "language_info": {
   "name": "python",
   "version": "3.8.6",
   "mimetype": "text/x-python",
   "codemirror_mode": {
    "name": "ipython",
    "version": 3
   },
   "pygments_lexer": "ipython3",
   "nbconvert_exporter": "python",
   "file_extension": ".py"
  },
  "kernelspec": {
   "name": "python3",
   "display_name": "Python 3.8.6 64-bit"
  },
  "interpreter": {
   "hash": "eb1a3d8c7dad79be73d9427f058ed676cf5bd543ef481e776052cfa6e7a46cfb"
  }
 },
 "nbformat": 4,
 "nbformat_minor": 2
}