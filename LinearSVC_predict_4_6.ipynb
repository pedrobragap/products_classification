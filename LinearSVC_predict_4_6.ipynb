{
 "cells": [
  {
   "cell_type": "code",
   "execution_count": 36,
   "source": [
    "!pip install nltk\r\n",
    "import nltk\r\n",
    "nltk.download('punkt')\r\n",
    "nltk.download('stopwords')\r\n",
    "nltk.download('rslp')\r\n",
    "stopwords = set(nltk.corpus.stopwords.words('portuguese'))"
   ],
   "outputs": [
    {
     "output_type": "stream",
     "name": "stdout",
     "text": [
      "Requirement already satisfied: nltk in c:\\users\\pedro\\appdata\\local\\programs\\python\\python38\\lib\\site-packages (3.5)\n",
      "Requirement already satisfied: click in c:\\users\\pedro\\appdata\\local\\programs\\python\\python38\\lib\\site-packages (from nltk) (7.1.2)\n",
      "Requirement already satisfied: joblib in c:\\users\\pedro\\appdata\\local\\programs\\python\\python38\\lib\\site-packages (from nltk) (0.17.0)\n",
      "Requirement already satisfied: regex in c:\\users\\pedro\\appdata\\local\\programs\\python\\python38\\lib\\site-packages (from nltk) (2020.10.28)\n",
      "Requirement already satisfied: tqdm in c:\\users\\pedro\\appdata\\local\\programs\\python\\python38\\lib\\site-packages (from nltk) (4.51.0)\n"
     ]
    },
    {
     "output_type": "stream",
     "name": "stderr",
     "text": [
      "[nltk_data] Downloading package punkt to\n",
      "[nltk_data]     C:\\Users\\Pedro\\AppData\\Roaming\\nltk_data...\n",
      "[nltk_data]   Package punkt is already up-to-date!\n",
      "[nltk_data] Downloading package stopwords to\n",
      "[nltk_data]     C:\\Users\\Pedro\\AppData\\Roaming\\nltk_data...\n",
      "[nltk_data]   Package stopwords is already up-to-date!\n",
      "[nltk_data] Downloading package rslp to\n",
      "[nltk_data]     C:\\Users\\Pedro\\AppData\\Roaming\\nltk_data...\n",
      "[nltk_data]   Package rslp is already up-to-date!\n"
     ]
    }
   ],
   "metadata": {}
  },
  {
   "cell_type": "code",
   "execution_count": 37,
   "source": [
    "!pip install pandas\r\n",
    "import pandas as pd\r\n",
    "df = pd.read_csv('./data_cleaning.csv',sep=';')\r\n",
    "#df = df.drop(columns=['index'])\r\n",
    "df[\"ncm\"] = df[\"ncm\"].astype(str)\r\n",
    "for i in range(len(df)):\r\n",
    "  if len(df[\"ncm\"].iloc[i]) < 8:\r\n",
    "    df[\"ncm\"].iloc[i] = \"0\"+ df[\"ncm\"].iloc[i]\r\n",
    "df['ncm_in'] = df['ncm'].astype(str).str[:4]\r\n",
    "df['ncm_out'] = df['ncm'].astype(str).str[4:6]\r\n",
    "df = df.drop(columns=['Unnamed: 0','ncm'])\r\n",
    "\r\n",
    "df = df.dropna()"
   ],
   "outputs": [
    {
     "output_type": "stream",
     "name": "stdout",
     "text": [
      "Requirement already satisfied: pandas in c:\\users\\pedro\\appdata\\local\\programs\\python\\python38\\lib\\site-packages (1.1.3)\n",
      "Requirement already satisfied: python-dateutil>=2.7.3 in c:\\users\\pedro\\appdata\\local\\programs\\python\\python38\\lib\\site-packages (from pandas) (2.8.1)\n",
      "Requirement already satisfied: pytz>=2017.2 in c:\\users\\pedro\\appdata\\local\\programs\\python\\python38\\lib\\site-packages (from pandas) (2020.4)\n",
      "Requirement already satisfied: numpy>=1.15.4 in c:\\users\\pedro\\appdata\\local\\programs\\python\\python38\\lib\\site-packages (from pandas) (1.19.0)\n",
      "Requirement already satisfied: six>=1.5 in c:\\users\\pedro\\appdata\\roaming\\python\\python38\\site-packages (from python-dateutil>=2.7.3->pandas) (1.15.0)\n"
     ]
    },
    {
     "output_type": "stream",
     "name": "stderr",
     "text": [
      "C:\\Users\\Pedro\\AppData\\Local\\Programs\\Python\\Python38\\lib\\site-packages\\pandas\\core\\indexing.py:670: SettingWithCopyWarning: \n",
      "A value is trying to be set on a copy of a slice from a DataFrame\n",
      "\n",
      "See the caveats in the documentation: https://pandas.pydata.org/pandas-docs/stable/user_guide/indexing.html#returning-a-view-versus-a-copy\n",
      "  iloc._setitem_with_indexer(indexer, value)\n"
     ]
    }
   ],
   "metadata": {}
  },
  {
   "cell_type": "code",
   "execution_count": 38,
   "source": [
    "!pip install matplotlib\r\n",
    "import matplotlib.pyplot as plt\r\n",
    "df_group = df.groupby('ncm_out').count()\r\n",
    "df_group\r\n",
    "df_group.plot.bar( figsize=(15, 5))"
   ],
   "outputs": [
    {
     "output_type": "stream",
     "name": "stdout",
     "text": [
      "Requirement already satisfied: matplotlib in c:\\users\\pedro\\appdata\\local\\programs\\python\\python38\\lib\\site-packages (3.3.3)\n",
      "Requirement already satisfied: kiwisolver>=1.0.1 in c:\\users\\pedro\\appdata\\local\\programs\\python\\python38\\lib\\site-packages (from matplotlib) (1.3.1)\n",
      "Requirement already satisfied: cycler>=0.10 in c:\\users\\pedro\\appdata\\local\\programs\\python\\python38\\lib\\site-packages (from matplotlib) (0.10.0)\n",
      "Requirement already satisfied: pyparsing!=2.0.4,!=2.1.2,!=2.1.6,>=2.0.3 in c:\\users\\pedro\\appdata\\local\\programs\\python\\python38\\lib\\site-packages (from matplotlib) (2.4.7)\n",
      "Requirement already satisfied: numpy>=1.15 in c:\\users\\pedro\\appdata\\local\\programs\\python\\python38\\lib\\site-packages (from matplotlib) (1.19.0)\n",
      "Requirement already satisfied: python-dateutil>=2.1 in c:\\users\\pedro\\appdata\\local\\programs\\python\\python38\\lib\\site-packages (from matplotlib) (2.8.1)\n",
      "Requirement already satisfied: pillow>=6.2.0 in c:\\users\\pedro\\appdata\\local\\programs\\python\\python38\\lib\\site-packages (from matplotlib) (8.0.1)\n",
      "Requirement already satisfied: six in c:\\users\\pedro\\appdata\\roaming\\python\\python38\\site-packages (from cycler>=0.10->matplotlib) (1.15.0)\n"
     ]
    },
    {
     "output_type": "execute_result",
     "data": {
      "text/plain": [
       "<AxesSubplot:xlabel='ncm_out'>"
      ]
     },
     "metadata": {},
     "execution_count": 38
    },
    {
     "output_type": "display_data",
     "data": {
      "image/png": "[encoded data removed]",
      "text/plain": [
       "<Figure size 1080x360 with 1 Axes>"
      ]
     },
     "metadata": {
      "needs_background": "light"
     }
    }
   ],
   "metadata": {}
  },
  {
   "cell_type": "code",
   "execution_count": 39,
   "source": [
    "over5000 = []\r\n",
    "median = []\r\n",
    "less1000 = []\r\n",
    "\r\n",
    "for i in range(len(df_group)):\r\n",
    "    if df_group['descricao_item'].iloc[i] > 1000:\r\n",
    "        over5000.append(df_group['descricao_item'].index[i])\r\n",
    "    elif df_group['descricao_item'].iloc[i] < 100:\r\n",
    "        less1000.append(df_group['descricao_item'].index[i])\r\n",
    "    else:\r\n",
    "        median.append(df_group['descricao_item'].index[i])"
   ],
   "outputs": [],
   "metadata": {}
  },
  {
   "cell_type": "code",
   "execution_count": 40,
   "source": [
    "print(f\"acima de 1000 amostras {len(over5000)}\\nentre 1000 e 100 {len(median)}\\nabaixo de 100 {len(less1000)}\")\r\n"
   ],
   "outputs": [
    {
     "output_type": "stream",
     "name": "stdout",
     "text": [
      "acima de 1000 amostras 35\n",
      "entre 1000 e 100 20\n",
      "abaixo de 100 29\n"
     ]
    }
   ],
   "metadata": {}
  },
  {
   "cell_type": "code",
   "execution_count": 41,
   "source": [
    "len(df)"
   ],
   "outputs": [
    {
     "output_type": "execute_result",
     "data": {
      "text/plain": [
       "343240"
      ]
     },
     "metadata": {},
     "execution_count": 41
    }
   ],
   "metadata": {}
  },
  {
   "cell_type": "code",
   "execution_count": 42,
   "source": [
    "#DROP menores que 1000\r\n",
    "for i in less1000:\r\n",
    "   df.drop(df.loc[df['ncm_out'] == i].index, inplace=True)"
   ],
   "outputs": [],
   "metadata": {}
  },
  {
   "cell_type": "code",
   "execution_count": 43,
   "source": [
    "len(df)"
   ],
   "outputs": [
    {
     "output_type": "execute_result",
     "data": {
      "text/plain": [
       "342500"
      ]
     },
     "metadata": {},
     "execution_count": 43
    }
   ],
   "metadata": {}
  },
  {
   "cell_type": "code",
   "execution_count": 44,
   "source": [
    "import pandas as pd\r\n",
    "import numpy as np\r\n",
    "\r\n",
    "\r\n",
    "for i in over5000: \r\n",
    "    remove_n = len(df.loc[df['ncm_out'] == i ]) - 1000\r\n",
    "    remove_class = i\r\n",
    "    # Here you first find the indexes where class is equal to the class you want to drop.\r\n",
    "    #Then you slice only the first n indexes of this class\r\n",
    "    index_to_drop = df.index[df['ncm_out'] == remove_class][:remove_n]\r\n",
    "    #Finally drop those indexes\r\n",
    "    df = df.drop(index_to_drop)"
   ],
   "outputs": [],
   "metadata": {}
  },
  {
   "cell_type": "code",
   "execution_count": 45,
   "source": [
    "df = df.reset_index()\r\n",
    "df"
   ],
   "outputs": [
    {
     "output_type": "execute_result",
     "data": {
      "text/html": [
       "<div>\n",
       "<style scoped>\n",
       "    .dataframe tbody tr th:only-of-type {\n",
       "        vertical-align: middle;\n",
       "    }\n",
       "\n",
       "    .dataframe tbody tr th {\n",
       "        vertical-align: top;\n",
       "    }\n",
       "\n",
       "    .dataframe thead th {\n",
       "        text-align: right;\n",
       "    }\n",
       "</style>\n",
       "<table border=\"1\" class=\"dataframe\">\n",
       "  <thead>\n",
       "    <tr style=\"text-align: right;\">\n",
       "      <th></th>\n",
       "      <th>index</th>\n",
       "      <th>descricao_item</th>\n",
       "      <th>ncm_in</th>\n",
       "      <th>ncm_out</th>\n",
       "    </tr>\n",
       "  </thead>\n",
       "  <tbody>\n",
       "    <tr>\n",
       "      <th>0</th>\n",
       "      <td>1187</td>\n",
       "      <td>14421  DNI   RELE AUXILIAR C  SUPORTE A V</td>\n",
       "      <td>8413</td>\n",
       "      <td>81</td>\n",
       "    </tr>\n",
       "    <tr>\n",
       "      <th>1</th>\n",
       "      <td>1231</td>\n",
       "      <td>226   PK   CORREIA ALTERNADOR GIR ALT BA ACD</td>\n",
       "      <td>4010</td>\n",
       "      <td>33</td>\n",
       "    </tr>\n",
       "    <tr>\n",
       "      <th>2</th>\n",
       "      <td>1386</td>\n",
       "      <td>209   CA32 AF   JOGO LONA FREIO TRASEIRO  L</td>\n",
       "      <td>6813</td>\n",
       "      <td>81</td>\n",
       "    </tr>\n",
       "    <tr>\n",
       "      <th>3</th>\n",
       "      <td>1441</td>\n",
       "      <td>2506      PORCA COMPLETAR ANEL OSCILANTE CH MM</td>\n",
       "      <td>7318</td>\n",
       "      <td>16</td>\n",
       "    </tr>\n",
       "    <tr>\n",
       "      <th>4</th>\n",
       "      <td>1446</td>\n",
       "      <td>PORCA SUPER ALTA COMPLETAR ANEL OSCILANT</td>\n",
       "      <td>7318</td>\n",
       "      <td>16</td>\n",
       "    </tr>\n",
       "    <tr>\n",
       "      <th>...</th>\n",
       "      <td>...</td>\n",
       "      <td>...</td>\n",
       "      <td>...</td>\n",
       "      <td>...</td>\n",
       "    </tr>\n",
       "    <tr>\n",
       "      <th>44322</th>\n",
       "      <td>343242</td>\n",
       "      <td>ZIN  E   MAQUINA DO VIDRO ESQUERDA PINO ALTO</td>\n",
       "      <td>8708</td>\n",
       "      <td>29</td>\n",
       "    </tr>\n",
       "    <tr>\n",
       "      <th>44323</th>\n",
       "      <td>343243</td>\n",
       "      <td>ZINCO 100CM  3,50KG P MT  CP</td>\n",
       "      <td>7210</td>\n",
       "      <td>49</td>\n",
       "    </tr>\n",
       "    <tr>\n",
       "      <th>44324</th>\n",
       "      <td>343244</td>\n",
       "      <td>ZMM 9010811   ALTERNADOR 12V AMP</td>\n",
       "      <td>8511</td>\n",
       "      <td>50</td>\n",
       "    </tr>\n",
       "    <tr>\n",
       "      <th>44325</th>\n",
       "      <td>343245</td>\n",
       "      <td>ZORDS COM FIGURA E</td>\n",
       "      <td>9503</td>\n",
       "      <td>00</td>\n",
       "    </tr>\n",
       "    <tr>\n",
       "      <th>44326</th>\n",
       "      <td>343246</td>\n",
       "      <td>ZUC ZL   TERMINAL DE DIRECAO ESQUERDO</td>\n",
       "      <td>8708</td>\n",
       "      <td>94</td>\n",
       "    </tr>\n",
       "  </tbody>\n",
       "</table>\n",
       "<p>44327 rows × 4 columns</p>\n",
       "</div>"
      ],
      "text/plain": [
       "        index                                  descricao_item ncm_in ncm_out\n",
       "0        1187       14421  DNI   RELE AUXILIAR C  SUPORTE A V   8413      81\n",
       "1        1231    226   PK   CORREIA ALTERNADOR GIR ALT BA ACD   4010      33\n",
       "2        1386     209   CA32 AF   JOGO LONA FREIO TRASEIRO  L   6813      81\n",
       "3        1441  2506      PORCA COMPLETAR ANEL OSCILANTE CH MM   7318      16\n",
       "4        1446        PORCA SUPER ALTA COMPLETAR ANEL OSCILANT   7318      16\n",
       "...       ...                                             ...    ...     ...\n",
       "44322  343242    ZIN  E   MAQUINA DO VIDRO ESQUERDA PINO ALTO   8708      29\n",
       "44323  343243                    ZINCO 100CM  3,50KG P MT  CP   7210      49\n",
       "44324  343244                ZMM 9010811   ALTERNADOR 12V AMP   8511      50\n",
       "44325  343245                              ZORDS COM FIGURA E   9503      00\n",
       "44326  343246           ZUC ZL   TERMINAL DE DIRECAO ESQUERDO   8708      94\n",
       "\n",
       "[44327 rows x 4 columns]"
      ]
     },
     "metadata": {},
     "execution_count": 45
    }
   ],
   "metadata": {}
  },
  {
   "cell_type": "code",
   "execution_count": 46,
   "source": [
    "df = df.drop(columns=['index',])"
   ],
   "outputs": [],
   "metadata": {}
  },
  {
   "cell_type": "code",
   "execution_count": 47,
   "source": [
    "df_group_nw = df.groupby('ncm_out').count()\r\n",
    "df_group_nw\r\n",
    "df_group_nw.plot.bar( figsize=(15, 5))"
   ],
   "outputs": [
    {
     "output_type": "execute_result",
     "data": {
      "text/plain": [
       "<AxesSubplot:xlabel='ncm_out'>"
      ]
     },
     "metadata": {},
     "execution_count": 47
    },
    {
     "output_type": "display_data",
     "data": {
      "image/png": "[encoded data removed]",
      "text/plain": [
       "<Figure size 1080x360 with 1 Axes>"
      ]
     },
     "metadata": {
      "needs_background": "light"
     }
    }
   ],
   "metadata": {}
  },
  {
   "cell_type": "code",
   "execution_count": 48,
   "source": [
    "palavras_final = []\r\n",
    "for i in range(len(df['descricao_item'])): \r\n",
    "    produto = df['descricao_item'].iloc[i]\r\n",
    "    from string import punctuation\r\n",
    "    sentencas = nltk.sent_tokenize(produto)\r\n",
    "    palavras = nltk.word_tokenize(produto.upper())\r\n",
    "    stemmer = nltk.stem.RSLPStemmer()\r\n",
    "    palavras_stem = []\r\n",
    "    for palavra in palavras:\r\n",
    "        palavras_stem.append(stemmer.stem(palavra))\r\n",
    "    palavras_sem_stopwords = [palavras_stem for palavras_stem in palavras_stem if palavras_stem not in stopwords]\r\n",
    "    palavra_final = ' '.join(palavras_sem_stopwords)\r\n",
    "    palavras_final.append(palavra_final)\r\n",
    "x = pd.Series(palavras_final)\r\n",
    "df['descricao_item_clean'] = x"
   ],
   "outputs": [],
   "metadata": {}
  },
  {
   "cell_type": "code",
   "execution_count": 49,
   "source": [
    "df.dropna()\r\n",
    "df.drop(df.loc[df['ncm_out'] == ''].index, inplace=True)"
   ],
   "outputs": [],
   "metadata": {}
  },
  {
   "cell_type": "code",
   "execution_count": 50,
   "source": [
    "data = [df[\"descricao_item_clean\"], df[\"ncm_in\"]]\r\n",
    "\r\n",
    "headers = [\"descricao\", \"ncm_in\"]\r\n",
    "\r\n",
    "df_n = pd.concat(data, axis=1, keys=headers)\r\n"
   ],
   "outputs": [],
   "metadata": {}
  },
  {
   "cell_type": "code",
   "execution_count": 51,
   "source": [
    "from sklearn.preprocessing import LabelEncoder\r\n",
    "\r\n",
    "labels_enc = LabelEncoder()\r\n",
    "labels_enc.fit(df_n['ncm_in'])\r\n",
    "x_train_lables_trf = labels_enc.transform(df_n['ncm_in'])\r\n",
    "df_n['ncm_in'] = x_train_lables_trf"
   ],
   "outputs": [],
   "metadata": {}
  },
  {
   "cell_type": "code",
   "execution_count": 52,
   "source": [
    "!pip install sklearn\r\n",
    "from sklearn.model_selection import train_test_split\r\n",
    "from sklearn.feature_extraction.text import TfidfTransformer\r\n",
    "from sklearn.feature_extraction.text import CountVectorizer\r\n",
    "\r\n",
    "\r\n",
    "labels = df['ncm_out']\r\n",
    "text = df_n\r\n",
    "\r\n",
    "X_train, X_test, y_train, y_test = train_test_split(text, labels, random_state=0, test_size=0.2)\r\n",
    "\r\n",
    "count_vect = CountVectorizer()\r\n",
    "X_train_counts = count_vect.fit_transform(X_train.descricao)\r\n",
    "tf_transformer = TfidfTransformer().fit(X_train_counts)\r\n",
    "X_train_transformed = tf_transformer.transform(X_train_counts)\r\n",
    "\r\n",
    "X_test_counts = count_vect.transform(X_test.descricao)\r\n",
    "X_test_transformed = tf_transformer.transform(X_test_counts)\r\n",
    "\r\n",
    "labels_enc = LabelEncoder()\r\n",
    "y_train_labels_fit = labels_enc.fit(y_train)\r\n",
    "y_train_lables_trf = labels_enc.transform(y_train)\r\n",
    "\r\n",
    "\r\n",
    "\r\n",
    "#print(labels.classes_)"
   ],
   "outputs": [
    {
     "output_type": "stream",
     "name": "stdout",
     "text": [
      "Requirement already satisfied: sklearn in c:\\users\\pedro\\appdata\\local\\programs\\python\\python38\\lib\\site-packages (0.0)\n",
      "Requirement already satisfied: scikit-learn in c:\\users\\pedro\\appdata\\local\\programs\\python\\python38\\lib\\site-packages (from sklearn) (0.23.2)\n",
      "Requirement already satisfied: scipy>=0.19.1 in c:\\users\\pedro\\appdata\\local\\programs\\python\\python38\\lib\\site-packages (from scikit-learn->sklearn) (1.5.3)\n",
      "Requirement already satisfied: joblib>=0.11 in c:\\users\\pedro\\appdata\\local\\programs\\python\\python38\\lib\\site-packages (from scikit-learn->sklearn) (0.17.0)\n",
      "Requirement already satisfied: numpy>=1.13.3 in c:\\users\\pedro\\appdata\\local\\programs\\python\\python38\\lib\\site-packages (from scikit-learn->sklearn) (1.19.0)\n",
      "Requirement already satisfied: threadpoolctl>=2.0.0 in c:\\users\\pedro\\appdata\\local\\programs\\python\\python38\\lib\\site-packages (from scikit-learn->sklearn) (2.1.0)\n"
     ]
    }
   ],
   "metadata": {}
  },
  {
   "cell_type": "code",
   "execution_count": 53,
   "source": [
    "import scipy.sparse as sp\r\n",
    "X_position_train = np.atleast_2d(X_train.ncm_in.astype(int)).T\r\n",
    "X_train = sp.hstack((X_train_transformed, X_position_train))\r\n",
    "\r\n",
    "X_position_test = np.atleast_2d(X_test.ncm_in.astype(int)).T\r\n",
    "X_test = sp.hstack((X_test_transformed, X_position_test))"
   ],
   "outputs": [],
   "metadata": {}
  },
  {
   "cell_type": "code",
   "execution_count": 54,
   "source": [
    "from sklearn.svm import LinearSVC\r\n",
    "\r\n",
    "linear_svc = LinearSVC()\r\n",
    "clf = linear_svc.fit(X_train,y_train)"
   ],
   "outputs": [
    {
     "output_type": "stream",
     "name": "stderr",
     "text": [
      "C:\\Users\\Pedro\\AppData\\Local\\Programs\\Python\\Python38\\lib\\site-packages\\sklearn\\svm\\_base.py:976: ConvergenceWarning: Liblinear failed to converge, increase the number of iterations.\n",
      "  warnings.warn(\"Liblinear failed to converge, increase \"\n"
     ]
    }
   ],
   "metadata": {}
  },
  {
   "cell_type": "code",
   "execution_count": 55,
   "source": [
    "from sklearn import metrics\r\n",
    "import numpy as np\r\n",
    "y_test = y_test.astype(int)\r\n",
    "#p_count = count_vect.transform(list(X_test))\r\n",
    "#p_tfidf = tf_transformer.transform(p_count)\r\n",
    "y_pred = clf.predict(X_test)\r\n",
    "y_pred = list(map(int, y_pred))\r\n",
    "print(metrics.classification_report(y_test,y_pred))"
   ],
   "outputs": [
    {
     "output_type": "stream",
     "name": "stdout",
     "text": [
      "              precision    recall  f1-score   support\n",
      "\n",
      "           0       0.45      0.23      0.30       218\n",
      "          10       0.41      0.29      0.34       195\n",
      "          11       0.58      0.42      0.49       219\n",
      "          12       0.61      0.50      0.55       201\n",
      "          13       0.62      0.58      0.60       118\n",
      "          14       0.64      0.78      0.71       206\n",
      "          15       0.76      0.62      0.69       215\n",
      "          16       0.80      0.85      0.82       176\n",
      "          17       0.56      0.58      0.57        50\n",
      "          19       0.40      0.44      0.42       195\n",
      "          20       0.43      0.40      0.41       184\n",
      "          21       0.32      0.46      0.38       229\n",
      "          22       0.58      0.73      0.65       196\n",
      "          23       0.59      0.73      0.65       190\n",
      "          28       0.78      0.43      0.55        42\n",
      "          29       0.34      0.30      0.32       219\n",
      "          30       0.49      0.20      0.28       213\n",
      "          31       0.73      0.61      0.66       203\n",
      "          32       0.31      0.54      0.39       193\n",
      "          33       0.78      0.58      0.67       151\n",
      "          37       0.81      0.57      0.67       100\n",
      "          39       0.47      0.32      0.38       195\n",
      "          40       0.63      0.39      0.48       184\n",
      "          41       0.60      0.38      0.47       186\n",
      "          42       0.36      0.39      0.37       200\n",
      "          43       0.76      0.40      0.53       202\n",
      "          44       0.44      0.97      0.60       188\n",
      "          49       0.53      0.13      0.21       203\n",
      "          50       0.30      0.09      0.14       205\n",
      "          51       0.58      0.31      0.40       130\n",
      "          52       0.79      0.33      0.46        95\n",
      "          53       0.72      0.51      0.60        51\n",
      "          54       0.10      0.10      0.10        31\n",
      "          56       0.60      1.00      0.75        28\n",
      "          59       0.68      0.29      0.41       178\n",
      "          60       0.60      0.63      0.61       172\n",
      "          61       0.42      0.36      0.39       164\n",
      "          62       0.58      0.81      0.68       212\n",
      "          63       0.85      0.53      0.65       199\n",
      "          69       0.86      0.43      0.58       189\n",
      "          70       0.57      0.18      0.28       208\n",
      "          72       0.53      0.84      0.65        51\n",
      "          79       0.00      0.00      0.00        48\n",
      "          80       0.85      0.39      0.54       205\n",
      "          81       0.37      0.26      0.30        97\n",
      "          82       0.90      0.34      0.50        76\n",
      "          89       0.38      0.28      0.32       165\n",
      "          90       0.30      0.39      0.34       194\n",
      "          91       0.63      0.28      0.39       193\n",
      "          92       0.84      0.50      0.63       199\n",
      "          93       0.54      0.83      0.65       189\n",
      "          94       0.68      0.62      0.65       188\n",
      "          95       0.57      0.84      0.68        55\n",
      "          99       0.09      0.66      0.16       206\n",
      "\n",
      "    accuracy                           0.47      8799\n",
      "   macro avg       0.56      0.47      0.48      8799\n",
      "weighted avg       0.56      0.47      0.48      8799\n",
      "\n"
     ]
    },
    {
     "output_type": "stream",
     "name": "stderr",
     "text": [
      "C:\\Users\\Pedro\\AppData\\Local\\Programs\\Python\\Python38\\lib\\site-packages\\sklearn\\metrics\\_classification.py:1221: UndefinedMetricWarning: Precision and F-score are ill-defined and being set to 0.0 in labels with no predicted samples. Use `zero_division` parameter to control this behavior.\n",
      "  _warn_prf(average, modifier, msg_start, len(result))\n"
     ]
    }
   ],
   "metadata": {}
  }
 ],
 "metadata": {
  "interpreter": {
   "hash": "eb1a3d8c7dad79be73d9427f058ed676cf5bd543ef481e776052cfa6e7a46cfb"
  },
  "kernelspec": {
   "name": "python3",
   "display_name": "Python 3.8.6 64-bit"
  },
  "language_info": {
   "codemirror_mode": {
    "name": "ipython",
    "version": 3
   },
   "file_extension": ".py",
   "mimetype": "text/x-python",
   "name": "python",
   "nbconvert_exporter": "python",
   "pygments_lexer": "ipython3",
   "version": "3.8.6"
  },
  "orig_nbformat": 4
 },
 "nbformat": 4,
 "nbformat_minor": 2
}