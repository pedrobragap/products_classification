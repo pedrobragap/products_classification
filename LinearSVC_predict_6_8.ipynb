{
 "cells": [
  {
   "cell_type": "code",
   "execution_count": 1,
   "source": [
    "!pip install nltk\n",
    "import nltk\n",
    "nltk.download('punkt')\n",
    "nltk.download('stopwords')\n",
    "nltk.download('rslp')\n",
    "stopwords = set(nltk.corpus.stopwords.words('portuguese'))"
   ],
   "outputs": [
    {
     "output_type": "stream",
     "name": "stdout",
     "text": [
      "Requirement already satisfied: nltk in /home/pedrox/.local/lib/python3.9/site-packages (3.6.2)\n",
      "Requirement already satisfied: joblib in /home/pedrox/.local/lib/python3.9/site-packages (from nltk) (1.0.1)\n",
      "Requirement already satisfied: tqdm in /home/pedrox/.local/lib/python3.9/site-packages (from nltk) (4.61.2)\n",
      "Requirement already satisfied: click in /home/pedrox/.local/lib/python3.9/site-packages (from nltk) (8.0.1)\n",
      "Requirement already satisfied: regex in /home/pedrox/.local/lib/python3.9/site-packages (from nltk) (2021.7.6)\n"
     ]
    },
    {
     "output_type": "stream",
     "name": "stderr",
     "text": [
      "[nltk_data] Downloading package punkt to /home/pedrox/nltk_data...\n",
      "[nltk_data]   Package punkt is already up-to-date!\n",
      "[nltk_data] Downloading package stopwords to /home/pedrox/nltk_data...\n",
      "[nltk_data]   Package stopwords is already up-to-date!\n",
      "[nltk_data] Downloading package rslp to /home/pedrox/nltk_data...\n",
      "[nltk_data]   Package rslp is already up-to-date!\n"
     ]
    }
   ],
   "metadata": {}
  },
  {
   "cell_type": "code",
   "execution_count": 2,
   "source": [
    "!pip install pandas\n",
    "import pandas as pd\n",
    "df = pd.read_csv('./data_cleaning.csv',sep=';')\n",
    "#df = df.drop(columns=['index'])\n",
    "df[\"ncm\"] = df[\"ncm\"].astype(str)\n",
    "for i in range(len(df)):\n",
    "  if len(df[\"ncm\"].iloc[i]) < 8:\n",
    "    df[\"ncm\"].iloc[i] = \"0\"+ df[\"ncm\"].iloc[i]\n",
    "df['ncm_in'] = df['ncm'].astype(str).str[:6]\n",
    "df['ncm_out'] = df['ncm'].astype(str).str[6:8]\n",
    "df = df.drop(columns=['Unnamed: 0','ncm'])\n",
    "\n",
    "df = df.dropna()"
   ],
   "outputs": [
    {
     "output_type": "stream",
     "name": "stdout",
     "text": [
      "Requirement already satisfied: pandas in /home/pedrox/.local/lib/python3.9/site-packages (1.3.1)\n",
      "Requirement already satisfied: python-dateutil>=2.7.3 in /usr/lib/python3/dist-packages (from pandas) (2.8.1)\n",
      "Requirement already satisfied: numpy>=1.17.3 in /home/pedrox/.local/lib/python3.9/site-packages (from pandas) (1.21.1)\n",
      "Requirement already satisfied: pytz>=2017.3 in /usr/lib/python3/dist-packages (from pandas) (2021.1)\n"
     ]
    },
    {
     "output_type": "stream",
     "name": "stderr",
     "text": [
      "/home/pedrox/.local/lib/python3.9/site-packages/pandas/core/indexing.py:1732: SettingWithCopyWarning: \n",
      "A value is trying to be set on a copy of a slice from a DataFrame\n",
      "\n",
      "See the caveats in the documentation: https://pandas.pydata.org/pandas-docs/stable/user_guide/indexing.html#returning-a-view-versus-a-copy\n",
      "  self._setitem_single_block(indexer, value, name)\n"
     ]
    }
   ],
   "metadata": {}
  },
  {
   "cell_type": "code",
   "execution_count": 3,
   "source": [
    "!pip install matplotlib\n",
    "import matplotlib.pyplot as plt\n",
    "df_group = df.groupby('ncm_out').count()\n",
    "df_group\n",
    "df_group.plot.bar( figsize=(15, 5))"
   ],
   "outputs": [
    {
     "output_type": "stream",
     "name": "stdout",
     "text": [
      "Requirement already satisfied: matplotlib in /home/pedrox/.local/lib/python3.9/site-packages (3.4.2)\n",
      "Requirement already satisfied: python-dateutil>=2.7 in /usr/lib/python3/dist-packages (from matplotlib) (2.8.1)\n",
      "Requirement already satisfied: pyparsing>=2.2.1 in /home/pedrox/.local/lib/python3.9/site-packages (from matplotlib) (2.4.7)\n",
      "Requirement already satisfied: cycler>=0.10 in /home/pedrox/.local/lib/python3.9/site-packages (from matplotlib) (0.10.0)\n",
      "Requirement already satisfied: kiwisolver>=1.0.1 in /home/pedrox/.local/lib/python3.9/site-packages (from matplotlib) (1.3.1)\n",
      "Requirement already satisfied: pillow>=6.2.0 in /usr/lib/python3/dist-packages (from matplotlib) (8.1.2)\n",
      "Requirement already satisfied: numpy>=1.16 in /home/pedrox/.local/lib/python3.9/site-packages (from matplotlib) (1.21.1)\n",
      "Requirement already satisfied: six in /usr/lib/python3/dist-packages (from cycler>=0.10->matplotlib) (1.15.0)\n"
     ]
    },
    {
     "output_type": "execute_result",
     "data": {
      "text/plain": [
       "<AxesSubplot:xlabel='ncm_out'>"
      ]
     },
     "metadata": {},
     "execution_count": 3
    },
    {
     "output_type": "display_data",
     "data": {
      "image/png": "[encoded data removed]",
      "text/plain": [
       "<Figure size 1080x360 with 1 Axes>"
      ]
     },
     "metadata": {
      "needs_background": "light"
     }
    }
   ],
   "metadata": {}
  },
  {
   "cell_type": "code",
   "execution_count": 4,
   "source": [
    "over5000 = []\n",
    "median = []\n",
    "less1000 = []\n",
    "\n",
    "for i in range(len(df_group)):\n",
    "    if df_group['descricao_item'].iloc[i] > 1000:\n",
    "        over5000.append(df_group['descricao_item'].index[i])\n",
    "    elif df_group['descricao_item'].iloc[i] < 100:\n",
    "        less1000.append(df_group['descricao_item'].index[i])\n",
    "    else:\n",
    "        median.append(df_group['descricao_item'].index[i])"
   ],
   "outputs": [],
   "metadata": {}
  },
  {
   "cell_type": "code",
   "execution_count": 5,
   "source": [
    "print(f\"acima de 1000 amostras {len(over5000)}\\nentre 1000 e 100 {len(median)}\\nabaixo de 100 {len(less1000)}\")\n"
   ],
   "outputs": [
    {
     "output_type": "stream",
     "name": "stdout",
     "text": [
      "acima de 1000 amostras 13\n",
      "entre 1000 e 100 30\n",
      "abaixo de 100 47\n"
     ]
    }
   ],
   "metadata": {}
  },
  {
   "cell_type": "code",
   "execution_count": 6,
   "source": [
    "len(df)"
   ],
   "outputs": [
    {
     "output_type": "execute_result",
     "data": {
      "text/plain": [
       "343240"
      ]
     },
     "metadata": {},
     "execution_count": 6
    }
   ],
   "metadata": {}
  },
  {
   "cell_type": "code",
   "execution_count": 7,
   "source": [
    "#DROP menores que 1000\n",
    "for i in less1000:\n",
    "   df.drop(df.loc[df['ncm_out'] == i].index, inplace=True)"
   ],
   "outputs": [],
   "metadata": {}
  },
  {
   "cell_type": "code",
   "execution_count": 8,
   "source": [
    "len(df)"
   ],
   "outputs": [
    {
     "output_type": "execute_result",
     "data": {
      "text/plain": [
       "341821"
      ]
     },
     "metadata": {},
     "execution_count": 8
    }
   ],
   "metadata": {}
  },
  {
   "cell_type": "code",
   "execution_count": 9,
   "source": [
    "import pandas as pd\n",
    "import numpy as np\n",
    "\n",
    "\n",
    "for i in over5000: \n",
    "    remove_n = len(df.loc[df['ncm_out'] == i ]) - 1000\n",
    "    remove_class = i\n",
    "    # Here you first find the indexes where class is equal to the class you want to drop.\n",
    "    #Then you slice only the first n indexes of this class\n",
    "    index_to_drop = df.index[df['ncm_out'] == remove_class][:remove_n]\n",
    "    #Finally drop those indexes\n",
    "    df = df.drop(index_to_drop)"
   ],
   "outputs": [],
   "metadata": {}
  },
  {
   "cell_type": "code",
   "execution_count": 10,
   "source": [
    "df = df.reset_index()\n",
    "df"
   ],
   "outputs": [
    {
     "output_type": "execute_result",
     "data": {
      "text/html": [
       "<div>\n",
       "<style scoped>\n",
       "    .dataframe tbody tr th:only-of-type {\n",
       "        vertical-align: middle;\n",
       "    }\n",
       "\n",
       "    .dataframe tbody tr th {\n",
       "        vertical-align: top;\n",
       "    }\n",
       "\n",
       "    .dataframe thead th {\n",
       "        text-align: right;\n",
       "    }\n",
       "</style>\n",
       "<table border=\"1\" class=\"dataframe\">\n",
       "  <thead>\n",
       "    <tr style=\"text-align: right;\">\n",
       "      <th></th>\n",
       "      <th>index</th>\n",
       "      <th>descricao_item</th>\n",
       "      <th>ncm_in</th>\n",
       "      <th>ncm_out</th>\n",
       "    </tr>\n",
       "  </thead>\n",
       "  <tbody>\n",
       "    <tr>\n",
       "      <th>0</th>\n",
       "      <td>0</td>\n",
       "      <td>BETAISTINA DICLOR MG  CPS   GEN Dicloridrato d...</td>\n",
       "      <td>300490</td>\n",
       "      <td>69</td>\n",
       "    </tr>\n",
       "    <tr>\n",
       "      <th>1</th>\n",
       "      <td>1</td>\n",
       "      <td>BROMOPRIDA MG  CPS   GEN BROMOPRIDA</td>\n",
       "      <td>300490</td>\n",
       "      <td>45</td>\n",
       "    </tr>\n",
       "    <tr>\n",
       "      <th>2</th>\n",
       "      <td>2</td>\n",
       "      <td>DESLORATADINA ,MG ML XPE VD 6ML   GEN DESLORAT...</td>\n",
       "      <td>300490</td>\n",
       "      <td>69</td>\n",
       "    </tr>\n",
       "    <tr>\n",
       "      <th>3</th>\n",
       "      <td>3</td>\n",
       "      <td>ACETILCISTEINA 600MG G  ENV G   GEN ACETILCIST...</td>\n",
       "      <td>300490</td>\n",
       "      <td>59</td>\n",
       "    </tr>\n",
       "    <tr>\n",
       "      <th>4</th>\n",
       "      <td>7</td>\n",
       "      <td>NEOMICINA BACITRACINA POM G   GEN BACITRACINA ...</td>\n",
       "      <td>300420</td>\n",
       "      <td>69</td>\n",
       "    </tr>\n",
       "    <tr>\n",
       "      <th>...</th>\n",
       "      <td>...</td>\n",
       "      <td>...</td>\n",
       "      <td>...</td>\n",
       "      <td>...</td>\n",
       "    </tr>\n",
       "    <tr>\n",
       "      <th>22563</th>\n",
       "      <td>343242</td>\n",
       "      <td>ZIN  E   MAQUINA DO VIDRO ESQUERDA PINO ALTO</td>\n",
       "      <td>870829</td>\n",
       "      <td>99</td>\n",
       "    </tr>\n",
       "    <tr>\n",
       "      <th>22564</th>\n",
       "      <td>343243</td>\n",
       "      <td>ZINCO 100CM  3,50KG P MT  CP</td>\n",
       "      <td>721049</td>\n",
       "      <td>10</td>\n",
       "    </tr>\n",
       "    <tr>\n",
       "      <th>22565</th>\n",
       "      <td>343244</td>\n",
       "      <td>ZMM 9010811   ALTERNADOR 12V AMP</td>\n",
       "      <td>851150</td>\n",
       "      <td>10</td>\n",
       "    </tr>\n",
       "    <tr>\n",
       "      <th>22566</th>\n",
       "      <td>343245</td>\n",
       "      <td>ZORDS COM FIGURA E</td>\n",
       "      <td>950300</td>\n",
       "      <td>39</td>\n",
       "    </tr>\n",
       "    <tr>\n",
       "      <th>22567</th>\n",
       "      <td>343246</td>\n",
       "      <td>ZUC ZL   TERMINAL DE DIRECAO ESQUERDO</td>\n",
       "      <td>870894</td>\n",
       "      <td>12</td>\n",
       "    </tr>\n",
       "  </tbody>\n",
       "</table>\n",
       "<p>22568 rows × 4 columns</p>\n",
       "</div>"
      ],
      "text/plain": [
       "        index                                     descricao_item  ncm_in  \\\n",
       "0           0  BETAISTINA DICLOR MG  CPS   GEN Dicloridrato d...  300490   \n",
       "1           1                BROMOPRIDA MG  CPS   GEN BROMOPRIDA  300490   \n",
       "2           2  DESLORATADINA ,MG ML XPE VD 6ML   GEN DESLORAT...  300490   \n",
       "3           3  ACETILCISTEINA 600MG G  ENV G   GEN ACETILCIST...  300490   \n",
       "4           7  NEOMICINA BACITRACINA POM G   GEN BACITRACINA ...  300420   \n",
       "...       ...                                                ...     ...   \n",
       "22563  343242       ZIN  E   MAQUINA DO VIDRO ESQUERDA PINO ALTO  870829   \n",
       "22564  343243                       ZINCO 100CM  3,50KG P MT  CP  721049   \n",
       "22565  343244                   ZMM 9010811   ALTERNADOR 12V AMP  851150   \n",
       "22566  343245                                 ZORDS COM FIGURA E  950300   \n",
       "22567  343246              ZUC ZL   TERMINAL DE DIRECAO ESQUERDO  870894   \n",
       "\n",
       "      ncm_out  \n",
       "0          69  \n",
       "1          45  \n",
       "2          69  \n",
       "3          59  \n",
       "4          69  \n",
       "...       ...  \n",
       "22563      99  \n",
       "22564      10  \n",
       "22565      10  \n",
       "22566      39  \n",
       "22567      12  \n",
       "\n",
       "[22568 rows x 4 columns]"
      ]
     },
     "metadata": {},
     "execution_count": 10
    }
   ],
   "metadata": {}
  },
  {
   "cell_type": "code",
   "execution_count": 11,
   "source": [
    "df = df.drop(columns=['index',])"
   ],
   "outputs": [],
   "metadata": {}
  },
  {
   "cell_type": "code",
   "execution_count": 12,
   "source": [
    "df_group_nw = df.groupby('ncm_out').count()\n",
    "df_group_nw\n",
    "df_group_nw.plot.bar( figsize=(15, 5))"
   ],
   "outputs": [
    {
     "output_type": "execute_result",
     "data": {
      "text/plain": [
       "<AxesSubplot:xlabel='ncm_out'>"
      ]
     },
     "metadata": {},
     "execution_count": 12
    },
    {
     "output_type": "display_data",
     "data": {
      "image/png": "[encoded data removed]",
      "text/plain": [
       "<Figure size 1080x360 with 1 Axes>"
      ]
     },
     "metadata": {
      "needs_background": "light"
     }
    }
   ],
   "metadata": {}
  },
  {
   "cell_type": "code",
   "execution_count": 13,
   "source": [
    "palavras_final = []\n",
    "for i in range(len(df['descricao_item'])): \n",
    "    produto = df['descricao_item'].iloc[i]\n",
    "    from string import punctuation\n",
    "    sentencas = nltk.sent_tokenize(produto)\n",
    "    palavras = nltk.word_tokenize(produto.upper())\n",
    "    stemmer = nltk.stem.RSLPStemmer()\n",
    "    palavras_stem = []\n",
    "    for palavra in palavras:\n",
    "        palavras_stem.append(stemmer.stem(palavra))\n",
    "    palavras_sem_stopwords = [palavras_stem for palavras_stem in palavras_stem if palavras_stem not in stopwords]\n",
    "    palavra_final = ' '.join(palavras_sem_stopwords)\n",
    "    palavras_final.append(palavra_final)\n",
    "x = pd.Series(palavras_final)\n",
    "df['descricao_item_clean'] = x"
   ],
   "outputs": [],
   "metadata": {}
  },
  {
   "cell_type": "code",
   "execution_count": 14,
   "source": [
    "df.dropna()\n",
    "df.drop(df.loc[df['ncm_out'] == ''].index, inplace=True)"
   ],
   "outputs": [],
   "metadata": {}
  },
  {
   "cell_type": "code",
   "execution_count": 15,
   "source": [
    "data = [df[\"descricao_item_clean\"], df[\"ncm_in\"]]\n",
    "\n",
    "headers = [\"descricao\", \"ncm_in\"]\n",
    "\n",
    "df_n = pd.concat(data, axis=1, keys=headers)\n"
   ],
   "outputs": [],
   "metadata": {}
  },
  {
   "cell_type": "code",
   "execution_count": 23,
   "source": [
    "!pip install sklearn\n",
    "from sklearn.model_selection import train_test_split\n",
    "from sklearn.feature_extraction.text import TfidfTransformer\n",
    "from sklearn.feature_extraction.text import CountVectorizer\n",
    "from sklearn.preprocessing import LabelEncoder\n",
    "\n",
    "labels = df['ncm_out']\n",
    "text = df_n\n",
    "\n",
    "X_train, X_test, y_train, y_test = train_test_split(text, labels, random_state=0, test_size=0.2)\n",
    "\n",
    "count_vect = CountVectorizer()\n",
    "X_train_counts = count_vect.fit_transform(X_train.descricao)\n",
    "tf_transformer = TfidfTransformer().fit(X_train_counts)\n",
    "X_train_transformed = tf_transformer.transform(X_train_counts)\n",
    "\n",
    "X_test_counts = count_vect.transform(X_test.descricao)\n",
    "X_test_transformed = tf_transformer.transform(X_test_counts)\n",
    "\n",
    "labels_enc = LabelEncoder()\n",
    "y_train_labels_fit = labels_enc.fit(y_train)\n",
    "y_train_lables_trf = labels_enc.transform(y_train)\n",
    "\n",
    "#print(labels.classes_)"
   ],
   "outputs": [
    {
     "output_type": "stream",
     "name": "stdout",
     "text": [
      "Requirement already satisfied: sklearn in /home/pedrox/.local/lib/python3.9/site-packages (0.0)\n",
      "Requirement already satisfied: scikit-learn in /home/pedrox/.local/lib/python3.9/site-packages (from sklearn) (0.24.2)\n",
      "Requirement already satisfied: scipy>=0.19.1 in /home/pedrox/.local/lib/python3.9/site-packages (from scikit-learn->sklearn) (1.7.0)\n",
      "Requirement already satisfied: numpy>=1.13.3 in /home/pedrox/.local/lib/python3.9/site-packages (from scikit-learn->sklearn) (1.21.1)\n",
      "Requirement already satisfied: threadpoolctl>=2.0.0 in /home/pedrox/.local/lib/python3.9/site-packages (from scikit-learn->sklearn) (2.2.0)\n",
      "Requirement already satisfied: joblib>=0.11 in /home/pedrox/.local/lib/python3.9/site-packages (from scikit-learn->sklearn) (1.0.1)\n"
     ]
    }
   ],
   "metadata": {}
  },
  {
   "cell_type": "code",
   "execution_count": 24,
   "source": [
    "import scipy.sparse as sp\n",
    "X_position_train = np.atleast_2d(X_train.ncm_in.astype(str)).T\n",
    "X_train = sp.hstack((X_train_transformed, X_position_train))\n",
    "\n",
    "X_position_test = np.atleast_2d(X_test.ncm_in.astype(str)).T\n",
    "X_test = sp.hstack((X_test_transformed, X_position_test))"
   ],
   "outputs": [
    {
     "output_type": "error",
     "ename": "TypeError",
     "evalue": "no supported conversion for types: (dtype('float64'), dtype('O'))",
     "traceback": [
      "\u001b[0;31m---------------------------------------------------------------------------\u001b[0m",
      "\u001b[0;31mTypeError\u001b[0m                                 Traceback (most recent call last)",
      "\u001b[0;32m/tmp/ipykernel_5521/1703274168.py\u001b[0m in \u001b[0;36m<module>\u001b[0;34m\u001b[0m\n\u001b[1;32m      1\u001b[0m \u001b[0;32mimport\u001b[0m \u001b[0mscipy\u001b[0m\u001b[0;34m.\u001b[0m\u001b[0msparse\u001b[0m \u001b[0;32mas\u001b[0m \u001b[0msp\u001b[0m\u001b[0;34m\u001b[0m\u001b[0;34m\u001b[0m\u001b[0m\n\u001b[1;32m      2\u001b[0m \u001b[0mX_position_train\u001b[0m \u001b[0;34m=\u001b[0m \u001b[0mnp\u001b[0m\u001b[0;34m.\u001b[0m\u001b[0matleast_2d\u001b[0m\u001b[0;34m(\u001b[0m\u001b[0mX_train\u001b[0m\u001b[0;34m.\u001b[0m\u001b[0mncm_in\u001b[0m\u001b[0;34m.\u001b[0m\u001b[0mastype\u001b[0m\u001b[0;34m(\u001b[0m\u001b[0mstr\u001b[0m\u001b[0;34m)\u001b[0m\u001b[0;34m)\u001b[0m\u001b[0;34m.\u001b[0m\u001b[0mT\u001b[0m\u001b[0;34m\u001b[0m\u001b[0;34m\u001b[0m\u001b[0m\n\u001b[0;32m----> 3\u001b[0;31m \u001b[0mX_train\u001b[0m \u001b[0;34m=\u001b[0m \u001b[0msp\u001b[0m\u001b[0;34m.\u001b[0m\u001b[0mhstack\u001b[0m\u001b[0;34m(\u001b[0m\u001b[0;34m(\u001b[0m\u001b[0mX_train_transformed\u001b[0m\u001b[0;34m,\u001b[0m \u001b[0mX_position_train\u001b[0m\u001b[0;34m)\u001b[0m\u001b[0;34m)\u001b[0m\u001b[0;34m\u001b[0m\u001b[0;34m\u001b[0m\u001b[0m\n\u001b[0m\u001b[1;32m      4\u001b[0m \u001b[0;34m\u001b[0m\u001b[0m\n\u001b[1;32m      5\u001b[0m \u001b[0mX_position_test\u001b[0m \u001b[0;34m=\u001b[0m \u001b[0mnp\u001b[0m\u001b[0;34m.\u001b[0m\u001b[0matleast_2d\u001b[0m\u001b[0;34m(\u001b[0m\u001b[0mX_test\u001b[0m\u001b[0;34m.\u001b[0m\u001b[0mncm_in\u001b[0m\u001b[0;34m.\u001b[0m\u001b[0mastype\u001b[0m\u001b[0;34m(\u001b[0m\u001b[0mstr\u001b[0m\u001b[0;34m)\u001b[0m\u001b[0;34m)\u001b[0m\u001b[0;34m.\u001b[0m\u001b[0mT\u001b[0m\u001b[0;34m\u001b[0m\u001b[0;34m\u001b[0m\u001b[0m\n",
      "\u001b[0;32m~/.local/lib/python3.9/site-packages/scipy/sparse/construct.py\u001b[0m in \u001b[0;36mhstack\u001b[0;34m(blocks, format, dtype)\u001b[0m\n\u001b[1;32m    465\u001b[0m \u001b[0;34m\u001b[0m\u001b[0m\n\u001b[1;32m    466\u001b[0m     \"\"\"\n\u001b[0;32m--> 467\u001b[0;31m     \u001b[0;32mreturn\u001b[0m \u001b[0mbmat\u001b[0m\u001b[0;34m(\u001b[0m\u001b[0;34m[\u001b[0m\u001b[0mblocks\u001b[0m\u001b[0;34m]\u001b[0m\u001b[0;34m,\u001b[0m \u001b[0mformat\u001b[0m\u001b[0;34m=\u001b[0m\u001b[0mformat\u001b[0m\u001b[0;34m,\u001b[0m \u001b[0mdtype\u001b[0m\u001b[0;34m=\u001b[0m\u001b[0mdtype\u001b[0m\u001b[0;34m)\u001b[0m\u001b[0;34m\u001b[0m\u001b[0;34m\u001b[0m\u001b[0m\n\u001b[0m\u001b[1;32m    468\u001b[0m \u001b[0;34m\u001b[0m\u001b[0m\n\u001b[1;32m    469\u001b[0m \u001b[0;34m\u001b[0m\u001b[0m\n",
      "\u001b[0;32m~/.local/lib/python3.9/site-packages/scipy/sparse/construct.py\u001b[0m in \u001b[0;36mbmat\u001b[0;34m(blocks, format, dtype)\u001b[0m\n\u001b[1;32m    601\u001b[0m     \u001b[0;32mif\u001b[0m \u001b[0mdtype\u001b[0m \u001b[0;32mis\u001b[0m \u001b[0;32mNone\u001b[0m\u001b[0;34m:\u001b[0m\u001b[0;34m\u001b[0m\u001b[0;34m\u001b[0m\u001b[0m\n\u001b[1;32m    602\u001b[0m         \u001b[0mall_dtypes\u001b[0m \u001b[0;34m=\u001b[0m \u001b[0;34m[\u001b[0m\u001b[0mblk\u001b[0m\u001b[0;34m.\u001b[0m\u001b[0mdtype\u001b[0m \u001b[0;32mfor\u001b[0m \u001b[0mblk\u001b[0m \u001b[0;32min\u001b[0m \u001b[0mblocks\u001b[0m\u001b[0;34m[\u001b[0m\u001b[0mblock_mask\u001b[0m\u001b[0;34m]\u001b[0m\u001b[0;34m]\u001b[0m\u001b[0;34m\u001b[0m\u001b[0;34m\u001b[0m\u001b[0m\n\u001b[0;32m--> 603\u001b[0;31m         \u001b[0mdtype\u001b[0m \u001b[0;34m=\u001b[0m \u001b[0mupcast\u001b[0m\u001b[0;34m(\u001b[0m\u001b[0;34m*\u001b[0m\u001b[0mall_dtypes\u001b[0m\u001b[0;34m)\u001b[0m \u001b[0;32mif\u001b[0m \u001b[0mall_dtypes\u001b[0m \u001b[0;32melse\u001b[0m \u001b[0;32mNone\u001b[0m\u001b[0;34m\u001b[0m\u001b[0;34m\u001b[0m\u001b[0m\n\u001b[0m\u001b[1;32m    604\u001b[0m \u001b[0;34m\u001b[0m\u001b[0m\n\u001b[1;32m    605\u001b[0m     \u001b[0mrow_offsets\u001b[0m \u001b[0;34m=\u001b[0m \u001b[0mnp\u001b[0m\u001b[0;34m.\u001b[0m\u001b[0mappend\u001b[0m\u001b[0;34m(\u001b[0m\u001b[0;36m0\u001b[0m\u001b[0;34m,\u001b[0m \u001b[0mnp\u001b[0m\u001b[0;34m.\u001b[0m\u001b[0mcumsum\u001b[0m\u001b[0;34m(\u001b[0m\u001b[0mbrow_lengths\u001b[0m\u001b[0;34m)\u001b[0m\u001b[0;34m)\u001b[0m\u001b[0;34m\u001b[0m\u001b[0;34m\u001b[0m\u001b[0m\n",
      "\u001b[0;32m~/.local/lib/python3.9/site-packages/scipy/sparse/sputils.py\u001b[0m in \u001b[0;36mupcast\u001b[0;34m(*args)\u001b[0m\n\u001b[1;32m     49\u001b[0m             \u001b[0;32mreturn\u001b[0m \u001b[0mt\u001b[0m\u001b[0;34m\u001b[0m\u001b[0;34m\u001b[0m\u001b[0m\n\u001b[1;32m     50\u001b[0m \u001b[0;34m\u001b[0m\u001b[0m\n\u001b[0;32m---> 51\u001b[0;31m     \u001b[0;32mraise\u001b[0m \u001b[0mTypeError\u001b[0m\u001b[0;34m(\u001b[0m\u001b[0;34m'no supported conversion for types: %r'\u001b[0m \u001b[0;34m%\u001b[0m \u001b[0;34m(\u001b[0m\u001b[0margs\u001b[0m\u001b[0;34m,\u001b[0m\u001b[0;34m)\u001b[0m\u001b[0;34m)\u001b[0m\u001b[0;34m\u001b[0m\u001b[0;34m\u001b[0m\u001b[0m\n\u001b[0m\u001b[1;32m     52\u001b[0m \u001b[0;34m\u001b[0m\u001b[0m\n\u001b[1;32m     53\u001b[0m \u001b[0;34m\u001b[0m\u001b[0m\n",
      "\u001b[0;31mTypeError\u001b[0m: no supported conversion for types: (dtype('float64'), dtype('O'))"
     ]
    }
   ],
   "metadata": {}
  },
  {
   "cell_type": "code",
   "execution_count": 18,
   "source": [
    "from sklearn.svm import LinearSVC\n",
    "\n",
    "linear_svc = LinearSVC()\n",
    "clf = linear_svc.fit(X_train,y_train)"
   ],
   "outputs": [
    {
     "output_type": "stream",
     "name": "stderr",
     "text": [
      "/home/pedrox/.local/lib/python3.9/site-packages/sklearn/svm/_base.py:985: ConvergenceWarning: Liblinear failed to converge, increase the number of iterations.\n",
      "  warnings.warn(\"Liblinear failed to converge, increase \"\n"
     ]
    }
   ],
   "metadata": {}
  },
  {
   "cell_type": "code",
   "execution_count": 21,
   "source": [
    "from sklearn import metrics\n",
    "import numpy as np\n",
    "y_test = y_test.astype(int)\n",
    "#p_count = count_vect.transform(list(X_test))\n",
    "#p_tfidf = tf_transformer.transform(p_count)\n",
    "y_pred = clf.predict(X_test)\n",
    "y_pred = list(map(int, y_pred))\n",
    "print(metrics.classification_report(y_test,y_pred))"
   ],
   "outputs": [
    {
     "output_type": "stream",
     "name": "stdout",
     "text": [
      "              precision    recall  f1-score   support\n",
      "\n",
      "           0       0.00      0.00      0.00       205\n",
      "          10       0.00      0.00      0.00       183\n",
      "          11       0.00      0.00      0.00       206\n",
      "          12       0.00      0.00      0.00       143\n",
      "          13       0.00      0.00      0.00        54\n",
      "          14       0.00      0.00      0.00        39\n",
      "          19       0.00      0.00      0.00       210\n",
      "          20       0.00      0.00      0.00       194\n",
      "          21       0.00      0.00      0.00       184\n",
      "          22       0.00      0.00      0.00       199\n",
      "          24       0.00      0.00      0.00        21\n",
      "          29       0.00      0.00      0.00       218\n",
      "          30       0.00      0.00      0.00       170\n",
      "          31       0.00      0.00      0.00       123\n",
      "          32       0.00      0.00      0.00       175\n",
      "          33       0.00      0.00      0.00        39\n",
      "          37       0.00      0.00      0.00        27\n",
      "          39       0.00      0.00      0.00       218\n",
      "          40       0.00      0.00      0.00       182\n",
      "          41       0.00      0.00      0.00        51\n",
      "          45       0.00      0.00      0.00        41\n",
      "          49       0.00      0.00      0.00        29\n",
      "          50       0.00      0.00      0.00        79\n",
      "          52       0.00      0.00      0.00        29\n",
      "          59       0.00      0.00      0.00        74\n",
      "          60       0.00      0.00      0.00        22\n",
      "          63       0.00      0.00      0.00        22\n",
      "          66       0.00      0.00      0.00        20\n",
      "          69       0.00      0.00      0.00       189\n",
      "          70       0.00      0.00      0.00        15\n",
      "          77       0.00      0.00      0.00        24\n",
      "          79       0.03      0.99      0.06       113\n",
      "          80       0.00      0.00      0.00       109\n",
      "          90       0.00      0.00      0.00       206\n",
      "          91       0.00      0.00      0.00       134\n",
      "          92       0.00      0.00      0.00        64\n",
      "          93       0.00      0.00      0.00        93\n",
      "          95       0.00      0.00      0.00        53\n",
      "          96       0.00      0.00      0.00        27\n",
      "          97       0.00      0.00      0.00        34\n",
      "          98       0.00      0.00      0.00        25\n",
      "          99       0.00      0.00      0.00       204\n",
      "\n",
      "    accuracy                           0.03      4447\n",
      "   macro avg       0.00      0.02      0.00      4447\n",
      "weighted avg       0.00      0.03      0.00      4447\n",
      "\n"
     ]
    },
    {
     "output_type": "stream",
     "name": "stderr",
     "text": [
      "/home/pedrox/.local/lib/python3.9/site-packages/sklearn/metrics/_classification.py:1248: UndefinedMetricWarning: Precision and F-score are ill-defined and being set to 0.0 in labels with no predicted samples. Use `zero_division` parameter to control this behavior.\n",
      "  _warn_prf(average, modifier, msg_start, len(result))\n",
      "/home/pedrox/.local/lib/python3.9/site-packages/sklearn/metrics/_classification.py:1248: UndefinedMetricWarning: Precision and F-score are ill-defined and being set to 0.0 in labels with no predicted samples. Use `zero_division` parameter to control this behavior.\n",
      "  _warn_prf(average, modifier, msg_start, len(result))\n",
      "/home/pedrox/.local/lib/python3.9/site-packages/sklearn/metrics/_classification.py:1248: UndefinedMetricWarning: Precision and F-score are ill-defined and being set to 0.0 in labels with no predicted samples. Use `zero_division` parameter to control this behavior.\n",
      "  _warn_prf(average, modifier, msg_start, len(result))\n"
     ]
    }
   ],
   "metadata": {}
  }
 ],
 "metadata": {
  "interpreter": {
   "hash": "916dbcbb3f70747c44a77c7bcd40155683ae19c65e1c03b4aa3499c5328201f1"
  },
  "kernelspec": {
   "name": "python3",
   "display_name": "Python 3.9.5 64-bit"
  },
  "language_info": {
   "codemirror_mode": {
    "name": "ipython",
    "version": 3
   },
   "file_extension": ".py",
   "mimetype": "text/x-python",
   "name": "python",
   "nbconvert_exporter": "python",
   "pygments_lexer": "ipython3",
   "version": "3.9.5"
  },
  "orig_nbformat": 4
 },
 "nbformat": 4,
 "nbformat_minor": 2
}