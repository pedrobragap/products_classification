{
 "cells": [
  {
   "cell_type": "code",
   "execution_count": 1,
   "source": [
    "!pip install nltk\n",
    "import nltk\n",
    "nltk.download('punkt')\n",
    "nltk.download('stopwords')\n",
    "nltk.download('rslp')\n",
    "stopwords = set(nltk.corpus.stopwords.words('portuguese'))"
   ],
   "outputs": [
    {
     "output_type": "stream",
     "name": "stdout",
     "text": [
      "Requirement already satisfied: nltk in /home/pedrox/.local/lib/python3.9/site-packages (3.6.2)\n",
      "Requirement already satisfied: tqdm in /home/pedrox/.local/lib/python3.9/site-packages (from nltk) (4.61.2)\n",
      "Requirement already satisfied: regex in /home/pedrox/.local/lib/python3.9/site-packages (from nltk) (2021.7.6)\n",
      "Requirement already satisfied: click in /usr/lib/python3/dist-packages (from nltk) (7.1.2)\n",
      "Requirement already satisfied: joblib in /home/pedrox/.local/lib/python3.9/site-packages (from nltk) (1.0.1)\n"
     ]
    },
    {
     "output_type": "stream",
     "name": "stderr",
     "text": [
      "[nltk_data] Downloading package punkt to /home/pedrox/nltk_data...\n",
      "[nltk_data]   Package punkt is already up-to-date!\n",
      "[nltk_data] Downloading package stopwords to /home/pedrox/nltk_data...\n",
      "[nltk_data]   Package stopwords is already up-to-date!\n",
      "[nltk_data] Downloading package rslp to /home/pedrox/nltk_data...\n",
      "[nltk_data]   Unzipping stemmers/rslp.zip.\n"
     ]
    }
   ],
   "metadata": {}
  },
  {
   "cell_type": "code",
   "execution_count": 2,
   "source": [
    "!pip install pandas\n",
    "import pandas as pd\n",
    "df = pd.read_csv('./data_cleaning.csv',sep=';')\n",
    "#df = df.drop(columns=['index'])\n",
    "df[\"ncm\"] = df[\"ncm\"].astype(str)\n",
    "for i in range(len(df)):\n",
    "  if len(df[\"ncm\"].iloc[i]) < 8:\n",
    "    df[\"ncm\"].iloc[i] = \"0\"+ df[\"ncm\"].iloc[i]\n",
    "df['ncm'] = df['ncm'].astype(str).str[:2]\n",
    "df = df.drop(columns=['Unnamed: 0'])\n",
    "df = df.dropna()"
   ],
   "outputs": [
    {
     "output_type": "stream",
     "name": "stdout",
     "text": [
      "Requirement already satisfied: pandas in /home/pedrox/.local/lib/python3.9/site-packages (1.3.1)\n",
      "Requirement already satisfied: numpy>=1.17.3 in /home/pedrox/.local/lib/python3.9/site-packages (from pandas) (1.21.1)\n",
      "Requirement already satisfied: pytz>=2017.3 in /usr/lib/python3/dist-packages (from pandas) (2021.1)\n",
      "Requirement already satisfied: python-dateutil>=2.7.3 in /usr/lib/python3/dist-packages (from pandas) (2.8.1)\n"
     ]
    },
    {
     "output_type": "stream",
     "name": "stderr",
     "text": [
      "/home/pedrox/.local/lib/python3.9/site-packages/pandas/core/indexing.py:1732: SettingWithCopyWarning: \n",
      "A value is trying to be set on a copy of a slice from a DataFrame\n",
      "\n",
      "See the caveats in the documentation: https://pandas.pydata.org/pandas-docs/stable/user_guide/indexing.html#returning-a-view-versus-a-copy\n",
      "  self._setitem_single_block(indexer, value, name)\n"
     ]
    }
   ],
   "metadata": {}
  },
  {
   "cell_type": "code",
   "execution_count": 3,
   "source": [
    "!pip install matplotlib\n",
    "import matplotlib.pyplot as plt\n",
    "df_group = df.groupby('ncm').count()\n",
    "df_group\n",
    "df_group.plot.bar( figsize=(15, 5))"
   ],
   "outputs": [
    {
     "output_type": "stream",
     "name": "stdout",
     "text": [
      "Requirement already satisfied: matplotlib in /home/pedrox/.local/lib/python3.9/site-packages (3.4.2)\n",
      "Requirement already satisfied: kiwisolver>=1.0.1 in /home/pedrox/.local/lib/python3.9/site-packages (from matplotlib) (1.3.1)\n",
      "Requirement already satisfied: python-dateutil>=2.7 in /usr/lib/python3/dist-packages (from matplotlib) (2.8.1)\n",
      "Requirement already satisfied: pillow>=6.2.0 in /usr/lib/python3/dist-packages (from matplotlib) (8.1.2)\n",
      "Requirement already satisfied: numpy>=1.16 in /home/pedrox/.local/lib/python3.9/site-packages (from matplotlib) (1.21.1)\n",
      "Requirement already satisfied: cycler>=0.10 in /home/pedrox/.local/lib/python3.9/site-packages (from matplotlib) (0.10.0)\n",
      "Requirement already satisfied: pyparsing>=2.2.1 in /home/pedrox/.local/lib/python3.9/site-packages (from matplotlib) (2.4.7)\n",
      "Requirement already satisfied: six in /usr/lib/python3/dist-packages (from cycler>=0.10->matplotlib) (1.15.0)\n"
     ]
    },
    {
     "output_type": "execute_result",
     "data": {
      "text/plain": [
       "<AxesSubplot:xlabel='ncm'>"
      ]
     },
     "metadata": {},
     "execution_count": 3
    },
    {
     "output_type": "display_data",
     "data": {
      "image/png": "[encoded data removed]",
      "text/plain": [
       "<Figure size 1080x360 with 1 Axes>"
      ]
     },
     "metadata": {
      "needs_background": "light"
     }
    }
   ],
   "metadata": {}
  },
  {
   "cell_type": "code",
   "execution_count": 4,
   "source": [
    "over5000 = []\n",
    "median = []\n",
    "less1000 = []\n",
    "\n",
    "for i in range(len(df_group)):\n",
    "    if df_group['descricao_item'].iloc[i] > 5000:\n",
    "        over5000.append(df_group['descricao_item'].index[i])\n",
    "    elif df_group['descricao_item'].iloc[i] < 1000:\n",
    "        less1000.append(df_group['descricao_item'].index[i])\n",
    "    else:\n",
    "        median.append(df_group['descricao_item'].index[i])"
   ],
   "outputs": [],
   "metadata": {}
  },
  {
   "cell_type": "code",
   "execution_count": 5,
   "source": [
    "print(f\"acima de 5000 amostras {len(over5000)}\\nentre 5000 e 1000 {len(median)}\\nabaixo de 1000 {len(less1000)}\")\n"
   ],
   "outputs": [
    {
     "output_type": "stream",
     "name": "stdout",
     "text": [
      "acima de 5000 amostras 19\n",
      "entre 5000 e 1000 31\n",
      "abaixo de 1000 49\n"
     ]
    }
   ],
   "metadata": {}
  },
  {
   "cell_type": "code",
   "execution_count": 6,
   "source": [
    "len(df)"
   ],
   "outputs": [
    {
     "output_type": "execute_result",
     "data": {
      "text/plain": [
       "343240"
      ]
     },
     "metadata": {},
     "execution_count": 6
    }
   ],
   "metadata": {}
  },
  {
   "cell_type": "code",
   "execution_count": 7,
   "source": [
    "#DROP menores que 1000\n",
    "for i in less1000:\n",
    "   df.drop(df.loc[df['ncm'] == i].index, inplace=True)"
   ],
   "outputs": [],
   "metadata": {}
  },
  {
   "cell_type": "code",
   "execution_count": 8,
   "source": [
    "len(df)"
   ],
   "outputs": [
    {
     "output_type": "execute_result",
     "data": {
      "text/plain": [
       "333003"
      ]
     },
     "metadata": {},
     "execution_count": 8
    }
   ],
   "metadata": {}
  },
  {
   "cell_type": "code",
   "execution_count": 9,
   "source": [
    "import pandas as pd\n",
    "import numpy as np\n",
    "\n",
    "\n",
    "for i in over5000: \n",
    "    remove_n = len(df.loc[df['ncm'] == i ]) - 5000\n",
    "    remove_class = i\n",
    "    # Here you first find the indexes where class is equal to the class you want to drop.\n",
    "    #Then you slice only the first n indexes of this class\n",
    "    index_to_drop = df.index[df['ncm'] == remove_class][:remove_n]\n",
    "    #Finally drop those indexes\n",
    "    df = df.drop(index_to_drop)"
   ],
   "outputs": [],
   "metadata": {}
  },
  {
   "cell_type": "code",
   "execution_count": 10,
   "source": [
    "df = df.reset_index()\n",
    "df"
   ],
   "outputs": [
    {
     "output_type": "execute_result",
     "data": {
      "text/html": [
       "<div>\n",
       "<style scoped>\n",
       "    .dataframe tbody tr th:only-of-type {\n",
       "        vertical-align: middle;\n",
       "    }\n",
       "\n",
       "    .dataframe tbody tr th {\n",
       "        vertical-align: top;\n",
       "    }\n",
       "\n",
       "    .dataframe thead th {\n",
       "        text-align: right;\n",
       "    }\n",
       "</style>\n",
       "<table border=\"1\" class=\"dataframe\">\n",
       "  <thead>\n",
       "    <tr style=\"text-align: right;\">\n",
       "      <th></th>\n",
       "      <th>index</th>\n",
       "      <th>descricao_item</th>\n",
       "      <th>ncm</th>\n",
       "    </tr>\n",
       "  </thead>\n",
       "  <tbody>\n",
       "    <tr>\n",
       "      <th>0</th>\n",
       "      <td>5</td>\n",
       "      <td>DISPLAY TOTEN PS MARLUVAS    PES</td>\n",
       "      <td>49</td>\n",
       "    </tr>\n",
       "    <tr>\n",
       "      <th>1</th>\n",
       "      <td>16</td>\n",
       "      <td>OIL E7 15W GRANEL              DEP</td>\n",
       "      <td>27</td>\n",
       "    </tr>\n",
       "    <tr>\n",
       "      <th>2</th>\n",
       "      <td>23</td>\n",
       "      <td>CS K BB  CS TINTA  2L PRETA</td>\n",
       "      <td>32</td>\n",
       "    </tr>\n",
       "    <tr>\n",
       "      <th>3</th>\n",
       "      <td>48</td>\n",
       "      <td>KIT DE PROTECAO INFANTIL CAPITAO ESTRELA   TAM...</td>\n",
       "      <td>65</td>\n",
       "    </tr>\n",
       "    <tr>\n",
       "      <th>4</th>\n",
       "      <td>68</td>\n",
       "      <td>Livro IM Interativo Coreldraw x</td>\n",
       "      <td>49</td>\n",
       "    </tr>\n",
       "    <tr>\n",
       "      <th>...</th>\n",
       "      <td>...</td>\n",
       "      <td>...</td>\n",
       "      <td>...</td>\n",
       "    </tr>\n",
       "    <tr>\n",
       "      <th>160960</th>\n",
       "      <td>343242</td>\n",
       "      <td>ZIN  E   MAQUINA DO VIDRO ESQUERDA PINO ALTO</td>\n",
       "      <td>87</td>\n",
       "    </tr>\n",
       "    <tr>\n",
       "      <th>160961</th>\n",
       "      <td>343243</td>\n",
       "      <td>ZINCO 100CM  3,50KG P MT  CP</td>\n",
       "      <td>72</td>\n",
       "    </tr>\n",
       "    <tr>\n",
       "      <th>160962</th>\n",
       "      <td>343244</td>\n",
       "      <td>ZMM 9010811   ALTERNADOR 12V AMP</td>\n",
       "      <td>85</td>\n",
       "    </tr>\n",
       "    <tr>\n",
       "      <th>160963</th>\n",
       "      <td>343245</td>\n",
       "      <td>ZORDS COM FIGURA E</td>\n",
       "      <td>95</td>\n",
       "    </tr>\n",
       "    <tr>\n",
       "      <th>160964</th>\n",
       "      <td>343246</td>\n",
       "      <td>ZUC ZL   TERMINAL DE DIRECAO ESQUERDO</td>\n",
       "      <td>87</td>\n",
       "    </tr>\n",
       "  </tbody>\n",
       "</table>\n",
       "<p>160965 rows × 3 columns</p>\n",
       "</div>"
      ],
      "text/plain": [
       "         index                                     descricao_item ncm\n",
       "0            5                   DISPLAY TOTEN PS MARLUVAS    PES  49\n",
       "1           16                 OIL E7 15W GRANEL              DEP  27\n",
       "2           23                        CS K BB  CS TINTA  2L PRETA  32\n",
       "3           48  KIT DE PROTECAO INFANTIL CAPITAO ESTRELA   TAM...  65\n",
       "4           68                    Livro IM Interativo Coreldraw x  49\n",
       "...        ...                                                ...  ..\n",
       "160960  343242       ZIN  E   MAQUINA DO VIDRO ESQUERDA PINO ALTO  87\n",
       "160961  343243                       ZINCO 100CM  3,50KG P MT  CP  72\n",
       "160962  343244                   ZMM 9010811   ALTERNADOR 12V AMP  85\n",
       "160963  343245                                 ZORDS COM FIGURA E  95\n",
       "160964  343246              ZUC ZL   TERMINAL DE DIRECAO ESQUERDO  87\n",
       "\n",
       "[160965 rows x 3 columns]"
      ]
     },
     "metadata": {},
     "execution_count": 10
    }
   ],
   "metadata": {}
  },
  {
   "cell_type": "code",
   "execution_count": 11,
   "source": [
    "df = df.drop(columns=['index'])"
   ],
   "outputs": [],
   "metadata": {}
  },
  {
   "cell_type": "code",
   "execution_count": 12,
   "source": [
    "df_group_nw = df.groupby('ncm').count()\n",
    "df_group_nw\n",
    "df_group_nw.plot.bar( figsize=(15, 5))"
   ],
   "outputs": [
    {
     "output_type": "execute_result",
     "data": {
      "text/plain": [
       "<AxesSubplot:xlabel='ncm'>"
      ]
     },
     "metadata": {},
     "execution_count": 12
    },
    {
     "output_type": "display_data",
     "data": {
      "image/png": "[encoded data removed]",
      "text/plain": [
       "<Figure size 1080x360 with 1 Axes>"
      ]
     },
     "metadata": {
      "needs_background": "light"
     }
    }
   ],
   "metadata": {}
  },
  {
   "cell_type": "code",
   "execution_count": 13,
   "source": [
    "palavras_final = []\n",
    "for i in range(len(df['descricao_item'])): \n",
    "    produto = df['descricao_item'].iloc[i]\n",
    "    from string import punctuation\n",
    "    sentencas = nltk.sent_tokenize(produto)\n",
    "    palavras = nltk.word_tokenize(produto.upper())\n",
    "    stemmer = nltk.stem.RSLPStemmer()\n",
    "    palavras_stem = []\n",
    "    for palavra in palavras:\n",
    "        palavras_stem.append(stemmer.stem(palavra))\n",
    "    palavras_sem_stopwords = [palavras_stem for palavras_stem in palavras_stem if palavras_stem not in stopwords]\n",
    "    palavra_final = ' '.join(palavras_sem_stopwords)\n",
    "    palavras_final.append(palavra_final)\n",
    "x = pd.Series(palavras_final)\n",
    "df['descricao_item_clean'] = x"
   ],
   "outputs": [],
   "metadata": {}
  },
  {
   "cell_type": "code",
   "execution_count": 14,
   "source": [
    "df.dropna()"
   ],
   "outputs": [
    {
     "output_type": "execute_result",
     "data": {
      "text/html": [
       "<div>\n",
       "<style scoped>\n",
       "    .dataframe tbody tr th:only-of-type {\n",
       "        vertical-align: middle;\n",
       "    }\n",
       "\n",
       "    .dataframe tbody tr th {\n",
       "        vertical-align: top;\n",
       "    }\n",
       "\n",
       "    .dataframe thead th {\n",
       "        text-align: right;\n",
       "    }\n",
       "</style>\n",
       "<table border=\"1\" class=\"dataframe\">\n",
       "  <thead>\n",
       "    <tr style=\"text-align: right;\">\n",
       "      <th></th>\n",
       "      <th>descricao_item</th>\n",
       "      <th>ncm</th>\n",
       "      <th>descricao_item_clean</th>\n",
       "    </tr>\n",
       "  </thead>\n",
       "  <tbody>\n",
       "    <tr>\n",
       "      <th>0</th>\n",
       "      <td>DISPLAY TOTEN PS MARLUVAS    PES</td>\n",
       "      <td>49</td>\n",
       "      <td>display toten ps marluv pe</td>\n",
       "    </tr>\n",
       "    <tr>\n",
       "      <th>1</th>\n",
       "      <td>OIL E7 15W GRANEL              DEP</td>\n",
       "      <td>27</td>\n",
       "      <td>oil e7 15w granel dep</td>\n",
       "    </tr>\n",
       "    <tr>\n",
       "      <th>2</th>\n",
       "      <td>CS K BB  CS TINTA  2L PRETA</td>\n",
       "      <td>32</td>\n",
       "      <td>cs k bb cs tint 2l pret</td>\n",
       "    </tr>\n",
       "    <tr>\n",
       "      <th>3</th>\n",
       "      <td>KIT DE PROTECAO INFANTIL CAPITAO ESTRELA   TAM...</td>\n",
       "      <td>65</td>\n",
       "      <td>kit proteca infantil capita estrel tamanh unic...</td>\n",
       "    </tr>\n",
       "    <tr>\n",
       "      <th>4</th>\n",
       "      <td>Livro IM Interativo Coreldraw x</td>\n",
       "      <td>49</td>\n",
       "      <td>livr im inter coreldraw x</td>\n",
       "    </tr>\n",
       "    <tr>\n",
       "      <th>...</th>\n",
       "      <td>...</td>\n",
       "      <td>...</td>\n",
       "      <td>...</td>\n",
       "    </tr>\n",
       "    <tr>\n",
       "      <th>160960</th>\n",
       "      <td>ZIN  E   MAQUINA DO VIDRO ESQUERDA PINO ALTO</td>\n",
       "      <td>87</td>\n",
       "      <td>zin maquin vidr esquerd pin alt</td>\n",
       "    </tr>\n",
       "    <tr>\n",
       "      <th>160961</th>\n",
       "      <td>ZINCO 100CM  3,50KG P MT  CP</td>\n",
       "      <td>72</td>\n",
       "      <td>zinc 100cm 3,50kg p mt cp</td>\n",
       "    </tr>\n",
       "    <tr>\n",
       "      <th>160962</th>\n",
       "      <td>ZMM 9010811   ALTERNADOR 12V AMP</td>\n",
       "      <td>85</td>\n",
       "      <td>zmm 9010811 altern 12v amp</td>\n",
       "    </tr>\n",
       "    <tr>\n",
       "      <th>160963</th>\n",
       "      <td>ZORDS COM FIGURA E</td>\n",
       "      <td>95</td>\n",
       "      <td>zord figur</td>\n",
       "    </tr>\n",
       "    <tr>\n",
       "      <th>160964</th>\n",
       "      <td>ZUC ZL   TERMINAL DE DIRECAO ESQUERDO</td>\n",
       "      <td>87</td>\n",
       "      <td>zuc zl term direca esquerd</td>\n",
       "    </tr>\n",
       "  </tbody>\n",
       "</table>\n",
       "<p>160965 rows × 3 columns</p>\n",
       "</div>"
      ],
      "text/plain": [
       "                                           descricao_item ncm  \\\n",
       "0                        DISPLAY TOTEN PS MARLUVAS    PES  49   \n",
       "1                      OIL E7 15W GRANEL              DEP  27   \n",
       "2                             CS K BB  CS TINTA  2L PRETA  32   \n",
       "3       KIT DE PROTECAO INFANTIL CAPITAO ESTRELA   TAM...  65   \n",
       "4                         Livro IM Interativo Coreldraw x  49   \n",
       "...                                                   ...  ..   \n",
       "160960       ZIN  E   MAQUINA DO VIDRO ESQUERDA PINO ALTO  87   \n",
       "160961                       ZINCO 100CM  3,50KG P MT  CP  72   \n",
       "160962                   ZMM 9010811   ALTERNADOR 12V AMP  85   \n",
       "160963                                 ZORDS COM FIGURA E  95   \n",
       "160964              ZUC ZL   TERMINAL DE DIRECAO ESQUERDO  87   \n",
       "\n",
       "                                     descricao_item_clean  \n",
       "0                              display toten ps marluv pe  \n",
       "1                                   oil e7 15w granel dep  \n",
       "2                                 cs k bb cs tint 2l pret  \n",
       "3       kit proteca infantil capita estrel tamanh unic...  \n",
       "4                               livr im inter coreldraw x  \n",
       "...                                                   ...  \n",
       "160960                    zin maquin vidr esquerd pin alt  \n",
       "160961                          zinc 100cm 3,50kg p mt cp  \n",
       "160962                         zmm 9010811 altern 12v amp  \n",
       "160963                                         zord figur  \n",
       "160964                         zuc zl term direca esquerd  \n",
       "\n",
       "[160965 rows x 3 columns]"
      ]
     },
     "metadata": {},
     "execution_count": 14
    }
   ],
   "metadata": {}
  },
  {
   "cell_type": "code",
   "execution_count": 19,
   "source": [
    "!pip install sklearn\n",
    "from sklearn.model_selection import train_test_split\n",
    "from sklearn.feature_extraction.text import TfidfTransformer\n",
    "from sklearn.feature_extraction.text import CountVectorizer\n",
    "from sklearn.preprocessing import LabelEncoder\n",
    "\n",
    "labels = df['ncm']\n",
    "text = df['descricao_item_clean']\n",
    "\n",
    "X_train, X_test, y_train, y_test = train_test_split(text, labels, random_state=0, test_size=0.2)\n",
    "\n",
    "count_vect = CountVectorizer()\n",
    "X_train_counts = count_vect.fit_transform(X_train)\n",
    "tf_transformer = TfidfTransformer().fit(X_train_counts)\n",
    "X_train_transformed = tf_transformer.transform(X_train_counts)\n",
    "\n",
    "X_test_counts = count_vect.transform(X_test)\n",
    "X_test_transformed = tf_transformer.transform(X_test_counts)\n",
    "\n",
    "labels_enc = LabelEncoder()\n",
    "y_train_labels_fit = labels_enc.fit(y_train)\n",
    "y_train_lables_trf = labels_enc.transform(y_train)\n",
    "\n",
    "#print(labels.classes_)"
   ],
   "outputs": [
    {
     "output_type": "stream",
     "name": "stdout",
     "text": [
      "Requirement already satisfied: sklearn in /home/pedrox/.local/lib/python3.9/site-packages (0.0)\n",
      "Requirement already satisfied: scikit-learn in /home/pedrox/.local/lib/python3.9/site-packages (from sklearn) (0.24.2)\n",
      "Requirement already satisfied: threadpoolctl>=2.0.0 in /home/pedrox/.local/lib/python3.9/site-packages (from scikit-learn->sklearn) (2.2.0)\n",
      "Requirement already satisfied: numpy>=1.13.3 in /home/pedrox/.local/lib/python3.9/site-packages (from scikit-learn->sklearn) (1.21.1)\n",
      "Requirement already satisfied: scipy>=0.19.1 in /home/pedrox/.local/lib/python3.9/site-packages (from scikit-learn->sklearn) (1.7.0)\n",
      "Requirement already satisfied: joblib>=0.11 in /home/pedrox/.local/lib/python3.9/site-packages (from scikit-learn->sklearn) (1.0.1)\n"
     ]
    }
   ],
   "metadata": {}
  },
  {
   "cell_type": "code",
   "execution_count": 20,
   "source": [
    "from sklearn.svm import LinearSVC\n",
    "\n",
    "linear_svc = LinearSVC()\n",
    "clf = linear_svc.fit(X_train_transformed,y_train)"
   ],
   "outputs": [],
   "metadata": {}
  },
  {
   "cell_type": "code",
   "execution_count": null,
   "source": [
    "from sklearn import metrics\n",
    "import numpy as np\n",
    "y_test = y_test.astype(int)\n",
    "p_count = count_vect.transform(list(X_test))\n",
    "p_tfidf = tf_transformer.transform(p_count)\n",
    "y_pred = clf.predict(p_tfidf)\n",
    "y_pred = list(map(int, y_pred))\n",
    "print(metrics.classification_report(y_test,y_pred))"
   ],
   "outputs": [],
   "metadata": {}
  }
 ],
 "metadata": {
  "interpreter": {
   "hash": "916dbcbb3f70747c44a77c7bcd40155683ae19c65e1c03b4aa3499c5328201f1"
  },
  "kernelspec": {
   "name": "python3",
   "display_name": "Python 3.9.5 64-bit"
  },
  "language_info": {
   "codemirror_mode": {
    "name": "ipython",
    "version": 3
   },
   "file_extension": ".py",
   "mimetype": "text/x-python",
   "name": "python",
   "nbconvert_exporter": "python",
   "pygments_lexer": "ipython3",
   "version": "3.9.5"
  },
  "orig_nbformat": 4
 },
 "nbformat": 4,
 "nbformat_minor": 2
}