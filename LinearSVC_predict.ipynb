{
 "cells": [
  {
   "cell_type": "code",
   "execution_count": 10,
   "metadata": {},
   "outputs": [
    {
     "data": {
      "text/html": [
       "<div>\n",
       "<style scoped>\n",
       "    .dataframe tbody tr th:only-of-type {\n",
       "        vertical-align: middle;\n",
       "    }\n",
       "\n",
       "    .dataframe tbody tr th {\n",
       "        vertical-align: top;\n",
       "    }\n",
       "\n",
       "    .dataframe thead th {\n",
       "        text-align: right;\n",
       "    }\n",
       "</style>\n",
       "<table border=\"1\" class=\"dataframe\">\n",
       "  <thead>\n",
       "    <tr style=\"text-align: right;\">\n",
       "      <th></th>\n",
       "      <th>descricao_item</th>\n",
       "      <th>ncm</th>\n",
       "    </tr>\n",
       "  </thead>\n",
       "  <tbody>\n",
       "    <tr>\n",
       "      <th>0</th>\n",
       "      <td>BETAISTINA DICLOR MG  CPS   GEN Dicloridrato d...</td>\n",
       "      <td>30049069</td>\n",
       "    </tr>\n",
       "    <tr>\n",
       "      <th>1</th>\n",
       "      <td>BROMOPRIDA MG  CPS   GEN BROMOPRIDA</td>\n",
       "      <td>30049045</td>\n",
       "    </tr>\n",
       "    <tr>\n",
       "      <th>2</th>\n",
       "      <td>DESLORATADINA ,MG ML XPE VD 6ML   GEN DESLORAT...</td>\n",
       "      <td>30049069</td>\n",
       "    </tr>\n",
       "    <tr>\n",
       "      <th>3</th>\n",
       "      <td>ACETILCISTEINA 600MG G  ENV G   GEN ACETILCIST...</td>\n",
       "      <td>30049059</td>\n",
       "    </tr>\n",
       "    <tr>\n",
       "      <th>4</th>\n",
       "      <td>SANDALIA NEW AMAZONAS RETO CAVALERA INV 18 FEM...</td>\n",
       "      <td>64022000</td>\n",
       "    </tr>\n",
       "    <tr>\n",
       "      <th>...</th>\n",
       "      <td>...</td>\n",
       "      <td>...</td>\n",
       "    </tr>\n",
       "    <tr>\n",
       "      <th>343242</th>\n",
       "      <td>ZIN  E   MAQUINA DO VIDRO ESQUERDA PINO ALTO</td>\n",
       "      <td>87082999</td>\n",
       "    </tr>\n",
       "    <tr>\n",
       "      <th>343243</th>\n",
       "      <td>ZINCO 100CM  3,50KG P MT  CP</td>\n",
       "      <td>72104910</td>\n",
       "    </tr>\n",
       "    <tr>\n",
       "      <th>343244</th>\n",
       "      <td>ZMM 9010811   ALTERNADOR 12V AMP</td>\n",
       "      <td>85115010</td>\n",
       "    </tr>\n",
       "    <tr>\n",
       "      <th>343245</th>\n",
       "      <td>ZORDS COM FIGURA E</td>\n",
       "      <td>95030039</td>\n",
       "    </tr>\n",
       "    <tr>\n",
       "      <th>343246</th>\n",
       "      <td>ZUC ZL   TERMINAL DE DIRECAO ESQUERDO</td>\n",
       "      <td>87089412</td>\n",
       "    </tr>\n",
       "  </tbody>\n",
       "</table>\n",
       "<p>343247 rows × 2 columns</p>\n",
       "</div>"
      ],
      "text/plain": [
       "                                           descricao_item       ncm\n",
       "0       BETAISTINA DICLOR MG  CPS   GEN Dicloridrato d...  30049069\n",
       "1                     BROMOPRIDA MG  CPS   GEN BROMOPRIDA  30049045\n",
       "2       DESLORATADINA ,MG ML XPE VD 6ML   GEN DESLORAT...  30049069\n",
       "3       ACETILCISTEINA 600MG G  ENV G   GEN ACETILCIST...  30049059\n",
       "4       SANDALIA NEW AMAZONAS RETO CAVALERA INV 18 FEM...  64022000\n",
       "...                                                   ...       ...\n",
       "343242       ZIN  E   MAQUINA DO VIDRO ESQUERDA PINO ALTO  87082999\n",
       "343243                       ZINCO 100CM  3,50KG P MT  CP  72104910\n",
       "343244                   ZMM 9010811   ALTERNADOR 12V AMP  85115010\n",
       "343245                                 ZORDS COM FIGURA E  95030039\n",
       "343246              ZUC ZL   TERMINAL DE DIRECAO ESQUERDO  87089412\n",
       "\n",
       "[343247 rows x 2 columns]"
      ]
     },
     "execution_count": 10,
     "metadata": {},
     "output_type": "execute_result"
    }
   ],
   "source": [
    "import pandas as pd\r\n",
    "df = pd.read_csv('C:/Users/Pedro/Desktop/arquivos_exemplos/TCC/data_cleaning.csv',sep=';')\r\n",
    "df = df.drop(columns=['index'])\r\n",
    "df[\"ncm\"] = df[\"ncm\"].astype(str)\r\n",
    "for i in range(len(df)):\r\n",
    "  if len(df[\"ncm\"].iloc[i]) < 8:\r\n",
    "    df[\"ncm\"].iloc[i] = \"0\"+ df[\"ncm\"].iloc[i]\r\n",
    "df['ncm'] = df['ncm'].astype(str).str[:2]\r\n"
   ]
  },
  {
   "cell_type": "code",
   "execution_count": 15,
   "metadata": {},
   "outputs": [
    {
     "data": {
      "text/plain": [
       "<Figure size 720x432 with 0 Axes>"
      ]
     },
     "metadata": {},
     "output_type": "display_data"
    },
    {
     "data": {
      "image/png": "[encoded data removed]",
      "text/plain": [
       "<Figure size 432x288 with 1 Axes>"
      ]
     },
     "metadata": {
      "needs_background": "light"
     },
     "output_type": "display_data"
    }
   ],
   "source": [
    "import matplotlib.pyplot as plt\r\n",
    "fig = plt.figure(figsize=(10,6))\r\n",
    "df = df[['ncm','descricao_item']]\r\n",
    "df.groupby('ncm').count().plot.bar(ylim=0)\r\n",
    "plt.show()"
   ]
  },
  {
   "cell_type": "code",
   "execution_count": 16,
   "metadata": {},
   "outputs": [],
   "source": [
    "from sklearn.model_selection import train_test_split\r\n",
    "from sklearn.feature_extraction.text import TfidfTransformer\r\n",
    "from sklearn.feature_extraction.text import CountVectorizer\r\n",
    "from sklearn.preprocessing import LabelEncoder\r\n",
    "\r\n",
    "labels = df['ncm']\r\n",
    "text = df['descricao_item']\r\n",
    "\r\n",
    "X_train, X_test, y_train, y_test = train_test_split(text, labels, random_state=0, test_size=0.3)\r\n",
    "\r\n",
    "count_vect = CountVectorizer()\r\n",
    "X_train_counts = count_vect.fit_transform(X_train)\r\n",
    "tf_transformer = TfidfTransformer().fit(X_train_counts)\r\n",
    "X_train_transformed = tf_transformer.transform(X_train_counts)\r\n",
    "\r\n",
    "X_test_counts = count_vect.transform(X_test)\r\n",
    "X_test_transformed = tf_transformer.transform(X_test_counts)\r\n",
    "\r\n",
    "labels = LabelEncoder()\r\n",
    "y_train_labels_fit = labels.fit(y_train)\r\n",
    "y_train_lables_trf = labels.transform(y_train)\r\n",
    "\r\n",
    "#print(labels.classes_)"
   ]
  },
  {
   "cell_type": "code",
   "execution_count": 17,
   "metadata": {},
   "outputs": [
    {
     "name": "stdout",
     "output_type": "stream",
     "text": [
      "COCA COLA 2L\n",
      "  - Predicted as: '159'\n",
      "\n"
     ]
    }
   ],
   "source": [
    "from sklearn.svm import LinearSVC\r\n",
    "\r\n",
    "linear_svc = LinearSVC()\r\n",
    "clf = linear_svc.fit(X_train_transformed,y_train_lables_trf)\r\n",
    "texts = [\"COCA COLA 2L\"]\r\n",
    "p_count = count_vect.transform(texts)\r\n",
    "p_tfidf = tf_transformer.transform(p_count)\r\n",
    "predictions = clf.predict(p_tfidf)\r\n",
    "for text, predicted in zip(texts, predictions):\r\n",
    "  print(f'{text}')\r\n",
    "  print(f\"  - Predicted as: {labels.classes_[predicted]}\")\r\n",
    "  print(\"\")"
   ]
  }
 ],
 "metadata": {
  "interpreter": {
   "hash": "eb1a3d8c7dad79be73d9427f058ed676cf5bd543ef481e776052cfa6e7a46cfb"
  },
  "kernelspec": {
   "display_name": "Python 3.8.6 64-bit",
   "name": "python3"
  },
  "language_info": {
   "codemirror_mode": {
    "name": "ipython",
    "version": 3
   },
   "file_extension": ".py",
   "mimetype": "text/x-python",
   "name": "python",
   "nbconvert_exporter": "python",
   "pygments_lexer": "ipython3",
   "version": "3.8.6"
  },
  "orig_nbformat": 4
 },
 "nbformat": 4,
 "nbformat_minor": 2
}